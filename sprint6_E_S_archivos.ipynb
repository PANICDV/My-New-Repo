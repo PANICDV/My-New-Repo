{
  "nbformat": 4,
  "nbformat_minor": 0,
  "metadata": {
    "colab": {
      "provenance": [],
      "authorship_tag": "ABX9TyM3OlgsYGc4f9hQxTVGJfGN",
      "include_colab_link": true
    },
    "kernelspec": {
      "name": "python3",
      "display_name": "Python 3"
    },
    "language_info": {
      "name": "python"
    }
  },
  "cells": [
    {
      "cell_type": "markdown",
      "metadata": {
        "id": "view-in-github",
        "colab_type": "text"
      },
      "source": [
        "<a href=\"https://colab.research.google.com/github/PANICDV/My-New-Repo/blob/main/sprint6_E_S_archivos.ipynb\" target=\"_parent\"><img src=\"https://colab.research.google.com/assets/colab-badge.svg\" alt=\"Open In Colab\"/></a>"
      ]
    },
    {
      "cell_type": "code",
      "execution_count": null,
      "metadata": {
        "id": "P6xTsQlljhWX"
      },
      "outputs": [],
      "source": [
        "lines = ['uno', 'dos', 'tres']\n",
        "\n",
        "with open('lines.txt','w') as f:\n",
        "    f.write('\\n' .join(lines))"
      ]
    },
    {
      "cell_type": "markdown",
      "source": [
        "Creamos una lista lines con los elementos ['uno', 'dos', 'tres'].\n",
        "Utilizamos la instrucción with para abrir el archivo lines.txt en modo de escritura ('w').\n",
        "Esto garantiza que el archivo se cierre automáticamente cuando terminamos de escribir en él.\n",
        "\n",
        "Dentro del bloque with, utilizamos el método write() para escribir el contenido en el archivo.\n",
        "\n",
        "Utilizamos el método join() para unir los elementos de la lista lines con una nueva línea ('\\n') como separador.\n",
        "\n",
        "Al final, el archivo lines.txt contendrá las líneas separadas:"
      ],
      "metadata": {
        "id": "aclK1HO-jpDI"
      }
    },
    {
      "cell_type": "code",
      "source": [
        "with open('lines.txt', 'r') as f:\n",
        "    for line in f:\n",
        "        print(line.strip())"
      ],
      "metadata": {
        "id": "JuSUl4u7juoy"
      },
      "execution_count": null,
      "outputs": []
    },
    {
      "cell_type": "markdown",
      "source": [
        "Utilizamos la instrucción with para abrir el archivo lines.txt en modo de lectura ('r').\n",
        "Esto garantiza que el archivo se cierre automáticamente cuando terminamos de leerlo.\n",
        "\n",
        "Dentro del bloque with, utilizamos un bucle for para iterar sobre cada línea del archivo.\n",
        "\n",
        "En cada iteración, la variable line contiene la línea actual del archivo, incluyendo el carácter de nueva línea ('\\n') al final.\n",
        "\n",
        "Utilizamos el método strip() para eliminar el carácter de nueva línea ('\\n') y otros caracteres de espacio en blanco del final de la línea.\n",
        "\n",
        "Finalmente, imprimimos la línea procesada utilizando print()."
      ],
      "metadata": {
        "id": "xeuR_-f1kTm2"
      }
    },
    {
      "cell_type": "code",
      "source": [
        "import json\n",
        "import requests\n",
        "\n",
        "# obtener datos de internet\n",
        "response = requests.get('https://dummyjson.com/products/category/smartphones')\n",
        "text = response.text\n",
        "\n",
        "json_data = json.loads(text)\n",
        "products = json_data['products']\n",
        "\n",
        "items = []\n",
        "brand = 'Samsung'\n",
        "\n",
        "for entry in products:\n",
        "\tif entry['brand'] == brand:\n",
        "            items.append(entry)\n",
        "\n",
        "with open( 'samsung_items.json', 'w') as f:\n",
        "    json.dump(items,f, indent =4)"
      ],
      "metadata": {
        "id": "hzSkVfVDkZ5j"
      },
      "execution_count": null,
      "outputs": []
    },
    {
      "cell_type": "markdown",
      "source": [
        "Utilizamos la función json.loads() para analizar los datos descargados como un archivo JSON y almacenarlos en la variable json_data.\n",
        "\n",
        "Extraemos la lista de productos de json_data utilizando la clave 'products'.\n",
        "\n",
        "Creamos una lista vacía items para almacenar los productos de Samsung.\n",
        "\n",
        "Recorremos la lista products y, para cada entrada, verificamos si el valor de la clave 'brand' coincide con el valor de la variable brand ('Samsung').\n",
        " Si es así, agregamos la entrada completa a la lista items.\n",
        "\n",
        "Finalmente, creamos un archivo 'samsung_items.json' y guardamos la lista items en él utilizando la función json.dump()."
      ],
      "metadata": {
        "id": "OHXI9l29mA11"
      }
    }
  ]
}