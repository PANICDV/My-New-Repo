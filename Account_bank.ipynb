{
  "nbformat": 4,
  "nbformat_minor": 0,
  "metadata": {
    "colab": {
      "provenance": [],
      "authorship_tag": "ABX9TyMPMdsT+HaGYBZR8fs/0erW",
      "include_colab_link": true
    },
    "kernelspec": {
      "name": "python3",
      "display_name": "Python 3"
    },
    "language_info": {
      "name": "python"
    }
  },
  "cells": [
    {
      "cell_type": "markdown",
      "metadata": {
        "id": "view-in-github",
        "colab_type": "text"
      },
      "source": [
        "<a href=\"https://colab.research.google.com/github/PANICDV/My-New-Repo/blob/main/Account_bank.ipynb\" target=\"_parent\"><img src=\"https://colab.research.google.com/assets/colab-badge.svg\" alt=\"Open In Colab\"/></a>"
      ]
    },
    {
      "cell_type": "markdown",
      "source": [
        "**Colocamos el modulo date time para usar NOW()**"
      ],
      "metadata": {
        "id": "YNbR9vVqgQ5z"
      }
    },
    {
      "cell_type": "code",
      "execution_count": 3,
      "metadata": {
        "id": "_Z28h8rVf-Px"
      },
      "outputs": [],
      "source": [
        "import datetime as dt"
      ]
    },
    {
      "cell_type": "markdown",
      "source": [
        "** creamos la clase Account con sus atributos. al final colocamos balance en float y start_date la funcio now() para crear automaticamente la fecha de creacion de la cuenta.*"
      ],
      "metadata": {
        "id": "309Dr28mgpZA"
      }
    },
    {
      "cell_type": "code",
      "source": [
        "class Account:\n",
        "    def __init__(self, bank, acc_id, holder_id, balance:float=0.0):\n",
        "        self.bank = bank\n",
        "        self.acc_id = acc_id\n",
        "        self.holder_id = holder_id\n",
        "        self.balance = balance\n",
        "        self.start_date = dt.datetime.now()"
      ],
      "metadata": {
        "id": "RXH0ikJrgMeA"
      },
      "execution_count": 4,
      "outputs": []
    },
    {
      "cell_type": "markdown",
      "source": [
        "**Empezamos ha definir acciones cuando se deposita y se retira*"
      ],
      "metadata": {
        "id": "z2XNV-QphA9R"
      }
    },
    {
      "cell_type": "code",
      "source": [
        "    def deposit(self, amount:float):\n",
        "        self.balance += amount\n",
        "\n",
        "    def withdraw(self, amount:float):\n",
        "        if amount > self.balance:\n",
        "            print('No tiene suficiente saldo para retirar')\n",
        "        else:\n",
        "            self.balance -=amount"
      ],
      "metadata": {
        "id": "clqoOy-YgPv8"
      },
      "execution_count": 7,
      "outputs": []
    },
    {
      "cell_type": "code",
      "source": [
        " @staticmethod\n",
        " def bankphone(bank_name: str):\n",
        "        '''\n",
        "        imprime el número del banco\n",
        "        '''\n",
        "        print('1-000-1234567')"
      ],
      "metadata": {
        "id": "XdylYVquj55k"
      },
      "execution_count": 8,
      "outputs": []
    },
    {
      "cell_type": "markdown",
      "source": [
        "Explicación:\n",
        "\n",
        "Agregamos el método bankphone() como un método estático, lo que significa que no necesita una instancia de la clase Account para ser llamado.\n",
        "\n",
        "El método bankphone() toma un parámetro bank_name que no se utiliza en este caso, ya que estamos simplificando la implementación.\n",
        "\n",
        "El método simplemente imprime el número de teléfono del banco, que es siempre \"1-000-1234567\" en este caso."
      ],
      "metadata": {
        "id": "pFs3tv6Tj4I4"
      }
    },
    {
      "cell_type": "code",
      "source": [
        " @classmethod\n",
        "        def quick(cls, account_holder_string: str):\n",
        "        '''\n",
        "        crea una cuenta a partir de una cadena\n",
        "        usando solo las identificaciones de cuenta y titular\n",
        "        separadas por una barra\n",
        "        '''\n",
        "        acc_id, holder_id = account_holder_string.split(\"/\")\n",
        "        return cls('default_bank', acc_id, holder_id, 0.0)"
      ],
      "metadata": {
        "id": "5DMyr_t49fOM"
      },
      "execution_count": null,
      "outputs": []
    },
    {
      "cell_type": "markdown",
      "source": [
        "Explicación:\n",
        "\n",
        "Agregamos el método quick() como un método de clase, lo que significa que se llama en la clase Account en lugar de una instancia de la clase.\n",
        "\n",
        "El método quick() toma una cadena account_holder_string que contiene las ID de cuenta y titular, separadas por una barra diagonal (/).\n",
        "\n",
        "Utilizamos el método split() para dividir la cadena en dos partes: acc_id y holder_id.\n",
        "\n",
        "Luego, creamos una instancia de la clase Account con los valores predeterminados: bank es default_bank, acc_id y holder_id son los valores extraídos de la cadena, y balance es 0.0.\n",
        "\n",
        "Finalmente, el método quick() devuelve la instancia de la clase Account creada."
      ],
      "metadata": {
        "id": "B5QqeQ0e9mMY"
      }
    },
    {
      "cell_type": "code",
      "source": [
        "first = Account( 'old_trusty', '001', '10043', 500.0)\n",
        "first.deposit(250)\n",
        "first.withdraw(400)\n",
        "print(first.balance)\n",
        "\n",
        "second = Account.quick('002/10123')\n",
        "print(second.start_date.year)"
      ],
      "metadata": {
        "colab": {
          "base_uri": "https://localhost:8080/"
        },
        "id": "Bzt1N208C-rS",
        "outputId": "28af7878-a537-4cdd-dc22-ba33b88a2ca3"
      },
      "execution_count": 14,
      "outputs": [
        {
          "output_type": "stream",
          "name": "stdout",
          "text": [
            "350.0\n",
            "2024\n"
          ]
        }
      ]
    },
    {
      "cell_type": "markdown",
      "source": [
        "Creamos la primera instancia first utilizando el constructor predeterminado, pasando la información requerida: bank='old_trusty', acc_id='001', holder_id='10043' y balance=500.0.\n",
        "\n",
        "Depositamos 250 unidades en la cuenta utilizando el método deposit.\n",
        "Retiramos 400 unidades de la cuenta utilizando el método withdraw.\n",
        "Imprimimos el saldo actual de la cuenta utilizando print(first.balance).\n",
        "Creamos la segunda instancia second utilizando el método quick, pasando la cadena '002/10123'.\n",
        "\n",
        "Imprimimos el año de creación de la segunda cuenta utilizando print(second.start_date.year)."
      ],
      "metadata": {
        "id": "g0Ke0pVbDA_4"
      }
    },
    {
      "cell_type": "code",
      "source": [
        "class Account:\n",
        "    def __init__(self, bank_name: str, acc_id: str, holder_id: str, start_balance: float = 0.0):\n",
        "        self.bank_name = bank_name\n",
        "        self.acc_id = acc_id\n",
        "        self.holder_id = holder_id\n",
        "        self.start_date = datetime.datetime.today()\n",
        "        self.balance = start_balance\n",
        "\n",
        "\n",
        "    @classmethod\n",
        "    def quick(cls, account_holder_string: str):\n",
        "        '''\n",
        "        crea una cuenta a partir de una cadena\n",
        "        usando solo las identificaciones de cuenta y titular\n",
        "        separadas por una barra\n",
        "        '''\n",
        "        acc_id, holder_id = account_holder_string.split(\"/\")\n",
        "        return cls('default_bank', acc_id, holder_id, 0.0)\n",
        "\n",
        "    @staticmethod\n",
        "    def bankphone(bank_name: str):\n",
        "        '''\n",
        "        imprime el número del banco\n",
        "        '''\n",
        "        print('1-000-1234567')\n",
        "\n",
        "    def deposit(self, amount: float):\n",
        "        '''\n",
        "        Depositar dinero en la cuenta\n",
        "        '''\n",
        "        self.balance += amount\n",
        "\n",
        "    def withdraw(self, amount: float):\n",
        "        '''\n",
        "        Sacar dinero de la cuenta\n",
        "        '''\n",
        "        self.balance -= amount\n",
        "\n",
        "!pip install datetime\n",
        "import datetime\n",
        "\n",
        "first = Account( 'old_trusty', '001', '10043', 500.0)\n",
        "first.deposit(250)\n",
        "first.withdraw(400)\n",
        "print( first.balance)\n",
        "\n",
        "second = Account.quick('002/10123')\n",
        "print( second.start_date.year)"
      ],
      "metadata": {
        "colab": {
          "base_uri": "https://localhost:8080/"
        },
        "id": "ixaXH1tSKEan",
        "outputId": "f997abee-ff46-4162-809c-4919ab811630"
      },
      "execution_count": 13,
      "outputs": [
        {
          "output_type": "stream",
          "name": "stdout",
          "text": [
            "Collecting datetime\n",
            "  Downloading DateTime-5.5-py3-none-any.whl.metadata (33 kB)\n",
            "Collecting zope.interface (from datetime)\n",
            "  Downloading zope.interface-7.0.3-cp310-cp310-manylinux_2_5_x86_64.manylinux1_x86_64.manylinux_2_17_x86_64.manylinux2014_x86_64.whl.metadata (43 kB)\n",
            "\u001b[2K     \u001b[90m━━━━━━━━━━━━━━━━━━━━━━━━━━━━━━━━━━━━━━━━\u001b[0m \u001b[32m43.6/43.6 kB\u001b[0m \u001b[31m2.1 MB/s\u001b[0m eta \u001b[36m0:00:00\u001b[0m\n",
            "\u001b[?25hRequirement already satisfied: pytz in /usr/local/lib/python3.10/dist-packages (from datetime) (2024.1)\n",
            "Requirement already satisfied: setuptools in /usr/local/lib/python3.10/dist-packages (from zope.interface->datetime) (71.0.4)\n",
            "Downloading DateTime-5.5-py3-none-any.whl (52 kB)\n",
            "\u001b[2K   \u001b[90m━━━━━━━━━━━━━━━━━━━━━━━━━━━━━━━━━━━━━━━━\u001b[0m \u001b[32m52.6/52.6 kB\u001b[0m \u001b[31m3.4 MB/s\u001b[0m eta \u001b[36m0:00:00\u001b[0m\n",
            "\u001b[?25hDownloading zope.interface-7.0.3-cp310-cp310-manylinux_2_5_x86_64.manylinux1_x86_64.manylinux_2_17_x86_64.manylinux2014_x86_64.whl (254 kB)\n",
            "\u001b[2K   \u001b[90m━━━━━━━━━━━━━━━━━━━━━━━━━━━━━━━━━━━━━━━━\u001b[0m \u001b[32m254.1/254.1 kB\u001b[0m \u001b[31m10.1 MB/s\u001b[0m eta \u001b[36m0:00:00\u001b[0m\n",
            "\u001b[?25hInstalling collected packages: zope.interface, datetime\n",
            "Successfully installed datetime-5.5 zope.interface-7.0.3\n",
            "350.0\n",
            "2024\n"
          ]
        }
      ]
    }
  ]
}