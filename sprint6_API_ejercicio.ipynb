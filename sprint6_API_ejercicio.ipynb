{
  "nbformat": 4,
  "nbformat_minor": 0,
  "metadata": {
    "colab": {
      "provenance": [],
      "authorship_tag": "ABX9TyOzyPYxaXGE2cQYh7GFjBVG",
      "include_colab_link": true
    },
    "kernelspec": {
      "name": "python3",
      "display_name": "Python 3"
    },
    "language_info": {
      "name": "python"
    }
  },
  "cells": [
    {
      "cell_type": "markdown",
      "metadata": {
        "id": "view-in-github",
        "colab_type": "text"
      },
      "source": [
        "<a href=\"https://colab.research.google.com/github/PANICDV/My-New-Repo/blob/main/sprint6_API_ejercicio.ipynb\" target=\"_parent\"><img src=\"https://colab.research.google.com/assets/colab-badge.svg\" alt=\"Open In Colab\"/></a>"
      ]
    },
    {
      "cell_type": "markdown",
      "source": [
        "\n",
        "La API web es una herramienta versátil utilizada por más que solo empresas: hay muchos museos, bibliotecas, proyectos científicos y entusiastas que ponen su información y servicios a disposición del público en general. Utiliza la librería requests y el endpoint proporcionado en la url para obtener información sobre una pintura de la colección del Museo Metropolitano. Examina la URL: el enlace base es https://collectionapi.metmuseum.org/, luego nos dirigimos a un recurso específico. En algún momento hay una parte v1. Esta es la versión de la API. Las diferentes versiones pueden actuar de manera diferente, por lo que es común reflejar la actual. Finalmente, el número 437133 es la identificación de la pintura.\n",
        "\n",
        "Importa requests.\n",
        "Llama al endpoint mediante la url proporcionada. Recupera el resultado en formato JSON aplicándole el método apropiado. Guarda la JSON resultante en la variable response.\n",
        "Muestra artistDisplayName desde JSON llamándolo por la clave."
      ],
      "metadata": {
        "id": "GhxBHY8mIxNy"
      }
    },
    {
      "cell_type": "markdown",
      "source": [
        "Para resolver este ejercicio, necesitamos importar la librería requests y utilizarla para llamar al endpoint proporcionado. Luego, podemos recuperar el resultado en formato JSON y mostrar la información deseada."
      ],
      "metadata": {
        "id": "1Mh2coXOJBZH"
      }
    },
    {
      "cell_type": "code",
      "source": [
        "import requests\n",
        "\n",
        "base_url = 'https://collectionapi.metmuseum.org/'\n",
        "url = base_url + 'public/collection/v1/objects/437133'\n",
        "\n",
        "response = requests.get(url)\n",
        "response_json = response.json()\n",
        "\n",
        "print(response_json['artistDisplayName'])"
      ],
      "metadata": {
        "colab": {
          "base_uri": "https://localhost:8080/"
        },
        "id": "oKQKdzsvJCkT",
        "outputId": "5f86f6ff-1113-4d55-eca7-6c5a835ecc3b"
      },
      "execution_count": 16,
      "outputs": [
        {
          "output_type": "stream",
          "name": "stdout",
          "text": [
            "Claude Monet\n"
          ]
        }
      ]
    },
    {
      "cell_type": "markdown",
      "source": [
        "**Podemos obtener mucha información con una sola solicitud, a menudo es información más detallada que la que podemos ver en una API de alojamiento de sitios web.*"
      ],
      "metadata": {
        "id": "D7vzxE0UJcu8"
      }
    },
    {
      "cell_type": "markdown",
      "source": [
        "Para llegar al endpoint public/collection/v1/departments utilizando la misma URL base, simplemente agrega /public/collection/v1/departments a la URL base. Guarda la URL resultante en la variable url.\n",
        "\n",
        "A continuación, en el precódigo, verás una línea donde almacenamos la respuesta del endpoint y la guardamos en la variable response.\n",
        "\n",
        "Tu objetivo ahora es convertir la respuesta en un archivo JSON. Luego, itera sobre response.json()['departments'] y muestra los que tienen 'Art' en dpt['displayName']."
      ],
      "metadata": {
        "id": "z3iUfvOpJnw6"
      }
    },
    {
      "cell_type": "code",
      "source": [
        "\n",
        "base_url = 'https://collectionapi.metmuseum.org/'\n",
        "url = base_url + 'public/collection/v1/departments'\n",
        "\n",
        "response = requests.get(url)\n",
        "\n",
        "for dpt in response.json()['departments']:\n",
        "    if 'Art' in dpt['displayName']:\n",
        "        print(dpt)"
      ],
      "metadata": {
        "colab": {
          "base_uri": "https://localhost:8080/"
        },
        "id": "VXvVbPhPJi8I",
        "outputId": "2de0fbe0-dc26-42e5-e4f8-ffaa272ceda5"
      },
      "execution_count": 17,
      "outputs": [
        {
          "output_type": "stream",
          "name": "stdout",
          "text": [
            "{'departmentId': 1, 'displayName': 'American Decorative Arts'}\n",
            "{'departmentId': 3, 'displayName': 'Ancient Near Eastern Art'}\n",
            "{'departmentId': 5, 'displayName': 'Arts of Africa, Oceania, and the Americas'}\n",
            "{'departmentId': 6, 'displayName': 'Asian Art'}\n",
            "{'departmentId': 10, 'displayName': 'Egyptian Art'}\n",
            "{'departmentId': 12, 'displayName': 'European Sculpture and Decorative Arts'}\n",
            "{'departmentId': 13, 'displayName': 'Greek and Roman Art'}\n",
            "{'departmentId': 14, 'displayName': 'Islamic Art'}\n",
            "{'departmentId': 17, 'displayName': 'Medieval Art'}\n",
            "{'departmentId': 21, 'displayName': 'Modern Art'}\n"
          ]
        }
      ]
    },
    {
      "cell_type": "markdown",
      "source": [
        "Tenemos la lista completa de los departamentos de arte del museo sin tener que navegar por su sitio."
      ],
      "metadata": {
        "id": "sn8wecPYKTJx"
      }
    },
    {
      "cell_type": "markdown",
      "source": [
        "**En esta tarea, utilizarás parámetros de solicitud. La URL de esta tarea se ha guardado en la variable url. Tu objetivo es establecer params = {'limit': 3} cuando utilices el método get(). Esto permitirá recuperar solo las tres primeras entradas. Almacena la respuesta en la variable response, luego conviértela a JSON y muéstrala.*"
      ],
      "metadata": {
        "id": "8MrmZq1PKnF1"
      }
    },
    {
      "cell_type": "code",
      "source": [
        "url = 'https://dummyjson.com/products'\n",
        "params = {'limit': 3}\n",
        "response = requests.get(url, params=params)\n",
        "print(response.json())"
      ],
      "metadata": {
        "colab": {
          "base_uri": "https://localhost:8080/"
        },
        "id": "3XWnRSR1KVSn",
        "outputId": "3ad8423b-4a41-4828-a879-21380b286f93"
      },
      "execution_count": 18,
      "outputs": [
        {
          "output_type": "stream",
          "name": "stdout",
          "text": [
            "{'products': [{'id': 1, 'title': 'Essence Mascara Lash Princess', 'description': 'The Essence Mascara Lash Princess is a popular mascara known for its volumizing and lengthening effects. Achieve dramatic lashes with this long-lasting and cruelty-free formula.', 'category': 'beauty', 'price': 9.99, 'discountPercentage': 7.17, 'rating': 4.94, 'stock': 5, 'tags': ['beauty', 'mascara'], 'brand': 'Essence', 'sku': 'RCH45Q1A', 'weight': 2, 'dimensions': {'width': 23.17, 'height': 14.43, 'depth': 28.01}, 'warrantyInformation': '1 month warranty', 'shippingInformation': 'Ships in 1 month', 'availabilityStatus': 'Low Stock', 'reviews': [{'rating': 2, 'comment': 'Very unhappy with my purchase!', 'date': '2024-05-23T08:56:21.618Z', 'reviewerName': 'John Doe', 'reviewerEmail': 'john.doe@x.dummyjson.com'}, {'rating': 2, 'comment': 'Not as described!', 'date': '2024-05-23T08:56:21.618Z', 'reviewerName': 'Nolan Gonzalez', 'reviewerEmail': 'nolan.gonzalez@x.dummyjson.com'}, {'rating': 5, 'comment': 'Very satisfied!', 'date': '2024-05-23T08:56:21.618Z', 'reviewerName': 'Scarlett Wright', 'reviewerEmail': 'scarlett.wright@x.dummyjson.com'}], 'returnPolicy': '30 days return policy', 'minimumOrderQuantity': 24, 'meta': {'createdAt': '2024-05-23T08:56:21.618Z', 'updatedAt': '2024-05-23T08:56:21.618Z', 'barcode': '9164035109868', 'qrCode': 'https://assets.dummyjson.com/public/qr-code.png'}, 'images': ['https://cdn.dummyjson.com/products/images/beauty/Essence%20Mascara%20Lash%20Princess/1.png'], 'thumbnail': 'https://cdn.dummyjson.com/products/images/beauty/Essence%20Mascara%20Lash%20Princess/thumbnail.png'}, {'id': 2, 'title': 'Eyeshadow Palette with Mirror', 'description': \"The Eyeshadow Palette with Mirror offers a versatile range of eyeshadow shades for creating stunning eye looks. With a built-in mirror, it's convenient for on-the-go makeup application.\", 'category': 'beauty', 'price': 19.99, 'discountPercentage': 5.5, 'rating': 3.28, 'stock': 44, 'tags': ['beauty', 'eyeshadow'], 'brand': 'Glamour Beauty', 'sku': 'MVCFH27F', 'weight': 3, 'dimensions': {'width': 12.42, 'height': 8.63, 'depth': 29.13}, 'warrantyInformation': '1 year warranty', 'shippingInformation': 'Ships in 2 weeks', 'availabilityStatus': 'In Stock', 'reviews': [{'rating': 4, 'comment': 'Very satisfied!', 'date': '2024-05-23T08:56:21.618Z', 'reviewerName': 'Liam Garcia', 'reviewerEmail': 'liam.garcia@x.dummyjson.com'}, {'rating': 1, 'comment': 'Very disappointed!', 'date': '2024-05-23T08:56:21.618Z', 'reviewerName': 'Nora Russell', 'reviewerEmail': 'nora.russell@x.dummyjson.com'}, {'rating': 5, 'comment': 'Highly impressed!', 'date': '2024-05-23T08:56:21.618Z', 'reviewerName': 'Elena Baker', 'reviewerEmail': 'elena.baker@x.dummyjson.com'}], 'returnPolicy': '30 days return policy', 'minimumOrderQuantity': 32, 'meta': {'createdAt': '2024-05-23T08:56:21.618Z', 'updatedAt': '2024-05-23T08:56:21.618Z', 'barcode': '2817839095220', 'qrCode': 'https://assets.dummyjson.com/public/qr-code.png'}, 'images': ['https://cdn.dummyjson.com/products/images/beauty/Eyeshadow%20Palette%20with%20Mirror/1.png'], 'thumbnail': 'https://cdn.dummyjson.com/products/images/beauty/Eyeshadow%20Palette%20with%20Mirror/thumbnail.png'}, {'id': 3, 'title': 'Powder Canister', 'description': 'The Powder Canister is a finely milled setting powder designed to set makeup and control shine. With a lightweight and translucent formula, it provides a smooth and matte finish.', 'category': 'beauty', 'price': 14.99, 'discountPercentage': 18.14, 'rating': 3.82, 'stock': 59, 'tags': ['beauty', 'face powder'], 'brand': 'Velvet Touch', 'sku': '9EN8WLT2', 'weight': 8, 'dimensions': {'width': 24.16, 'height': 10.7, 'depth': 11.07}, 'warrantyInformation': '2 year warranty', 'shippingInformation': 'Ships in 1-2 business days', 'availabilityStatus': 'In Stock', 'reviews': [{'rating': 5, 'comment': 'Very happy with my purchase!', 'date': '2024-05-23T08:56:21.618Z', 'reviewerName': 'Ethan Thompson', 'reviewerEmail': 'ethan.thompson@x.dummyjson.com'}, {'rating': 4, 'comment': 'Great value for money!', 'date': '2024-05-23T08:56:21.618Z', 'reviewerName': 'Levi Hicks', 'reviewerEmail': 'levi.hicks@x.dummyjson.com'}, {'rating': 5, 'comment': 'Highly impressed!', 'date': '2024-05-23T08:56:21.618Z', 'reviewerName': 'Hazel Gardner', 'reviewerEmail': 'hazel.gardner@x.dummyjson.com'}], 'returnPolicy': '60 days return policy', 'minimumOrderQuantity': 25, 'meta': {'createdAt': '2024-05-23T08:56:21.618Z', 'updatedAt': '2024-05-23T08:56:21.618Z', 'barcode': '0516267971277', 'qrCode': 'https://assets.dummyjson.com/public/qr-code.png'}, 'images': ['https://cdn.dummyjson.com/products/images/beauty/Powder%20Canister/1.png'], 'thumbnail': 'https://cdn.dummyjson.com/products/images/beauty/Powder%20Canister/thumbnail.png'}], 'total': 194, 'skip': 0, 'limit': 3}\n"
          ]
        }
      ]
    },
    {
      "cell_type": "markdown",
      "source": [
        "Los parámetros para la API web son como argumentos para las funciones de Python, definen detalles específicos del resultado devuelto."
      ],
      "metadata": {
        "id": "ngZKMCOpK1Mf"
      }
    }
  ]
}