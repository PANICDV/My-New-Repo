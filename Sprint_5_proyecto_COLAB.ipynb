{
  "cells": [
    {
      "cell_type": "markdown",
      "metadata": {
        "id": "view-in-github",
        "colab_type": "text"
      },
      "source": [
        "<a href=\"https://colab.research.google.com/github/PANICDV/My-New-Repo/blob/main/Sprint_5_proyecto_COLAB.ipynb\" target=\"_parent\"><img src=\"https://colab.research.google.com/assets/colab-badge.svg\" alt=\"Open In Colab\"/></a>"
      ]
    },
    {
      "cell_type": "markdown",
      "metadata": {
        "id": "3rYiDeEH0q0f"
      },
      "source": [
        "# ¿Cuál es la mejor tarifa?\n",
        "\n",
        "Trabajas como analista para el operador de telecomunicaciones Megaline. La empresa ofrece a sus clientes dos tarifas de prepago, Surf y Ultimate. El departamento comercial quiere saber cuál de las tarifas genera más ingresos para poder ajustar el presupuesto de publicidad.\n",
        "\n",
        "Vas a realizar un análisis preliminar de las tarifas basado en una selección de clientes relativamente pequeña. Tendrás los datos de 500 clientes de Megaline: quiénes son los clientes, de dónde son, qué tarifa usan, así como la cantidad de llamadas que hicieron y los mensajes de texto que enviaron en 2018. Tu trabajo es analizar el comportamiento de los clientes y determinar qué tarifa de prepago genera más ingresos."
      ]
    },
    {
      "cell_type": "markdown",
      "metadata": {
        "id": "VNddPNRQ0q0w"
      },
      "source": [
        "[Te proporcionamos algunos comentarios para orientarte mientras completas este proyecto. Pero debes asegurarte de eliminar todos los comentarios entre corchetes antes de entregar tu proyecto.]\n",
        "\n",
        "[Antes de sumergirte en el análisis de datos, explica por tu propia cuenta el propósito del proyecto y las acciones que planeas realizar.]\n",
        "\n",
        "[Ten en cuenta que estudiar, modificar y analizar datos es un proceso iterativo. Es normal volver a los pasos anteriores y corregirlos/ampliarlos para permitir nuevos pasos.]"
      ]
    },
    {
      "cell_type": "markdown",
      "metadata": {
        "id": "Y1BZPMlKunPn"
      },
      "source": [
        "El proposito del proyecto es poder  analizar dos tarifas que se brindan a los clientes de la empresa en estudio y ver si hay una diferencia sinificativa en el promedio entre las dos tarifas.\n",
        "\n",
        "pasos que se realizara:\n",
        "1. cargar y eplorar datos\n",
        "2. preparar datos\n",
        "3. calcular los ingresos mensuales por usuario y el excedente cuando pasan el limite de los paquetes gratuitos.\n",
        "4. analizar la distribucion de minutos, SMS, datos por cada tarifa.\n",
        "5. hacer pruebas estadisticas, para ver la diferencia que pueda haber entre las dos tarifas."
      ]
    },
    {
      "cell_type": "markdown",
      "metadata": {
        "id": "MQi4IPy70q0y"
      },
      "source": [
        "## Inicialización"
      ]
    },
    {
      "cell_type": "code",
      "execution_count": null,
      "metadata": {
        "id": "MtYIuBxu0q0z"
      },
      "outputs": [],
      "source": [
        "# Cargar todas las librerías\n",
        "\n",
        "import pandas as pd\n",
        "import numpy as np\n",
        "import matplotlib.pyplot as plt\n",
        "import seaborn as sns\n",
        "from scipy import stats"
      ]
    },
    {
      "cell_type": "markdown",
      "metadata": {
        "id": "4ysWWC5i0q00"
      },
      "source": [
        "## Cargar datos"
      ]
    },
    {
      "cell_type": "code",
      "execution_count": null,
      "metadata": {
        "id": "CCqPW7rS0q01"
      },
      "outputs": [],
      "source": [
        "# Carga los archivos de datos en diferentes DataFrames\n",
        "calls_df = pd.read_csv ('https://docs.google.com/spreadsheets/d/1J7qFl6a3ECaqXNRG7Eo100suSOTA0F4nfQs-SRrxPBI/pub?gid=114928225&single=true&output=csv')\n",
        "internet_df = pd.read_csv ('https://docs.google.com/spreadsheets/d/1R2YeYM8CYYvvv7Pl1n5VvsFPP004SM1pPucQX1EJYHE/pub?gid=1908429099&single=true&output=csv')\n",
        "messages_df = pd.read_csv ('https://docs.google.com/spreadsheets/d/1r0LTMEJR-oId_OL7JePsdiXA76AhO3v901n0J5xvizo/pub?gid=810270392&single=true&output=csv')\n",
        "plans_df = pd.read_csv ('https://docs.google.com/spreadsheets/d/1UwrI1PpS6Er_OuEhVkWc-Bd5p6uVDmNck-32NYrr2_0/pub?gid=1855681411&single=true&output=csv')\n",
        "users_df = pd.read_csv ('https://docs.google.com/spreadsheets/d/11R0dsGMQbXH_Us7lK7P8diuTNp5OLVIH4Eawm61l6u4/pub?gid=461460127&single=true&output=csv')"
      ]
    },
    {
      "cell_type": "markdown",
      "metadata": {
        "id": "69qqoJ3r0q01"
      },
      "source": [
        "## Preparar los datos"
      ]
    },
    {
      "cell_type": "markdown",
      "metadata": {
        "id": "vUuZw80S0q01"
      },
      "source": [
        "[Los datos para este proyecto se dividen en varias tablas. Explora cada una para tener una comprensión inicial de los datos. Si es necesario, haz las correcciones requeridas en cada tabla.]"
      ]
    },
    {
      "cell_type": "markdown",
      "metadata": {
        "id": "0a_OJse5unPr"
      },
      "source": [
        "# Explorando los datos"
      ]
    },
    {
      "cell_type": "code",
      "execution_count": null,
      "metadata": {
        "colab": {
          "base_uri": "https://localhost:8080/"
        },
        "id": "IaXbhJ2DunPs",
        "outputId": "bfba4c77-2fa4-4b15-a62a-375b934ea641"
      },
      "outputs": [
        {
          "output_type": "stream",
          "name": "stdout",
          "text": [
            "             user_id       duration\n",
            "count  137735.000000  137735.000000\n",
            "mean     1247.658046       6.745927\n",
            "std       139.416268       5.839241\n",
            "min      1000.000000       0.000000\n",
            "25%      1128.000000       1.290000\n",
            "50%      1247.000000       5.980000\n",
            "75%      1365.000000      10.690000\n",
            "max      1499.000000      37.600000\n"
          ]
        }
      ],
      "source": [
        "#CALLS\n",
        "print(calls_df.describe())"
      ]
    },
    {
      "cell_type": "code",
      "execution_count": null,
      "metadata": {
        "colab": {
          "base_uri": "https://localhost:8080/"
        },
        "id": "3B0sZqFcunPt",
        "outputId": "7ac372a4-d173-48c3-ea2a-9c3230850b91"
      },
      "outputs": [
        {
          "output_type": "execute_result",
          "data": {
            "text/plain": [
              "0"
            ]
          },
          "metadata": {},
          "execution_count": 4
        }
      ],
      "source": [
        "calls_df.duplicated().sum()"
      ]
    },
    {
      "cell_type": "code",
      "execution_count": null,
      "metadata": {
        "colab": {
          "base_uri": "https://localhost:8080/",
          "height": 210
        },
        "id": "GovOhWsPunPu",
        "outputId": "cf9ebf60-e26e-4b03-ee8a-d2a4c501bf66"
      },
      "outputs": [
        {
          "output_type": "execute_result",
          "data": {
            "text/plain": [
              "id           0\n",
              "user_id      0\n",
              "call_date    0\n",
              "duration     0\n",
              "dtype: int64"
            ],
            "text/html": [
              "<div>\n",
              "<style scoped>\n",
              "    .dataframe tbody tr th:only-of-type {\n",
              "        vertical-align: middle;\n",
              "    }\n",
              "\n",
              "    .dataframe tbody tr th {\n",
              "        vertical-align: top;\n",
              "    }\n",
              "\n",
              "    .dataframe thead th {\n",
              "        text-align: right;\n",
              "    }\n",
              "</style>\n",
              "<table border=\"1\" class=\"dataframe\">\n",
              "  <thead>\n",
              "    <tr style=\"text-align: right;\">\n",
              "      <th></th>\n",
              "      <th>0</th>\n",
              "    </tr>\n",
              "  </thead>\n",
              "  <tbody>\n",
              "    <tr>\n",
              "      <th>id</th>\n",
              "      <td>0</td>\n",
              "    </tr>\n",
              "    <tr>\n",
              "      <th>user_id</th>\n",
              "      <td>0</td>\n",
              "    </tr>\n",
              "    <tr>\n",
              "      <th>call_date</th>\n",
              "      <td>0</td>\n",
              "    </tr>\n",
              "    <tr>\n",
              "      <th>duration</th>\n",
              "      <td>0</td>\n",
              "    </tr>\n",
              "  </tbody>\n",
              "</table>\n",
              "</div><br><label><b>dtype:</b> int64</label>"
            ]
          },
          "metadata": {},
          "execution_count": 5
        }
      ],
      "source": [
        "calls_df.isna().sum()"
      ]
    },
    {
      "cell_type": "code",
      "execution_count": null,
      "metadata": {
        "colab": {
          "base_uri": "https://localhost:8080/",
          "height": 430
        },
        "id": "uLyQAHP7unPu",
        "outputId": "55dc74d3-dede-40a2-d580-f0ef767608b6"
      },
      "outputs": [
        {
          "output_type": "display_data",
          "data": {
            "text/plain": [
              "<Figure size 640x480 with 1 Axes>"
            ],
            "image/png": "[encoded data removed]"
          },
          "metadata": {}
        }
      ],
      "source": [
        "plt.boxplot(calls_df['duration'])\n",
        "plt.show()"
      ]
    },
    {
      "cell_type": "code",
      "execution_count": null,
      "metadata": {
        "colab": {
          "base_uri": "https://localhost:8080/"
        },
        "id": "9OJ-NyiYunPu",
        "outputId": "5ce3898c-28ba-42a7-cdf4-717f3205667c"
      },
      "outputs": [
        {
          "output_type": "stream",
          "name": "stdout",
          "text": [
            "             user_id        mb_used\n",
            "count  104825.000000  104825.000000\n",
            "mean     1242.496361     366.713701\n",
            "std       142.053913     277.170542\n",
            "min      1000.000000       0.000000\n",
            "25%      1122.000000     136.080000\n",
            "50%      1236.000000     343.980000\n",
            "75%      1367.000000     554.610000\n",
            "max      1499.000000    1693.470000\n"
          ]
        }
      ],
      "source": [
        "# INTERNET\n",
        "print(internet_df.describe())"
      ]
    },
    {
      "cell_type": "code",
      "execution_count": null,
      "metadata": {
        "colab": {
          "base_uri": "https://localhost:8080/"
        },
        "id": "zNJKSEnDunPv",
        "outputId": "e3fb14b6-3921-4b10-901b-7c9ce9be1d39"
      },
      "outputs": [
        {
          "output_type": "execute_result",
          "data": {
            "text/plain": [
              "0"
            ]
          },
          "metadata": {},
          "execution_count": 8
        }
      ],
      "source": [
        "internet_df.duplicated().sum()"
      ]
    },
    {
      "cell_type": "code",
      "execution_count": null,
      "metadata": {
        "colab": {
          "base_uri": "https://localhost:8080/",
          "height": 210
        },
        "id": "KZxcQnqwunPv",
        "outputId": "c759e5c6-53ca-4a55-fbb8-ee856c79c784"
      },
      "outputs": [
        {
          "output_type": "execute_result",
          "data": {
            "text/plain": [
              "id              0\n",
              "user_id         0\n",
              "session_date    0\n",
              "mb_used         0\n",
              "dtype: int64"
            ],
            "text/html": [
              "<div>\n",
              "<style scoped>\n",
              "    .dataframe tbody tr th:only-of-type {\n",
              "        vertical-align: middle;\n",
              "    }\n",
              "\n",
              "    .dataframe tbody tr th {\n",
              "        vertical-align: top;\n",
              "    }\n",
              "\n",
              "    .dataframe thead th {\n",
              "        text-align: right;\n",
              "    }\n",
              "</style>\n",
              "<table border=\"1\" class=\"dataframe\">\n",
              "  <thead>\n",
              "    <tr style=\"text-align: right;\">\n",
              "      <th></th>\n",
              "      <th>0</th>\n",
              "    </tr>\n",
              "  </thead>\n",
              "  <tbody>\n",
              "    <tr>\n",
              "      <th>id</th>\n",
              "      <td>0</td>\n",
              "    </tr>\n",
              "    <tr>\n",
              "      <th>user_id</th>\n",
              "      <td>0</td>\n",
              "    </tr>\n",
              "    <tr>\n",
              "      <th>session_date</th>\n",
              "      <td>0</td>\n",
              "    </tr>\n",
              "    <tr>\n",
              "      <th>mb_used</th>\n",
              "      <td>0</td>\n",
              "    </tr>\n",
              "  </tbody>\n",
              "</table>\n",
              "</div><br><label><b>dtype:</b> int64</label>"
            ]
          },
          "metadata": {},
          "execution_count": 9
        }
      ],
      "source": [
        "internet_df.isna().sum()"
      ]
    },
    {
      "cell_type": "code",
      "execution_count": null,
      "metadata": {
        "colab": {
          "base_uri": "https://localhost:8080/",
          "height": 430
        },
        "id": "XpGwBah7unPv",
        "outputId": "8fb12ea5-f360-4dbc-b4c2-dd645eee68c9"
      },
      "outputs": [
        {
          "output_type": "display_data",
          "data": {
            "text/plain": [
              "<Figure size 640x480 with 1 Axes>"
            ],
            "image/png": "[encoded data removed]"
          },
          "metadata": {}
        }
      ],
      "source": [
        "#ver la distribucion de uso de megas\n",
        "plt.boxplot(internet_df['mb_used'])\n",
        "plt.show()"
      ]
    },
    {
      "cell_type": "code",
      "execution_count": null,
      "metadata": {
        "scrolled": true,
        "colab": {
          "base_uri": "https://localhost:8080/"
        },
        "id": "tKRoEsoWunPw",
        "outputId": "06b9f869-635f-4363-e5bc-d8541c75aee1"
      },
      "outputs": [
        {
          "output_type": "stream",
          "name": "stdout",
          "text": [
            "            user_id\n",
            "count  76051.000000\n",
            "mean    1245.972768\n",
            "std      139.843635\n",
            "min     1000.000000\n",
            "25%     1123.000000\n",
            "50%     1251.000000\n",
            "75%     1362.000000\n",
            "max     1497.000000\n"
          ]
        }
      ],
      "source": [
        "print(messages_df.describe())"
      ]
    },
    {
      "cell_type": "code",
      "execution_count": null,
      "metadata": {
        "colab": {
          "base_uri": "https://localhost:8080/"
        },
        "id": "3TIMosxQunPw",
        "outputId": "c0eeb62f-ab7f-41cf-c035-056a4dd61a67"
      },
      "outputs": [
        {
          "output_type": "execute_result",
          "data": {
            "text/plain": [
              "0"
            ]
          },
          "metadata": {},
          "execution_count": 12
        }
      ],
      "source": [
        "#MESSAGES\n",
        "messages_df.duplicated().sum()"
      ]
    },
    {
      "cell_type": "code",
      "execution_count": null,
      "metadata": {
        "colab": {
          "base_uri": "https://localhost:8080/",
          "height": 178
        },
        "id": "HSX3pJQUunPw",
        "outputId": "49940417-bbbe-4b0e-c3eb-8ca940c5c147"
      },
      "outputs": [
        {
          "output_type": "execute_result",
          "data": {
            "text/plain": [
              "id              0\n",
              "user_id         0\n",
              "message_date    0\n",
              "dtype: int64"
            ],
            "text/html": [
              "<div>\n",
              "<style scoped>\n",
              "    .dataframe tbody tr th:only-of-type {\n",
              "        vertical-align: middle;\n",
              "    }\n",
              "\n",
              "    .dataframe tbody tr th {\n",
              "        vertical-align: top;\n",
              "    }\n",
              "\n",
              "    .dataframe thead th {\n",
              "        text-align: right;\n",
              "    }\n",
              "</style>\n",
              "<table border=\"1\" class=\"dataframe\">\n",
              "  <thead>\n",
              "    <tr style=\"text-align: right;\">\n",
              "      <th></th>\n",
              "      <th>0</th>\n",
              "    </tr>\n",
              "  </thead>\n",
              "  <tbody>\n",
              "    <tr>\n",
              "      <th>id</th>\n",
              "      <td>0</td>\n",
              "    </tr>\n",
              "    <tr>\n",
              "      <th>user_id</th>\n",
              "      <td>0</td>\n",
              "    </tr>\n",
              "    <tr>\n",
              "      <th>message_date</th>\n",
              "      <td>0</td>\n",
              "    </tr>\n",
              "  </tbody>\n",
              "</table>\n",
              "</div><br><label><b>dtype:</b> int64</label>"
            ]
          },
          "metadata": {},
          "execution_count": 13
        }
      ],
      "source": [
        "messages_df.isna().sum()"
      ]
    },
    {
      "cell_type": "code",
      "execution_count": null,
      "metadata": {
        "colab": {
          "base_uri": "https://localhost:8080/"
        },
        "id": "EPF0WaI8unPw",
        "outputId": "44c868d3-054f-4eb9-9e48-5f7541106511"
      },
      "outputs": [
        {
          "output_type": "stream",
          "name": "stdout",
          "text": [
            "       messages_included  mb_per_month_included  minutes_included  \\\n",
            "count           2.000000               2.000000          2.000000   \n",
            "mean          525.000000           23040.000000       1750.000000   \n",
            "std           671.751442           10861.160159       1767.766953   \n",
            "min            50.000000           15360.000000        500.000000   \n",
            "25%           287.500000           19200.000000       1125.000000   \n",
            "50%           525.000000           23040.000000       1750.000000   \n",
            "75%           762.500000           26880.000000       2375.000000   \n",
            "max          1000.000000           30720.000000       3000.000000   \n",
            "\n",
            "       usd_monthly_pay  usd_per_gb  usd_per_message  usd_per_minute  \n",
            "count         2.000000     2.00000         2.000000        2.000000  \n",
            "mean         45.000000     8.50000         0.020000        0.020000  \n",
            "std          35.355339     2.12132         0.014142        0.014142  \n",
            "min          20.000000     7.00000         0.010000        0.010000  \n",
            "25%          32.500000     7.75000         0.015000        0.015000  \n",
            "50%          45.000000     8.50000         0.020000        0.020000  \n",
            "75%          57.500000     9.25000         0.025000        0.025000  \n",
            "max          70.000000    10.00000         0.030000        0.030000  \n"
          ]
        }
      ],
      "source": [
        "#PLANS\n",
        "print(plans_df.describe())"
      ]
    },
    {
      "cell_type": "code",
      "execution_count": null,
      "metadata": {
        "colab": {
          "base_uri": "https://localhost:8080/"
        },
        "id": "3z9UlxNJunPx",
        "outputId": "6d9a8afa-36c6-41d9-d34b-8d413a51aa73"
      },
      "outputs": [
        {
          "output_type": "execute_result",
          "data": {
            "text/plain": [
              "0"
            ]
          },
          "metadata": {},
          "execution_count": 15
        }
      ],
      "source": [
        "#PLANS\n",
        "plans_df.duplicated().sum()"
      ]
    },
    {
      "cell_type": "code",
      "execution_count": null,
      "metadata": {
        "colab": {
          "base_uri": "https://localhost:8080/",
          "height": 335
        },
        "id": "gopv75pfunPx",
        "outputId": "be834be6-e835-4cc2-d3bf-0be7bec05ba6"
      },
      "outputs": [
        {
          "output_type": "execute_result",
          "data": {
            "text/plain": [
              "messages_included        0\n",
              "mb_per_month_included    0\n",
              "minutes_included         0\n",
              "usd_monthly_pay          0\n",
              "usd_per_gb               0\n",
              "usd_per_message          0\n",
              "usd_per_minute           0\n",
              "plan_name                0\n",
              "dtype: int64"
            ],
            "text/html": [
              "<div>\n",
              "<style scoped>\n",
              "    .dataframe tbody tr th:only-of-type {\n",
              "        vertical-align: middle;\n",
              "    }\n",
              "\n",
              "    .dataframe tbody tr th {\n",
              "        vertical-align: top;\n",
              "    }\n",
              "\n",
              "    .dataframe thead th {\n",
              "        text-align: right;\n",
              "    }\n",
              "</style>\n",
              "<table border=\"1\" class=\"dataframe\">\n",
              "  <thead>\n",
              "    <tr style=\"text-align: right;\">\n",
              "      <th></th>\n",
              "      <th>0</th>\n",
              "    </tr>\n",
              "  </thead>\n",
              "  <tbody>\n",
              "    <tr>\n",
              "      <th>messages_included</th>\n",
              "      <td>0</td>\n",
              "    </tr>\n",
              "    <tr>\n",
              "      <th>mb_per_month_included</th>\n",
              "      <td>0</td>\n",
              "    </tr>\n",
              "    <tr>\n",
              "      <th>minutes_included</th>\n",
              "      <td>0</td>\n",
              "    </tr>\n",
              "    <tr>\n",
              "      <th>usd_monthly_pay</th>\n",
              "      <td>0</td>\n",
              "    </tr>\n",
              "    <tr>\n",
              "      <th>usd_per_gb</th>\n",
              "      <td>0</td>\n",
              "    </tr>\n",
              "    <tr>\n",
              "      <th>usd_per_message</th>\n",
              "      <td>0</td>\n",
              "    </tr>\n",
              "    <tr>\n",
              "      <th>usd_per_minute</th>\n",
              "      <td>0</td>\n",
              "    </tr>\n",
              "    <tr>\n",
              "      <th>plan_name</th>\n",
              "      <td>0</td>\n",
              "    </tr>\n",
              "  </tbody>\n",
              "</table>\n",
              "</div><br><label><b>dtype:</b> int64</label>"
            ]
          },
          "metadata": {},
          "execution_count": 16
        }
      ],
      "source": [
        "plans_df.isna().sum()"
      ]
    },
    {
      "cell_type": "code",
      "execution_count": null,
      "metadata": {
        "colab": {
          "base_uri": "https://localhost:8080/"
        },
        "id": "c33GZ_IDunPx",
        "outputId": "a2154878-7e62-4701-de75-f77b9866c967"
      },
      "outputs": [
        {
          "output_type": "stream",
          "name": "stdout",
          "text": [
            "           user_id         age\n",
            "count   500.000000  500.000000\n",
            "mean   1249.500000   45.486000\n",
            "std     144.481833   16.972269\n",
            "min    1000.000000   18.000000\n",
            "25%    1124.750000   30.000000\n",
            "50%    1249.500000   46.000000\n",
            "75%    1374.250000   61.000000\n",
            "max    1499.000000   75.000000\n"
          ]
        }
      ],
      "source": [
        "# USUARIOS\n",
        "print(users_df.describe())"
      ]
    },
    {
      "cell_type": "code",
      "execution_count": null,
      "metadata": {
        "colab": {
          "base_uri": "https://localhost:8080/"
        },
        "id": "8RB5MJrMunPy",
        "outputId": "a0d7b54a-155f-46ab-8648-2e8cd0afd11c"
      },
      "outputs": [
        {
          "output_type": "execute_result",
          "data": {
            "text/plain": [
              "0"
            ]
          },
          "metadata": {},
          "execution_count": 18
        }
      ],
      "source": [
        "users_df.duplicated().sum()"
      ]
    },
    {
      "cell_type": "code",
      "execution_count": null,
      "metadata": {
        "colab": {
          "base_uri": "https://localhost:8080/",
          "height": 335
        },
        "id": "hLryDRvgunPy",
        "outputId": "91cc96e3-b7a1-485f-9128-81d7df11b96c"
      },
      "outputs": [
        {
          "output_type": "execute_result",
          "data": {
            "text/plain": [
              "user_id         0\n",
              "first_name      0\n",
              "last_name       0\n",
              "age             0\n",
              "city            0\n",
              "reg_date        0\n",
              "plan            0\n",
              "churn_date    466\n",
              "dtype: int64"
            ],
            "text/html": [
              "<div>\n",
              "<style scoped>\n",
              "    .dataframe tbody tr th:only-of-type {\n",
              "        vertical-align: middle;\n",
              "    }\n",
              "\n",
              "    .dataframe tbody tr th {\n",
              "        vertical-align: top;\n",
              "    }\n",
              "\n",
              "    .dataframe thead th {\n",
              "        text-align: right;\n",
              "    }\n",
              "</style>\n",
              "<table border=\"1\" class=\"dataframe\">\n",
              "  <thead>\n",
              "    <tr style=\"text-align: right;\">\n",
              "      <th></th>\n",
              "      <th>0</th>\n",
              "    </tr>\n",
              "  </thead>\n",
              "  <tbody>\n",
              "    <tr>\n",
              "      <th>user_id</th>\n",
              "      <td>0</td>\n",
              "    </tr>\n",
              "    <tr>\n",
              "      <th>first_name</th>\n",
              "      <td>0</td>\n",
              "    </tr>\n",
              "    <tr>\n",
              "      <th>last_name</th>\n",
              "      <td>0</td>\n",
              "    </tr>\n",
              "    <tr>\n",
              "      <th>age</th>\n",
              "      <td>0</td>\n",
              "    </tr>\n",
              "    <tr>\n",
              "      <th>city</th>\n",
              "      <td>0</td>\n",
              "    </tr>\n",
              "    <tr>\n",
              "      <th>reg_date</th>\n",
              "      <td>0</td>\n",
              "    </tr>\n",
              "    <tr>\n",
              "      <th>plan</th>\n",
              "      <td>0</td>\n",
              "    </tr>\n",
              "    <tr>\n",
              "      <th>churn_date</th>\n",
              "      <td>466</td>\n",
              "    </tr>\n",
              "  </tbody>\n",
              "</table>\n",
              "</div><br><label><b>dtype:</b> int64</label>"
            ]
          },
          "metadata": {},
          "execution_count": 19
        }
      ],
      "source": [
        "users_df.isna().sum()"
      ]
    },
    {
      "cell_type": "code",
      "execution_count": null,
      "metadata": {
        "colab": {
          "base_uri": "https://localhost:8080/",
          "height": 430
        },
        "id": "DLlR_fEtunPz",
        "outputId": "79a6b294-d2d6-4008-9692-0841aa208792"
      },
      "outputs": [
        {
          "output_type": "display_data",
          "data": {
            "text/plain": [
              "<Figure size 640x480 with 1 Axes>"
            ],
            "image/png": "[encoded data removed]"
          },
          "metadata": {}
        }
      ],
      "source": [
        "# ver la distribucion de edades\n",
        "plt.boxplot(users_df['age'])\n",
        "plt.show()"
      ]
    },
    {
      "cell_type": "markdown",
      "metadata": {
        "id": "ohBhimvH0q01"
      },
      "source": [
        "## Tarifas"
      ]
    },
    {
      "cell_type": "code",
      "execution_count": null,
      "metadata": {
        "id": "GptqP3Q40q02",
        "colab": {
          "base_uri": "https://localhost:8080/"
        },
        "outputId": "1197179c-8765-4a2f-d35a-d20a2a943827"
      },
      "outputs": [
        {
          "output_type": "stream",
          "name": "stdout",
          "text": [
            "<class 'pandas.core.frame.DataFrame'>\n",
            "RangeIndex: 2 entries, 0 to 1\n",
            "Data columns (total 8 columns):\n",
            " #   Column                 Non-Null Count  Dtype  \n",
            "---  ------                 --------------  -----  \n",
            " 0   messages_included      2 non-null      int64  \n",
            " 1   mb_per_month_included  2 non-null      int64  \n",
            " 2   minutes_included       2 non-null      int64  \n",
            " 3   usd_monthly_pay        2 non-null      int64  \n",
            " 4   usd_per_gb             2 non-null      int64  \n",
            " 5   usd_per_message        2 non-null      float64\n",
            " 6   usd_per_minute         2 non-null      float64\n",
            " 7   plan_name              2 non-null      object \n",
            "dtypes: float64(2), int64(5), object(1)\n",
            "memory usage: 256.0+ bytes\n",
            "None\n"
          ]
        }
      ],
      "source": [
        "# Imprime la información general/resumida sobre el DataFrame de las tarifas\n",
        "print(plans_df.info())"
      ]
    },
    {
      "cell_type": "code",
      "execution_count": null,
      "metadata": {
        "id": "64xzjwL70q02",
        "scrolled": true,
        "colab": {
          "base_uri": "https://localhost:8080/"
        },
        "outputId": "942ef81e-bdd3-49f3-b09a-76553eaed83c"
      },
      "outputs": [
        {
          "output_type": "stream",
          "name": "stdout",
          "text": [
            "   messages_included  mb_per_month_included  minutes_included  \\\n",
            "0                 50                  15360               500   \n",
            "1               1000                  30720              3000   \n",
            "\n",
            "   usd_monthly_pay  usd_per_gb  usd_per_message  usd_per_minute plan_name  \n",
            "0               20          10             0.03            0.03      surf  \n",
            "1               70           7             0.01            0.01  ultimate  \n"
          ]
        }
      ],
      "source": [
        "# Imprime una muestra de los datos para las tarifas\n",
        "\n",
        "print(plans_df.head())"
      ]
    },
    {
      "cell_type": "markdown",
      "metadata": {
        "id": "mEc_3_hs0q02"
      },
      "source": [
        "[Describe lo que ves y observas en la información general y en la muestra de datos impresa para el precio de datos anterior. ¿Hay algún problema (tipos de datos no adecuados, datos ausentes, etc.) que pudieran necesitar investigación y cambios adicionales? ¿Cómo se puede arreglar?]"
      ]
    },
    {
      "cell_type": "markdown",
      "metadata": {
        "id": "xEIcGR9-unP1"
      },
      "source": [
        "Obsevamos que no hay datos ausentes, no hay valores no nulos. por el resto no se ve ningun problema."
      ]
    },
    {
      "cell_type": "markdown",
      "metadata": {
        "id": "R3C05i1l0q03"
      },
      "source": [
        "## Corregir datos"
      ]
    },
    {
      "cell_type": "markdown",
      "metadata": {
        "id": "bIi8StZI0q03"
      },
      "source": [
        "[Corrige los problemas obvios con los datos basándote en las observaciones iniciales.]"
      ]
    },
    {
      "cell_type": "code",
      "execution_count": null,
      "metadata": {
        "id": "Y7SVmjGn0q03"
      },
      "outputs": [],
      "source": [
        "plans_df.rename(columns = {'plan_name':'plan_id'}, inplace = True)"
      ]
    },
    {
      "cell_type": "markdown",
      "metadata": {
        "id": "LJir7bml0q03"
      },
      "source": [
        "## Enriquecer los datos"
      ]
    },
    {
      "cell_type": "code",
      "source": [
        "plans_df['plan_id'] = plans_df['plan_id'].astype('Int64', errors='ignore')"
      ],
      "metadata": {
        "id": "GKNs3eN41IM7"
      },
      "execution_count": null,
      "outputs": []
    },
    {
      "cell_type": "code",
      "source": [
        "# Divide la columna 'mb_per_month_included' por 1024 para convertir de MB a GB\n",
        "plans_df['gb_per_month_included'] = plans_df['mb_per_month_included'] / 1024\n",
        "\n",
        "# Imprime el DataFrame actualizado\n",
        "print(plans_df)\n"
      ],
      "metadata": {
        "colab": {
          "base_uri": "https://localhost:8080/"
        },
        "id": "ecCxPDjbsZqe",
        "outputId": "a56cf63f-98d1-42dd-cab1-77127662b622"
      },
      "execution_count": null,
      "outputs": [
        {
          "output_type": "stream",
          "name": "stdout",
          "text": [
            "   messages_included  mb_per_month_included  minutes_included  \\\n",
            "0                 50                  15360               500   \n",
            "1               1000                  30720              3000   \n",
            "\n",
            "   usd_monthly_pay  usd_per_gb  usd_per_message  usd_per_minute   plan_id  \\\n",
            "0               20          10             0.03            0.03      surf   \n",
            "1               70           7             0.01            0.01  ultimate   \n",
            "\n",
            "   gb_per_month_included  \n",
            "0                   15.0  \n",
            "1                   30.0  \n"
          ]
        }
      ]
    },
    {
      "cell_type": "markdown",
      "metadata": {
        "id": "eqADpCfg0q04"
      },
      "source": [
        "[Agrega factores adicionales a los datos si crees que pudieran ser útiles.]"
      ]
    },
    {
      "cell_type": "code",
      "execution_count": null,
      "metadata": {
        "id": "gfcIEuXV0q04"
      },
      "outputs": [],
      "source": [
        "plans_df['plan_id'] = np.arange(1, len(plans_df)+1)"
      ]
    },
    {
      "cell_type": "code",
      "source": [
        "print(plans_df.info())"
      ],
      "metadata": {
        "colab": {
          "base_uri": "https://localhost:8080/"
        },
        "id": "CEEmIePUzdzI",
        "outputId": "b6f37432-520a-4950-8121-cabba5fd0b72"
      },
      "execution_count": null,
      "outputs": [
        {
          "output_type": "stream",
          "name": "stdout",
          "text": [
            "<class 'pandas.core.frame.DataFrame'>\n",
            "RangeIndex: 2 entries, 0 to 1\n",
            "Data columns (total 9 columns):\n",
            " #   Column                 Non-Null Count  Dtype  \n",
            "---  ------                 --------------  -----  \n",
            " 0   messages_included      2 non-null      int64  \n",
            " 1   mb_per_month_included  2 non-null      int64  \n",
            " 2   minutes_included       2 non-null      int64  \n",
            " 3   usd_monthly_pay        2 non-null      int64  \n",
            " 4   usd_per_gb             2 non-null      int64  \n",
            " 5   usd_per_message        2 non-null      float64\n",
            " 6   usd_per_minute         2 non-null      float64\n",
            " 7   plan_id                2 non-null      int64  \n",
            " 8   gb_per_month_included  2 non-null      float64\n",
            "dtypes: float64(3), int64(6)\n",
            "memory usage: 272.0 bytes\n",
            "None\n"
          ]
        }
      ]
    },
    {
      "cell_type": "markdown",
      "metadata": {
        "id": "1n2X6WXf0q04"
      },
      "source": [
        "## Usuarios/as"
      ]
    },
    {
      "cell_type": "code",
      "execution_count": null,
      "metadata": {
        "id": "2NgjWFqx0q05",
        "colab": {
          "base_uri": "https://localhost:8080/"
        },
        "outputId": "9a97d29b-1d01-46df-830c-10e5236bd88f"
      },
      "outputs": [
        {
          "output_type": "stream",
          "name": "stdout",
          "text": [
            "   user_id first_name  last_name  age                                   city  \\\n",
            "0     1000   Anamaria      Bauer   45  Atlanta-Sandy Springs-Roswell, GA MSA   \n",
            "1     1001     Mickey  Wilkerson   28        Seattle-Tacoma-Bellevue, WA MSA   \n",
            "2     1002     Carlee    Hoffman   36   Las Vegas-Henderson-Paradise, NV MSA   \n",
            "3     1003   Reynaldo    Jenkins   52                          Tulsa, OK MSA   \n",
            "4     1004    Leonila   Thompson   40        Seattle-Tacoma-Bellevue, WA MSA   \n",
            "\n",
            "     reg_date      plan churn_date  \n",
            "0  2018-12-24  ultimate        NaN  \n",
            "1  2018-08-13      surf        NaN  \n",
            "2  2018-10-21      surf        NaN  \n",
            "3  2018-01-28      surf        NaN  \n",
            "4  2018-05-23      surf        NaN  \n"
          ]
        }
      ],
      "source": [
        "# Imprime la información general/resumida sobre el DataFrame de usuarios\n",
        "print(users_df.head())"
      ]
    },
    {
      "cell_type": "code",
      "execution_count": null,
      "metadata": {
        "id": "1IN1L9uh0q05",
        "colab": {
          "base_uri": "https://localhost:8080/"
        },
        "outputId": "5ec37a12-70ef-443c-8edd-1f73c2103554"
      },
      "outputs": [
        {
          "output_type": "stream",
          "name": "stdout",
          "text": [
            "<class 'pandas.core.frame.DataFrame'>\n",
            "RangeIndex: 500 entries, 0 to 499\n",
            "Data columns (total 8 columns):\n",
            " #   Column      Non-Null Count  Dtype \n",
            "---  ------      --------------  ----- \n",
            " 0   user_id     500 non-null    int64 \n",
            " 1   first_name  500 non-null    object\n",
            " 2   last_name   500 non-null    object\n",
            " 3   age         500 non-null    int64 \n",
            " 4   city        500 non-null    object\n",
            " 5   reg_date    500 non-null    object\n",
            " 6   plan        500 non-null    object\n",
            " 7   churn_date  34 non-null     object\n",
            "dtypes: int64(2), object(6)\n",
            "memory usage: 31.4+ KB\n",
            "None\n"
          ]
        }
      ],
      "source": [
        "# Imprime una muestra de datos para usuarios\n",
        "print(users_df.info())"
      ]
    },
    {
      "cell_type": "markdown",
      "metadata": {
        "id": "dCZoUq4f0q06"
      },
      "source": [
        "Notamos que en la grafica de vigote esta bien,no hay ni muy jovenes, ni muy adultos.\n",
        "hay que corregir los dates."
      ]
    },
    {
      "cell_type": "markdown",
      "metadata": {
        "id": "BX5FQh_I0q06"
      },
      "source": [
        "### Corregir los datos"
      ]
    },
    {
      "cell_type": "markdown",
      "metadata": {
        "id": "8OdKMwJv0q06"
      },
      "source": [
        "[Corrige los problemas obvios con los datos basándote en las observaciones iniciales.]"
      ]
    },
    {
      "cell_type": "code",
      "execution_count": null,
      "metadata": {
        "id": "yUqX-K0C0q07"
      },
      "outputs": [],
      "source": [
        "users_df['reg_date']= pd.to_datetime(users_df['reg_date'], format='%Y-%m-%d')"
      ]
    },
    {
      "cell_type": "code",
      "execution_count": null,
      "metadata": {
        "id": "Vb2E5G8zunQE"
      },
      "outputs": [],
      "source": [
        "users_df['churn_date']= pd.to_datetime(users_df['churn_date'], format='%Y-%m-%d')"
      ]
    },
    {
      "cell_type": "markdown",
      "metadata": {
        "id": "ycwuARJp0q07"
      },
      "source": [
        "### Enriquecer los datos"
      ]
    },
    {
      "cell_type": "markdown",
      "metadata": {
        "id": "96NIh4CJ0q08"
      },
      "source": [
        "[Agrega factores adicionales a los datos si crees que pudieran ser útiles.]"
      ]
    },
    {
      "cell_type": "code",
      "execution_count": null,
      "metadata": {
        "id": "iq0AaBS90q08"
      },
      "outputs": [],
      "source": [
        "users_df.rename(columns = {'plan': 'plan_id'}, inplace =True)"
      ]
    },
    {
      "cell_type": "markdown",
      "metadata": {
        "id": "o7MeKCid0q08"
      },
      "source": [
        "## Llamadas"
      ]
    },
    {
      "cell_type": "code",
      "execution_count": null,
      "metadata": {
        "id": "6dDlnoDm0q08",
        "colab": {
          "base_uri": "https://localhost:8080/"
        },
        "outputId": "4f1bfb87-4299-4b98-f1f3-89e342157140"
      },
      "outputs": [
        {
          "output_type": "stream",
          "name": "stdout",
          "text": [
            "<class 'pandas.core.frame.DataFrame'>\n",
            "RangeIndex: 137735 entries, 0 to 137734\n",
            "Data columns (total 4 columns):\n",
            " #   Column     Non-Null Count   Dtype  \n",
            "---  ------     --------------   -----  \n",
            " 0   id         137735 non-null  object \n",
            " 1   user_id    137735 non-null  int64  \n",
            " 2   call_date  137735 non-null  object \n",
            " 3   duration   137735 non-null  float64\n",
            "dtypes: float64(1), int64(1), object(2)\n",
            "memory usage: 4.2+ MB\n",
            "None\n"
          ]
        }
      ],
      "source": [
        "# Imprime la información general/resumida sobre el DataFrame de las llamadas\n",
        "\n",
        "print(calls_df.info())"
      ]
    },
    {
      "cell_type": "code",
      "execution_count": null,
      "metadata": {
        "id": "kuh1vlNB0q09",
        "colab": {
          "base_uri": "https://localhost:8080/"
        },
        "outputId": "2b984731-aea5-4b74-e9af-3b253a3d3d17"
      },
      "outputs": [
        {
          "output_type": "stream",
          "name": "stdout",
          "text": [
            "         id  user_id   call_date  duration\n",
            "0   1000_93     1000  2018-12-27      8.52\n",
            "1  1000_145     1000  2018-12-27     13.66\n",
            "2  1000_247     1000  2018-12-27     14.48\n",
            "3  1000_309     1000  2018-12-28      5.76\n",
            "4  1000_380     1000  2018-12-30      4.22\n"
          ]
        }
      ],
      "source": [
        "# Imprime una muestra de datos para las llamadas\n",
        "print(calls_df.head())"
      ]
    },
    {
      "cell_type": "markdown",
      "metadata": {
        "id": "DOAxYJSx0q09"
      },
      "source": [
        "[Describe lo que ves y observas en la información general y en la muestra de datos impresa para el precio de datos anterior. ¿Hay algún problema (tipos de datos no adecuados, datos ausentes, etc.) que pudieran necesitar investigación y cambios adicionales? ¿Cómo se puede arreglar?]"
      ]
    },
    {
      "cell_type": "markdown",
      "metadata": {
        "id": "S2r8xA4f0q0-"
      },
      "source": [
        " vemos que en la columnas date esta como object y debemos cambiar\n",
        " En la columnas de ID cambiaremos el titulo por call_ID para darle mas significado.\n",
        " podemos añadir una columna donde indique el mes, para visualizar los datos mensuales.\n",
        " redondear la duracion"
      ]
    },
    {
      "cell_type": "markdown",
      "metadata": {
        "id": "S7hzxmbX0q0-"
      },
      "source": [
        "### Corregir los datos"
      ]
    },
    {
      "cell_type": "markdown",
      "metadata": {
        "id": "YxWyAjD20q0-"
      },
      "source": [
        "[Corrige los problemas obvios con los datos basándote en las observaciones iniciales.]"
      ]
    },
    {
      "cell_type": "code",
      "execution_count": null,
      "metadata": {
        "id": "iZ1avpA_0q0_"
      },
      "outputs": [],
      "source": [
        "calls_df['call_date']= pd.to_datetime(calls_df['call_date'], format='%Y-%m-%d')"
      ]
    },
    {
      "cell_type": "code",
      "execution_count": null,
      "metadata": {
        "id": "xr-2KqS-unQH"
      },
      "outputs": [],
      "source": [
        "calls_df['duration']= np.ceil(calls_df['duration'])"
      ]
    },
    {
      "cell_type": "markdown",
      "metadata": {
        "id": "KrMgTrlG0q0_"
      },
      "source": [
        "### Enriquecer los datos"
      ]
    },
    {
      "cell_type": "markdown",
      "metadata": {
        "id": "a9MbmEvE0q0_"
      },
      "source": [
        "[Agrega factores adicionales a los datos si crees que pudieran ser útiles.]"
      ]
    },
    {
      "cell_type": "code",
      "execution_count": null,
      "metadata": {
        "id": "xJQYOfHBunQI"
      },
      "outputs": [],
      "source": [
        "calls_df.rename(columns = {'id': 'call_id'}, inplace = True)"
      ]
    },
    {
      "cell_type": "code",
      "execution_count": null,
      "metadata": {
        "id": "6rRrCDdbunQI"
      },
      "outputs": [],
      "source": [
        "calls_df['mes'] = pd.DatetimeIndex(calls_df['call_date']).month"
      ]
    },
    {
      "cell_type": "code",
      "execution_count": null,
      "metadata": {
        "colab": {
          "base_uri": "https://localhost:8080/"
        },
        "id": "h9Ia5srSunQJ",
        "outputId": "7f17c76d-6952-43e0-b63c-ffb428ee41cc"
      },
      "outputs": [
        {
          "output_type": "stream",
          "name": "stdout",
          "text": [
            "         call_id  user_id  call_date  duration  mes\n",
            "0        1000_93     1000 2018-12-27       9.0   12\n",
            "1       1000_145     1000 2018-12-27      14.0   12\n",
            "2       1000_247     1000 2018-12-27      15.0   12\n",
            "3       1000_309     1000 2018-12-28       6.0   12\n",
            "4       1000_380     1000 2018-12-30       5.0   12\n",
            "...          ...      ...        ...       ...  ...\n",
            "137730  1499_199     1499 2018-11-21       9.0   11\n",
            "137731  1499_200     1499 2018-10-20      11.0   10\n",
            "137732  1499_201     1499 2018-09-21       9.0    9\n",
            "137733  1499_202     1499 2018-10-10       1.0   10\n",
            "137734  1499_203     1499 2018-12-29      14.0   12\n",
            "\n",
            "[137735 rows x 5 columns]\n",
            "\n",
            "<class 'pandas.core.frame.DataFrame'>\n",
            "RangeIndex: 137735 entries, 0 to 137734\n",
            "Data columns (total 5 columns):\n",
            " #   Column     Non-Null Count   Dtype         \n",
            "---  ------     --------------   -----         \n",
            " 0   call_id    137735 non-null  object        \n",
            " 1   user_id    137735 non-null  int64         \n",
            " 2   call_date  137735 non-null  datetime64[ns]\n",
            " 3   duration   137735 non-null  float64       \n",
            " 4   mes        137735 non-null  int32         \n",
            "dtypes: datetime64[ns](1), float64(1), int32(1), int64(1), object(1)\n",
            "memory usage: 4.7+ MB\n",
            "None\n"
          ]
        }
      ],
      "source": [
        "print(calls_df)\n",
        "print()\n",
        "print(calls_df.info())"
      ]
    },
    {
      "cell_type": "code",
      "source": [
        "print(calls_df.query('duration == 0'))"
      ],
      "metadata": {
        "colab": {
          "base_uri": "https://localhost:8080/"
        },
        "id": "MmRgnsVFpAqZ",
        "outputId": "12043a02-6fa6-44aa-d0f3-f230ef80b687"
      },
      "execution_count": null,
      "outputs": [
        {
          "output_type": "stream",
          "name": "stdout",
          "text": [
            "         call_id  user_id  call_date  duration  mes\n",
            "19        1001_4     1001 2018-12-05       0.0   12\n",
            "25       1001_13     1001 2018-12-24       0.0   12\n",
            "31       1001_30     1001 2018-10-17       0.0   10\n",
            "32       1001_31     1001 2018-11-03       0.0   11\n",
            "34       1001_35     1001 2018-12-21       0.0   12\n",
            "...          ...      ...        ...       ...  ...\n",
            "137714  1499_183     1499 2018-11-10       0.0   11\n",
            "137715  1499_184     1499 2018-09-15       0.0    9\n",
            "137720  1499_189     1499 2018-12-27       0.0   12\n",
            "137722  1499_191     1499 2018-12-24       0.0   12\n",
            "137725  1499_194     1499 2018-10-31       0.0   10\n",
            "\n",
            "[26834 rows x 5 columns]\n"
          ]
        }
      ]
    },
    {
      "cell_type": "code",
      "source": [
        "calls_df = calls_df.drop(calls_df[calls_df['duration'] == 0].index)"
      ],
      "metadata": {
        "id": "tEGO1WXls5Lk"
      },
      "execution_count": null,
      "outputs": []
    },
    {
      "cell_type": "code",
      "source": [
        "print(calls_df.query('duration == 0'))"
      ],
      "metadata": {
        "colab": {
          "base_uri": "https://localhost:8080/"
        },
        "id": "FZfVo83Es8R0",
        "outputId": "fd17ca10-5bf4-4319-9543-76d7bd1f9b7c"
      },
      "execution_count": null,
      "outputs": [
        {
          "output_type": "stream",
          "name": "stdout",
          "text": [
            "Empty DataFrame\n",
            "Columns: [call_id, user_id, call_date, duration, mes]\n",
            "Index: []\n"
          ]
        }
      ]
    },
    {
      "cell_type": "markdown",
      "metadata": {
        "id": "mOUZSi180q0_"
      },
      "source": [
        "## Mensajes"
      ]
    },
    {
      "cell_type": "code",
      "execution_count": null,
      "metadata": {
        "id": "R-bYJpdV0q1A",
        "colab": {
          "base_uri": "https://localhost:8080/"
        },
        "outputId": "9b3ceba1-2fd6-459b-d67d-3ab2e850aba5"
      },
      "outputs": [
        {
          "output_type": "stream",
          "name": "stdout",
          "text": [
            "<class 'pandas.core.frame.DataFrame'>\n",
            "RangeIndex: 76051 entries, 0 to 76050\n",
            "Data columns (total 3 columns):\n",
            " #   Column        Non-Null Count  Dtype \n",
            "---  ------        --------------  ----- \n",
            " 0   id            76051 non-null  object\n",
            " 1   user_id       76051 non-null  int64 \n",
            " 2   message_date  76051 non-null  object\n",
            "dtypes: int64(1), object(2)\n",
            "memory usage: 1.7+ MB\n",
            "None\n"
          ]
        }
      ],
      "source": [
        "# Imprime la información general/resumida sobre el DataFrame de los mensajes\n",
        "print(messages_df.info())"
      ]
    },
    {
      "cell_type": "code",
      "execution_count": null,
      "metadata": {
        "id": "mCEl2iGE0q1A",
        "colab": {
          "base_uri": "https://localhost:8080/"
        },
        "outputId": "0bb9eef6-e0e3-448c-dcda-6bee36709505"
      },
      "outputs": [
        {
          "output_type": "stream",
          "name": "stdout",
          "text": [
            "         id  user_id message_date\n",
            "0  1000_125     1000   2018-12-27\n",
            "1  1000_160     1000   2018-12-31\n",
            "2  1000_223     1000   2018-12-31\n",
            "3  1000_251     1000   2018-12-27\n",
            "4  1000_255     1000   2018-12-26\n"
          ]
        }
      ],
      "source": [
        "# Imprime una muestra de datos para los mensajes\n",
        "print(messages_df.head())"
      ]
    },
    {
      "cell_type": "markdown",
      "metadata": {
        "id": "04xDj7KH0q1A"
      },
      "source": [
        "[Describe lo que ves y observas en la información general y en la muestra de datos impresa para el precio de datos anterior. ¿Hay algún problema (tipos de datos no adecuados, datos ausentes, etc.) que pudieran necesitar investigación y cambios adicionales? ¿Cómo se puede arreglar?]"
      ]
    },
    {
      "cell_type": "markdown",
      "metadata": {
        "id": "aMWhCIlBunQR"
      },
      "source": [
        " Se observa que hay una columna ID la cual deberiamos mejorar y colocarge messages_id\n",
        " La columna dates esta como object"
      ]
    },
    {
      "cell_type": "markdown",
      "metadata": {
        "id": "Sprfak900q1B"
      },
      "source": [
        "### Corregir los datos"
      ]
    },
    {
      "cell_type": "markdown",
      "metadata": {
        "id": "eGw7d9j10q1B"
      },
      "source": [
        "[Corrige los problemas obvios con los datos basándote en las observaciones iniciales.]"
      ]
    },
    {
      "cell_type": "code",
      "execution_count": null,
      "metadata": {
        "id": "vsllvkoa0q1B"
      },
      "outputs": [],
      "source": [
        "messages_df['message_date'] =pd.to_datetime(messages_df['message_date'], format ='%Y-%m-%d')"
      ]
    },
    {
      "cell_type": "markdown",
      "metadata": {
        "id": "HvLid7iD0q1B"
      },
      "source": [
        "### Enriquecer los datos"
      ]
    },
    {
      "cell_type": "markdown",
      "metadata": {
        "id": "8nhPFKIe0q1C"
      },
      "source": [
        "[Agrega factores adicionales a los datos si crees que pudieran ser útiles.]"
      ]
    },
    {
      "cell_type": "code",
      "execution_count": null,
      "metadata": {
        "id": "zYEXZac10q1C",
        "colab": {
          "base_uri": "https://localhost:8080/"
        },
        "outputId": "812d94da-0b11-49b2-b996-0b76434020f0"
      },
      "outputs": [
        {
          "output_type": "stream",
          "name": "stdout",
          "text": [
            "  mensajes_id  user_id message_date  mes\n",
            "0    1000_125     1000   2018-12-27   12\n",
            "1    1000_160     1000   2018-12-31   12\n",
            "2    1000_223     1000   2018-12-31   12\n",
            "3    1000_251     1000   2018-12-27   12\n",
            "4    1000_255     1000   2018-12-26   12\n"
          ]
        }
      ],
      "source": [
        "messages_df.rename(columns = {'id': 'mensajes_id'},inplace =True)\n",
        "messages_df['mes'] = pd.DatetimeIndex(messages_df['message_date']).month\n",
        "\n",
        "print(messages_df.head())"
      ]
    },
    {
      "cell_type": "code",
      "execution_count": null,
      "metadata": {
        "colab": {
          "base_uri": "https://localhost:8080/"
        },
        "id": "MlHBeE68unQU",
        "outputId": "e6eb78bf-4ea4-4c03-fc65-f8dced983893"
      },
      "outputs": [
        {
          "output_type": "stream",
          "name": "stdout",
          "text": [
            "<class 'pandas.core.frame.DataFrame'>\n",
            "RangeIndex: 76051 entries, 0 to 76050\n",
            "Data columns (total 4 columns):\n",
            " #   Column        Non-Null Count  Dtype         \n",
            "---  ------        --------------  -----         \n",
            " 0   mensajes_id   76051 non-null  object        \n",
            " 1   user_id       76051 non-null  int64         \n",
            " 2   message_date  76051 non-null  datetime64[ns]\n",
            " 3   mes           76051 non-null  int32         \n",
            "dtypes: datetime64[ns](1), int32(1), int64(1), object(1)\n",
            "memory usage: 2.0+ MB\n",
            "None\n"
          ]
        }
      ],
      "source": [
        "print(messages_df.info())"
      ]
    },
    {
      "cell_type": "markdown",
      "metadata": {
        "id": "bStkaxn40q1C"
      },
      "source": [
        "## Internet"
      ]
    },
    {
      "cell_type": "code",
      "execution_count": null,
      "metadata": {
        "id": "e-Uz5qyn0q1C",
        "colab": {
          "base_uri": "https://localhost:8080/"
        },
        "outputId": "704dec10-feed-499e-fd6d-dc3d2c43ad34"
      },
      "outputs": [
        {
          "output_type": "stream",
          "name": "stdout",
          "text": [
            "<class 'pandas.core.frame.DataFrame'>\n",
            "RangeIndex: 104825 entries, 0 to 104824\n",
            "Data columns (total 4 columns):\n",
            " #   Column        Non-Null Count   Dtype  \n",
            "---  ------        --------------   -----  \n",
            " 0   id            104825 non-null  object \n",
            " 1   user_id       104825 non-null  int64  \n",
            " 2   session_date  104825 non-null  object \n",
            " 3   mb_used       104825 non-null  float64\n",
            "dtypes: float64(1), int64(1), object(2)\n",
            "memory usage: 3.2+ MB\n",
            "None\n"
          ]
        }
      ],
      "source": [
        "# Imprime la información general/resumida sobre el DataFrame de internet\n",
        "print(internet_df.info())"
      ]
    },
    {
      "cell_type": "code",
      "execution_count": null,
      "metadata": {
        "id": "9r3x_XLw0q1C",
        "colab": {
          "base_uri": "https://localhost:8080/"
        },
        "outputId": "e2f1eddf-ad32-4a4c-e7a1-46e118bd0f66"
      },
      "outputs": [
        {
          "output_type": "stream",
          "name": "stdout",
          "text": [
            "         id  user_id session_date  mb_used\n",
            "0   1000_13     1000   2018-12-29    89.86\n",
            "1  1000_204     1000   2018-12-31     0.00\n",
            "2  1000_379     1000   2018-12-28   660.40\n",
            "3  1000_413     1000   2018-12-26   270.99\n",
            "4  1000_442     1000   2018-12-27   880.22\n"
          ]
        }
      ],
      "source": [
        "# Imprime una muestra de datos para el tráfico de internet\n",
        "print(internet_df.head())"
      ]
    },
    {
      "cell_type": "markdown",
      "metadata": {
        "id": "EzOG5ik30q1D"
      },
      "source": [
        "[Describe lo que ves y observas en la información general y en la muestra de datos impresa para el precio de datos anterior. ¿Hay algún problema (tipos de datos no adecuados, datos ausentes, etc.) que pudieran necesitar investigación y cambios adicionales? ¿Cómo se puede arreglar?]"
      ]
    },
    {
      "cell_type": "markdown",
      "metadata": {
        "id": "yA0tkPFg0q1D"
      },
      "source": [
        "### Corregir los datos"
      ]
    },
    {
      "cell_type": "markdown",
      "metadata": {
        "id": "zlZMuIEK0q1D"
      },
      "source": [
        "[Corrige los problemas obvios con los datos basándote en las observaciones iniciales.]"
      ]
    },
    {
      "cell_type": "code",
      "execution_count": null,
      "metadata": {
        "id": "ESiYPIEK0q1E"
      },
      "outputs": [],
      "source": [
        "internet_df['session_date']= pd.to_datetime(internet_df['session_date'], format= '%Y-%m-%d')"
      ]
    },
    {
      "cell_type": "markdown",
      "metadata": {
        "id": "e8_mLF4a0q1E"
      },
      "source": [
        "### Enriquecer los datos"
      ]
    },
    {
      "cell_type": "markdown",
      "metadata": {
        "id": "xhNdn2tE0q1E"
      },
      "source": [
        "[Agrega factores adicionales a los datos si crees que pudieran ser útiles.]"
      ]
    },
    {
      "cell_type": "code",
      "execution_count": null,
      "metadata": {
        "id": "n5NdNT1YunQX"
      },
      "outputs": [],
      "source": [
        "internet_df['mes']= pd.DatetimeIndex(internet_df['session_date']).month"
      ]
    },
    {
      "cell_type": "code",
      "execution_count": null,
      "metadata": {
        "id": "7kiWjBLdunQY"
      },
      "outputs": [],
      "source": [
        "#Redondeamos los Mbs\n",
        "#internet_df['mb_used']= np.ceil(internet_df['mb_used'])"
      ]
    },
    {
      "cell_type": "code",
      "source": [
        "print(internet_df.info())"
      ],
      "metadata": {
        "colab": {
          "base_uri": "https://localhost:8080/"
        },
        "id": "sLShuHxYvtiF",
        "outputId": "2c6877ef-155e-482d-a93c-323f5dad5818"
      },
      "execution_count": null,
      "outputs": [
        {
          "output_type": "stream",
          "name": "stdout",
          "text": [
            "<class 'pandas.core.frame.DataFrame'>\n",
            "RangeIndex: 104825 entries, 0 to 104824\n",
            "Data columns (total 5 columns):\n",
            " #   Column        Non-Null Count   Dtype         \n",
            "---  ------        --------------   -----         \n",
            " 0   id            104825 non-null  object        \n",
            " 1   user_id       104825 non-null  int64         \n",
            " 2   session_date  104825 non-null  datetime64[ns]\n",
            " 3   mb_used       104825 non-null  float64       \n",
            " 4   mes           104825 non-null  int32         \n",
            "dtypes: datetime64[ns](1), float64(1), int32(1), int64(1), object(1)\n",
            "memory usage: 3.6+ MB\n",
            "None\n"
          ]
        }
      ]
    },
    {
      "cell_type": "code",
      "execution_count": null,
      "metadata": {
        "id": "BYlwTqXNunQY"
      },
      "outputs": [],
      "source": [
        "internet_df.rename(columns ={'id': 'internet_id'}, inplace = True)"
      ]
    },
    {
      "cell_type": "code",
      "source": [
        "# histograma de la columna 'mb_used'\n",
        "plt.hist(internet_df['mb_used'], bins=20)\n",
        "plt.xlabel('Uso de datos (MB)')\n",
        "plt.ylabel('Frecuencia')\n",
        "plt.title('Distribución del uso de datos')\n",
        "plt.show()\n",
        "\n",
        "# diagrama de caja de la columna 'mb_used'\n",
        "plt.boxplot(internet_df['mb_used'])\n",
        "plt.ylabel('Uso de datos (MB)')\n",
        "plt.title('Diagrama de caja del uso de datos')\n",
        "plt.show()\n",
        "\n",
        "# Explicación:\n",
        "# El histograma muestra que la distribución del uso de datos está sesgada hacia la derecha,\n",
        "# lo que indica que hay algunos usuarios que utilizan una gran cantidad de datos.\n",
        "# El diagrama de caja confirma esta observación, mostrando varios valores atípicos en el extremo superior de la distribución.\n",
        "# Esto sugiere que puede haber algunos usuarios que están utilizando el servicio de manera intensiva,\n",
        "# lo que podría afectar los ingresos de la empresa.\n"
      ],
      "metadata": {
        "colab": {
          "base_uri": "https://localhost:8080/",
          "height": 907
        },
        "id": "RUY4cpWuw5sZ",
        "outputId": "7b4495f1-81c4-4ef2-f68c-d54aaa09fe39"
      },
      "execution_count": null,
      "outputs": [
        {
          "output_type": "display_data",
          "data": {
            "text/plain": [
              "<Figure size 640x480 with 1 Axes>"
            ],
            "image/png": "[encoded data removed]"
          },
          "metadata": {}
        },
        {
          "output_type": "display_data",
          "data": {
            "text/plain": [
              "<Figure size 640x480 with 1 Axes>"
            ],
            "image/png": "[encoded data removed]"
          },
          "metadata": {}
        }
      ]
    },
    {
      "cell_type": "markdown",
      "source": [
        "**Aqui realizamos un rename a la columna id con internet_id, para tener en claro al momento de combinar las tablas mas adelante**"
      ],
      "metadata": {
        "id": "DC-8MTx6v2-O"
      }
    },
    {
      "cell_type": "markdown",
      "metadata": {
        "id": "3UA2cqIW0q1E"
      },
      "source": [
        "## Estudiar las condiciones de las tarifas"
      ]
    },
    {
      "cell_type": "markdown",
      "metadata": {
        "id": "T86Sqltq0q1F"
      },
      "source": [
        "[Es sumamente importante entender cómo funcionan las tarifas, cómo se les cobra a los usuarios en función de su plan de suscripción. Así que te sugerimos imprimir la información de la tarifa para ver una vez más sus condiciones.]"
      ]
    },
    {
      "cell_type": "code",
      "execution_count": null,
      "metadata": {
        "id": "i409op8p0q1F",
        "colab": {
          "base_uri": "https://localhost:8080/"
        },
        "outputId": "e36a92aa-84dc-4d68-a3d9-5c761386cd95"
      },
      "outputs": [
        {
          "output_type": "stream",
          "name": "stdout",
          "text": [
            "   messages_included  mb_per_month_included  minutes_included  \\\n",
            "0                 50                  15360               500   \n",
            "1               1000                  30720              3000   \n",
            "\n",
            "   usd_monthly_pay  usd_per_gb  usd_per_message  usd_per_minute  plan_id  \\\n",
            "0               20          10             0.03            0.03        1   \n",
            "1               70           7             0.01            0.01        2   \n",
            "\n",
            "   gb_per_month_included  \n",
            "0                   15.0  \n",
            "1                   30.0  \n",
            "\n",
            "\n",
            "<class 'pandas.core.frame.DataFrame'>\n",
            "RangeIndex: 2 entries, 0 to 1\n",
            "Data columns (total 9 columns):\n",
            " #   Column                 Non-Null Count  Dtype  \n",
            "---  ------                 --------------  -----  \n",
            " 0   messages_included      2 non-null      int64  \n",
            " 1   mb_per_month_included  2 non-null      int64  \n",
            " 2   minutes_included       2 non-null      int64  \n",
            " 3   usd_monthly_pay        2 non-null      int64  \n",
            " 4   usd_per_gb             2 non-null      int64  \n",
            " 5   usd_per_message        2 non-null      float64\n",
            " 6   usd_per_minute         2 non-null      float64\n",
            " 7   plan_id                2 non-null      int64  \n",
            " 8   gb_per_month_included  2 non-null      float64\n",
            "dtypes: float64(3), int64(6)\n",
            "memory usage: 272.0 bytes\n",
            "None\n"
          ]
        }
      ],
      "source": [
        "# Imprime las condiciones de la tarifa y asegúrate de que te quedan claras\n",
        "print(plans_df)\n",
        "print()\n",
        "print()\n",
        "print(plans_df.info())"
      ]
    },
    {
      "cell_type": "markdown",
      "metadata": {
        "id": "hMR1tP5d0q1F"
      },
      "source": [
        "## Agregar datos por usuario\n",
        "\n",
        "[Ahora que los datos están limpios, agrega los datos por usuario y por periodo para que solo haya un registro por usuario y por periodo. Esto facilitará mucho el análisis posterior.]"
      ]
    },
    {
      "cell_type": "code",
      "execution_count": null,
      "metadata": {
        "id": "A332cedB0q1G"
      },
      "outputs": [],
      "source": [
        "# Calcula el número de llamadas hechas por cada usuario al mes. Guarda el resultado.\n",
        "#hare una tabla llamda analytics, el cual usare la tabla call, para un pivot donde el indice sera user_id y mes, el valor que usaremos sera la duracion y la agregacion va hacer 2 columnas una que tenga la suma y otra que tenga la cantidad de llamadas\n",
        "calls_analytics = calls_df.pivot_table(index ={'user_id','mes'}, values = 'duration', aggfunc = ['sum','count'])"
      ]
    },
    {
      "cell_type": "code",
      "execution_count": null,
      "metadata": {
        "id": "qM9_bBYCunQa"
      },
      "outputs": [],
      "source": [
        "calls_analytics.columns = ['minutos_usados','total_llamadas']"
      ]
    },
    {
      "cell_type": "code",
      "execution_count": null,
      "metadata": {
        "colab": {
          "base_uri": "https://localhost:8080/"
        },
        "id": "-64ri4HuunQa",
        "outputId": "dabdb650-8283-4e01-de31-e7f77460efd7"
      },
      "outputs": [
        {
          "output_type": "stream",
          "name": "stdout",
          "text": [
            "      mes  user_id  minutos_usados  total_llamadas\n",
            "0       1     1042           114.0              14\n",
            "1       1     1077           290.0              33\n",
            "2       1     1185           181.0              18\n",
            "3       1     1196           287.0              32\n",
            "4       1     1214            16.0               2\n",
            "...   ...      ...             ...             ...\n",
            "2251   12     1495           492.0              56\n",
            "2252   12     1496           294.0              32\n",
            "2253   12     1497           300.0              42\n",
            "2254   12     1498           339.0              32\n",
            "2255   12     1499           496.0              56\n",
            "\n",
            "[2256 rows x 4 columns]\n"
          ]
        }
      ],
      "source": [
        "calls_analytics.reset_index(inplace = True)\n",
        "print(calls_analytics)\n"
      ]
    },
    {
      "cell_type": "code",
      "execution_count": null,
      "metadata": {
        "id": "aw2cmuql0q1G",
        "colab": {
          "base_uri": "https://localhost:8080/",
          "height": 673
        },
        "outputId": "db967c63-189b-43ee-8f1b-3a8f53262ded"
      },
      "outputs": [
        {
          "output_type": "stream",
          "name": "stdout",
          "text": [
            "      user_id  mes  minutos_usados\n",
            "0        1042    1           114.0\n",
            "1        1077    1           290.0\n",
            "2        1185    1           181.0\n",
            "3        1196    1           287.0\n",
            "4        1214    1            16.0\n",
            "...       ...  ...             ...\n",
            "2251     1495   12           492.0\n",
            "2252     1496   12           294.0\n",
            "2253     1497   12           300.0\n",
            "2254     1498   12           339.0\n",
            "2255     1499   12           496.0\n",
            "\n",
            "[2256 rows x 3 columns]\n"
          ]
        },
        {
          "output_type": "display_data",
          "data": {
            "text/plain": [
              "<Figure size 640x480 with 1 Axes>"
            ],
            "image/png": "[encoded data removed]"
          },
          "metadata": {}
        }
      ],
      "source": [
        "# Calcula la cantidad de minutos usados por cada usuario al mes. Guarda el resultado.\n",
        "minutos_usados_por_usuario = calls_analytics[['user_id' , 'mes','minutos_usados']]\n",
        "print(minutos_usados_por_usuario)\n",
        "plt.boxplot(calls_analytics['minutos_usados'])\n",
        "plt.show()"
      ]
    },
    {
      "cell_type": "code",
      "execution_count": null,
      "metadata": {
        "id": "CcQvNHn60q1G",
        "colab": {
          "base_uri": "https://localhost:8080/",
          "height": 690
        },
        "outputId": "9622ffda-df9f-4738-e366-03ea460d0459"
      },
      "outputs": [
        {
          "output_type": "stream",
          "name": "stdout",
          "text": [
            "      user_id  mes  cantidad_de_mensajes\n",
            "0        1000   12                    11\n",
            "1        1001    8                    30\n",
            "2        1001    9                    44\n",
            "3        1001   10                    53\n",
            "4        1001   11                    36\n",
            "...       ...  ...                   ...\n",
            "1801     1496    9                    21\n",
            "1802     1496   10                    18\n",
            "1803     1496   11                    13\n",
            "1804     1496   12                    11\n",
            "1805     1497   12                    50\n",
            "\n",
            "[1806 rows x 3 columns]\n",
            "\n"
          ]
        },
        {
          "output_type": "display_data",
          "data": {
            "text/plain": [
              "<Figure size 640x480 with 1 Axes>"
            ],
            "image/png": "[encoded data removed]"
          },
          "metadata": {}
        }
      ],
      "source": [
        "# Calcula el número de mensajes enviados por cada usuario al mes. Guarda el resultado.\n",
        "# usamos valores el ID , funcion de agregacion el count. en mensajes solo calculamos la cantidad de mensajes enviados por el usuario en el mes\n",
        "menssages_analytics = messages_df.pivot_table(index =['user_id' , 'mes'], values = 'mensajes_id', aggfunc = 'count')\n",
        "menssages_analytics.columns = ['cantidad_de_mensajes']\n",
        "menssages_analytics.reset_index(inplace=True)\n",
        "print(menssages_analytics)\n",
        "print()\n",
        "plt.boxplot(menssages_analytics['cantidad_de_mensajes'])\n",
        "plt.show()"
      ]
    },
    {
      "cell_type": "code",
      "execution_count": null,
      "metadata": {
        "id": "H1AqN2eG0q1H",
        "colab": {
          "base_uri": "https://localhost:8080/"
        },
        "outputId": "517b84f2-69ba-4303-d369-ddb728056ff9"
      },
      "outputs": [
        {
          "output_type": "stream",
          "name": "stdout",
          "text": [
            "      user_id  mes  total_de_datos usados  total_de_datos_usados_gb\n",
            "0        1000   12                1901.47                       2.0\n",
            "1        1001    8                6919.15                       7.0\n",
            "2        1001    9               13314.82                      14.0\n",
            "3        1001   10               22330.49                      22.0\n",
            "4        1001   11               18504.30                      19.0\n",
            "...       ...  ...                    ...                       ...\n",
            "2272     1498   12               23137.69                      23.0\n",
            "2273     1499    9               12984.76                      13.0\n",
            "2274     1499   10               19492.43                      20.0\n",
            "2275     1499   11               16813.83                      17.0\n",
            "2276     1499   12               22059.21                      22.0\n",
            "\n",
            "[2277 rows x 4 columns]\n"
          ]
        }
      ],
      "source": [
        "# Calcula el volumen del tráfico de Internet usado por cada usuario al mes. Guarda el resultado.\n",
        "internet_analytics = internet_df.pivot_table(index = ['user_id','mes'], values = 'mb_used', aggfunc = 'sum')\n",
        "internet_analytics.columns = ['total_de_datos usados']\n",
        "internet_analytics.reset_index(inplace=True)\n",
        "internet_analytics['total_de_datos_usados_gb'] =np.ceil(internet_analytics['total_de_datos usados']/1024)\n",
        "print(internet_analytics)"
      ]
    },
    {
      "cell_type": "markdown",
      "metadata": {
        "id": "VDfYXnj80q1H"
      },
      "source": [
        "[Junta los datos agregados en un DataFrame para que haya un registro que represente lo que consumió un usuario único en un mes determinado.]"
      ]
    },
    {
      "cell_type": "code",
      "execution_count": null,
      "metadata": {
        "id": "FW99ykyf0q1H",
        "colab": {
          "base_uri": "https://localhost:8080/"
        },
        "outputId": "a442baf5-ca50-49ba-b38a-86a3cc85a57d"
      },
      "outputs": [
        {
          "output_type": "stream",
          "name": "stdout",
          "text": [
            "      mes  user_id  minutos_usados  total_llamadas  cantidad_de_mensajes  \\\n",
            "0       1     1042           114.0            14.0                   NaN   \n",
            "1       1     1077           290.0            33.0                  37.0   \n",
            "2       1     1185           181.0            18.0                   NaN   \n",
            "3       1     1196           287.0            32.0                  23.0   \n",
            "4       1     1214            16.0             2.0                   2.0   \n",
            "...   ...      ...             ...             ...                   ...   \n",
            "2288   11     1407             NaN             NaN                   1.0   \n",
            "2289   10     1482             NaN             NaN                   2.0   \n",
            "2290   10     1094             NaN             NaN                   NaN   \n",
            "2291   12     1108             NaN             NaN                   NaN   \n",
            "2292    6     1311             NaN             NaN                   NaN   \n",
            "\n",
            "      total_de_datos usados  total_de_datos_usados_gb  \n",
            "0                   1854.93                       2.0  \n",
            "1                  10635.64                      11.0  \n",
            "2                   6812.77                       7.0  \n",
            "3                   8908.61                       9.0  \n",
            "4                   1315.35                       2.0  \n",
            "...                     ...                       ...  \n",
            "2288                 290.06                       1.0  \n",
            "2289                    NaN                       NaN  \n",
            "2290                1728.71                       2.0  \n",
            "2291                 233.17                       1.0  \n",
            "2292                1498.83                       2.0  \n",
            "\n",
            "[2293 rows x 7 columns]\n"
          ]
        }
      ],
      "source": [
        "# Fusiona los datos de llamadas, minutos, mensajes e Internet con base en user_id y month\n",
        "calls_and_messages = calls_analytics.merge(menssages_analytics, on = ['user_id','mes'],how='outer')\n",
        "calls_messages_internet = calls_and_messages.merge(internet_analytics, on =['user_id','mes'], how = 'outer')\n",
        "\n",
        "print(calls_messages_internet)"
      ]
    },
    {
      "cell_type": "code",
      "source": [
        "# plans_df['plan_id'] = plans_df['plan_id'].astype(int)"
      ],
      "metadata": {
        "id": "9-ZIA1bc4ZOs"
      },
      "execution_count": null,
      "outputs": []
    },
    {
      "cell_type": "code",
      "execution_count": null,
      "metadata": {
        "id": "0dNOXHag0q1H",
        "colab": {
          "base_uri": "https://localhost:8080/"
        },
        "outputId": "711a0053-c781-46d3-8f8c-2d453f1de9dc"
      },
      "outputs": [
        {
          "output_type": "stream",
          "name": "stdout",
          "text": [
            "       mes  user_id  minutos_usados  total_llamadas  cantidad_de_mensajes  \\\n",
            "0      1.0   1042.0           114.0            14.0                   0.0   \n",
            "1      2.0   1042.0           254.0            27.0                   0.0   \n",
            "2      3.0   1042.0           214.0            28.0                   0.0   \n",
            "3      4.0   1042.0           279.0            35.0                   0.0   \n",
            "4      5.0   1042.0           489.0            43.0                   0.0   \n",
            "...    ...      ...             ...             ...                   ...   \n",
            "2290  11.0   1349.0             0.0             0.0                  72.0   \n",
            "2291  12.0   1349.0             0.0             0.0                  61.0   \n",
            "2292  12.0   1108.0             0.0             0.0                   0.0   \n",
            "0      0.0      0.0             0.0             0.0                   0.0   \n",
            "1      0.0      0.0             0.0             0.0                   0.0   \n",
            "\n",
            "      total_de_datos usados  total_de_datos_usados_gb   plan_id  \\\n",
            "0                   1854.93                       2.0      surf   \n",
            "1                   6801.48                       7.0      surf   \n",
            "2                   7400.58                       8.0      surf   \n",
            "3                   7102.40                       7.0      surf   \n",
            "4                   9061.44                       9.0      surf   \n",
            "...                     ...                       ...       ...   \n",
            "2290               17128.26                      17.0      surf   \n",
            "2291               13039.91                      13.0      surf   \n",
            "2292                 233.17                       1.0  ultimate   \n",
            "0                      0.00                       0.0         1   \n",
            "1                      0.00                       0.0         2   \n",
            "\n",
            "                                                 city             reg_date  \\\n",
            "0     Philadelphia-Camden-Wilmington, PA-NJ-DE-MD MSA  2018-01-15 00:00:00   \n",
            "1     Philadelphia-Camden-Wilmington, PA-NJ-DE-MD MSA  2018-01-15 00:00:00   \n",
            "2     Philadelphia-Camden-Wilmington, PA-NJ-DE-MD MSA  2018-01-15 00:00:00   \n",
            "3     Philadelphia-Camden-Wilmington, PA-NJ-DE-MD MSA  2018-01-15 00:00:00   \n",
            "4     Philadelphia-Camden-Wilmington, PA-NJ-DE-MD MSA  2018-01-15 00:00:00   \n",
            "...                                               ...                  ...   \n",
            "2290               Boston-Cambridge-Newton, MA-NH MSA  2018-10-01 00:00:00   \n",
            "2291               Boston-Cambridge-Newton, MA-NH MSA  2018-10-01 00:00:00   \n",
            "2292                           Salt Lake City, UT MSA  2018-12-30 00:00:00   \n",
            "0                                                   0                    0   \n",
            "1                                                   0                    0   \n",
            "\n",
            "      messages_included  mb_per_month_included  minutes_included  \\\n",
            "0                   0.0                    0.0               0.0   \n",
            "1                   0.0                    0.0               0.0   \n",
            "2                   0.0                    0.0               0.0   \n",
            "3                   0.0                    0.0               0.0   \n",
            "4                   0.0                    0.0               0.0   \n",
            "...                 ...                    ...               ...   \n",
            "2290                0.0                    0.0               0.0   \n",
            "2291                0.0                    0.0               0.0   \n",
            "2292                0.0                    0.0               0.0   \n",
            "0                  50.0                15360.0             500.0   \n",
            "1                1000.0                30720.0            3000.0   \n",
            "\n",
            "      usd_monthly_pay  usd_per_gb  usd_per_message  usd_per_minute  \\\n",
            "0                 0.0         0.0             0.00            0.00   \n",
            "1                 0.0         0.0             0.00            0.00   \n",
            "2                 0.0         0.0             0.00            0.00   \n",
            "3                 0.0         0.0             0.00            0.00   \n",
            "4                 0.0         0.0             0.00            0.00   \n",
            "...               ...         ...              ...             ...   \n",
            "2290              0.0         0.0             0.00            0.00   \n",
            "2291              0.0         0.0             0.00            0.00   \n",
            "2292              0.0         0.0             0.00            0.00   \n",
            "0                20.0        10.0             0.03            0.03   \n",
            "1                70.0         7.0             0.01            0.01   \n",
            "\n",
            "      gb_per_month_included  \n",
            "0                       0.0  \n",
            "1                       0.0  \n",
            "2                       0.0  \n",
            "3                       0.0  \n",
            "4                       0.0  \n",
            "...                     ...  \n",
            "2290                    0.0  \n",
            "2291                    0.0  \n",
            "2292                    0.0  \n",
            "0                      15.0  \n",
            "1                      30.0  \n",
            "\n",
            "[2295 rows x 18 columns]\n"
          ]
        },
        {
          "output_type": "stream",
          "name": "stderr",
          "text": [
            "<ipython-input-66-4f7f102eba5f>:6: FutureWarning: Setting an item of incompatible dtype is deprecated and will raise in a future error of pandas. Value '0' has dtype incompatible with datetime64[ns], please explicitly cast to a compatible dtype first.\n",
            "  tabla_de_consumo_1.fillna(0, inplace=True)\n"
          ]
        }
      ],
      "source": [
        "# Añade la información de la tarifa\n",
        "# Realiza las uniones\n",
        "tabla_de_consumo = calls_messages_internet.merge(users_df[['user_id', 'plan_id', 'city', 'reg_date']], on='user_id', how='inner')\n",
        "\n",
        "tabla_de_consumo_1 = pd.concat([tabla_de_consumo, plans_df], axis=0)\n",
        "tabla_de_consumo_1.fillna(0, inplace=True)\n",
        "\n",
        "# Muestra el resultado\n",
        "print(tabla_de_consumo_1)\n"
      ]
    },
    {
      "cell_type": "markdown",
      "metadata": {
        "id": "1IwGo4wg0q1I"
      },
      "source": [
        "[Calcula los ingresos mensuales por usuario (resta el límite del paquete gratuito del número total de llamadas, mensajes de texto y datos; multiplica el resultado por el valor del plan de llamadas; añade la tarifa mensual en función del plan de llamadas). Nota: Dadas las condiciones del plan, ¡esto podría no ser tan trivial como un par de líneas! Así que no pasa nada si dedicas algo de tiempo a ello.]"
      ]
    },
    {
      "cell_type": "code",
      "execution_count": null,
      "metadata": {
        "id": "5FGCf_c60q1I"
      },
      "outputs": [],
      "source": [
        "# Calcula el ingreso mensual para cada usuario\n",
        "def rentabilidad_mensual(fila):\n",
        "    pass\n",
        "tabla_de_consumo['ingreso_mensual'] = tabla_de_consumo.apply(rentabilidad_mensual, axis =1)"
      ]
    },
    {
      "cell_type": "code",
      "execution_count": null,
      "metadata": {
        "id": "lDF1jx4XunQd"
      },
      "outputs": [],
      "source": [
        "def rentabilidad_mensual(fila):\n",
        "    ingreso_mensual = 0\n",
        "    ingreso_mensajes = 0\n",
        "    ingreso_internet = 0\n",
        "\n",
        "    ingreso_llamadas = 0\n",
        "    if fila['minutos_usados'] > fila['minutes_included']:\n",
        "        ingreso_llamadas = (fila['minutos_usados'] - fila['minutes_included']) * fila['usd_per_minute']\n",
        "\n",
        "    if fila['cantidad_de_mensajes'] > fila['messages_included']:\n",
        "        ingreso_mensajes = (fila['cantidad_de_mensajes'] - fila['messages_included']) * fila['usd_per_message']\n",
        "\n",
        "    if fila['total_de_datos usados'] > fila['gb_per_month_included']:\n",
        "        ingreso_internet = np.ceil((fila['total_de_datos usados'] - fila['gb_per_month_included'])/1024) * fila['usd_per_gb']\n",
        "\n",
        "    ingreso_mensual = fila ['usd_monthly_pay']+ ingreso_llamadas + ingreso_mensajes + ingreso_internet\n",
        "    return ingreso_mensual"
      ]
    },
    {
      "cell_type": "code",
      "execution_count": null,
      "metadata": {
        "colab": {
          "base_uri": "https://localhost:8080/"
        },
        "id": "WSi7Z0xfunQe",
        "outputId": "57c5a4c6-87bc-4d7c-8433-41812d02a8ec"
      },
      "outputs": [
        {
          "output_type": "stream",
          "name": "stdout",
          "text": [
            "Index(['mes', 'user_id', 'minutos_usados', 'total_llamadas',\n",
            "       'cantidad_de_mensajes', 'total_de_datos usados',\n",
            "       'total_de_datos_usados_gb', 'plan_id', 'city', 'reg_date',\n",
            "       'messages_included', 'mb_per_month_included', 'minutes_included',\n",
            "       'usd_monthly_pay', 'usd_per_gb', 'usd_per_message', 'usd_per_minute',\n",
            "       'gb_per_month_included', 'ingreso_mensual'],\n",
            "      dtype='object')\n"
          ]
        }
      ],
      "source": [
        "print(tabla_de_consumo_1.columns)"
      ]
    },
    {
      "cell_type": "code",
      "source": [
        "print(rentabilidad_mensual)"
      ],
      "metadata": {
        "colab": {
          "base_uri": "https://localhost:8080/"
        },
        "id": "qTzi5A8H8gED",
        "outputId": "67b4c69a-0b36-4e77-bbe4-34cf6286cb1e"
      },
      "execution_count": null,
      "outputs": [
        {
          "output_type": "stream",
          "name": "stdout",
          "text": [
            "<function rentabilidad_mensual at 0x7fd1e5e4feb0>\n"
          ]
        }
      ]
    },
    {
      "cell_type": "code",
      "execution_count": null,
      "metadata": {
        "id": "GQTrVbTMunQe"
      },
      "outputs": [],
      "source": [
        "tabla_de_consumo_1['ingreso_mensual'] = tabla_de_consumo_1.apply(rentabilidad_mensual, axis=1)"
      ]
    },
    {
      "cell_type": "code",
      "source": [
        "tabla_de_consumo_1.query('ingreso_mensual < 70')"
      ],
      "metadata": {
        "colab": {
          "base_uri": "https://localhost:8080/",
          "height": 999
        },
        "id": "nF6jvd_EHeb_",
        "outputId": "750e531d-c935-4ddc-dcd5-31a6216c6544"
      },
      "execution_count": null,
      "outputs": [
        {
          "output_type": "execute_result",
          "data": {
            "text/plain": [
              "       mes  user_id  minutos_usados  total_llamadas  cantidad_de_mensajes  \\\n",
              "0      1.0   1042.0           114.0            14.0                   0.0   \n",
              "1      2.0   1042.0           254.0            27.0                   0.0   \n",
              "2      3.0   1042.0           214.0            28.0                   0.0   \n",
              "3      4.0   1042.0           279.0            35.0                   0.0   \n",
              "4      5.0   1042.0           489.0            43.0                   0.0   \n",
              "...    ...      ...             ...             ...                   ...   \n",
              "2289  10.0   1349.0             0.0             0.0                  76.0   \n",
              "2290  11.0   1349.0             0.0             0.0                  72.0   \n",
              "2291  12.0   1349.0             0.0             0.0                  61.0   \n",
              "2292  12.0   1108.0             0.0             0.0                   0.0   \n",
              "0      0.0      0.0             0.0             0.0                   0.0   \n",
              "\n",
              "      total_de_datos usados  total_de_datos_usados_gb   plan_id  \\\n",
              "0                   1854.93                       2.0      surf   \n",
              "1                   6801.48                       7.0      surf   \n",
              "2                   7400.58                       8.0      surf   \n",
              "3                   7102.40                       7.0      surf   \n",
              "4                   9061.44                       9.0      surf   \n",
              "...                     ...                       ...       ...   \n",
              "2289               13093.55                      13.0      surf   \n",
              "2290               17128.26                      17.0      surf   \n",
              "2291               13039.91                      13.0      surf   \n",
              "2292                 233.17                       1.0  ultimate   \n",
              "0                      0.00                       0.0         1   \n",
              "\n",
              "                                                 city             reg_date  \\\n",
              "0     Philadelphia-Camden-Wilmington, PA-NJ-DE-MD MSA  2018-01-15 00:00:00   \n",
              "1     Philadelphia-Camden-Wilmington, PA-NJ-DE-MD MSA  2018-01-15 00:00:00   \n",
              "2     Philadelphia-Camden-Wilmington, PA-NJ-DE-MD MSA  2018-01-15 00:00:00   \n",
              "3     Philadelphia-Camden-Wilmington, PA-NJ-DE-MD MSA  2018-01-15 00:00:00   \n",
              "4     Philadelphia-Camden-Wilmington, PA-NJ-DE-MD MSA  2018-01-15 00:00:00   \n",
              "...                                               ...                  ...   \n",
              "2289               Boston-Cambridge-Newton, MA-NH MSA  2018-10-01 00:00:00   \n",
              "2290               Boston-Cambridge-Newton, MA-NH MSA  2018-10-01 00:00:00   \n",
              "2291               Boston-Cambridge-Newton, MA-NH MSA  2018-10-01 00:00:00   \n",
              "2292                           Salt Lake City, UT MSA  2018-12-30 00:00:00   \n",
              "0                                                   0                    0   \n",
              "\n",
              "      messages_included  mb_per_month_included  minutes_included  \\\n",
              "0                   0.0                    0.0               0.0   \n",
              "1                   0.0                    0.0               0.0   \n",
              "2                   0.0                    0.0               0.0   \n",
              "3                   0.0                    0.0               0.0   \n",
              "4                   0.0                    0.0               0.0   \n",
              "...                 ...                    ...               ...   \n",
              "2289                0.0                    0.0               0.0   \n",
              "2290                0.0                    0.0               0.0   \n",
              "2291                0.0                    0.0               0.0   \n",
              "2292                0.0                    0.0               0.0   \n",
              "0                  50.0                15360.0             500.0   \n",
              "\n",
              "      usd_monthly_pay  usd_per_gb  usd_per_message  usd_per_minute  \\\n",
              "0                 0.0         0.0             0.00            0.00   \n",
              "1                 0.0         0.0             0.00            0.00   \n",
              "2                 0.0         0.0             0.00            0.00   \n",
              "3                 0.0         0.0             0.00            0.00   \n",
              "4                 0.0         0.0             0.00            0.00   \n",
              "...               ...         ...              ...             ...   \n",
              "2289              0.0         0.0             0.00            0.00   \n",
              "2290              0.0         0.0             0.00            0.00   \n",
              "2291              0.0         0.0             0.00            0.00   \n",
              "2292              0.0         0.0             0.00            0.00   \n",
              "0                20.0        10.0             0.03            0.03   \n",
              "\n",
              "      gb_per_month_included  ingreso_mensual  \n",
              "0                       0.0              0.0  \n",
              "1                       0.0              0.0  \n",
              "2                       0.0              0.0  \n",
              "3                       0.0              0.0  \n",
              "4                       0.0              0.0  \n",
              "...                     ...              ...  \n",
              "2289                    0.0              0.0  \n",
              "2290                    0.0              0.0  \n",
              "2291                    0.0              0.0  \n",
              "2292                    0.0              0.0  \n",
              "0                      15.0             20.0  \n",
              "\n",
              "[2294 rows x 19 columns]"
            ],
            "text/html": [
              "\n",
              "  <div id=\"df-556f747d-129a-490b-ade9-a41a79adbc1a\" class=\"colab-df-container\">\n",
              "    <div>\n",
              "<style scoped>\n",
              "    .dataframe tbody tr th:only-of-type {\n",
              "        vertical-align: middle;\n",
              "    }\n",
              "\n",
              "    .dataframe tbody tr th {\n",
              "        vertical-align: top;\n",
              "    }\n",
              "\n",
              "    .dataframe thead th {\n",
              "        text-align: right;\n",
              "    }\n",
              "</style>\n",
              "<table border=\"1\" class=\"dataframe\">\n",
              "  <thead>\n",
              "    <tr style=\"text-align: right;\">\n",
              "      <th></th>\n",
              "      <th>mes</th>\n",
              "      <th>user_id</th>\n",
              "      <th>minutos_usados</th>\n",
              "      <th>total_llamadas</th>\n",
              "      <th>cantidad_de_mensajes</th>\n",
              "      <th>total_de_datos usados</th>\n",
              "      <th>total_de_datos_usados_gb</th>\n",
              "      <th>plan_id</th>\n",
              "      <th>city</th>\n",
              "      <th>reg_date</th>\n",
              "      <th>messages_included</th>\n",
              "      <th>mb_per_month_included</th>\n",
              "      <th>minutes_included</th>\n",
              "      <th>usd_monthly_pay</th>\n",
              "      <th>usd_per_gb</th>\n",
              "      <th>usd_per_message</th>\n",
              "      <th>usd_per_minute</th>\n",
              "      <th>gb_per_month_included</th>\n",
              "      <th>ingreso_mensual</th>\n",
              "    </tr>\n",
              "  </thead>\n",
              "  <tbody>\n",
              "    <tr>\n",
              "      <th>0</th>\n",
              "      <td>1.0</td>\n",
              "      <td>1042.0</td>\n",
              "      <td>114.0</td>\n",
              "      <td>14.0</td>\n",
              "      <td>0.0</td>\n",
              "      <td>1854.93</td>\n",
              "      <td>2.0</td>\n",
              "      <td>surf</td>\n",
              "      <td>Philadelphia-Camden-Wilmington, PA-NJ-DE-MD MSA</td>\n",
              "      <td>2018-01-15 00:00:00</td>\n",
              "      <td>0.0</td>\n",
              "      <td>0.0</td>\n",
              "      <td>0.0</td>\n",
              "      <td>0.0</td>\n",
              "      <td>0.0</td>\n",
              "      <td>0.00</td>\n",
              "      <td>0.00</td>\n",
              "      <td>0.0</td>\n",
              "      <td>0.0</td>\n",
              "    </tr>\n",
              "    <tr>\n",
              "      <th>1</th>\n",
              "      <td>2.0</td>\n",
              "      <td>1042.0</td>\n",
              "      <td>254.0</td>\n",
              "      <td>27.0</td>\n",
              "      <td>0.0</td>\n",
              "      <td>6801.48</td>\n",
              "      <td>7.0</td>\n",
              "      <td>surf</td>\n",
              "      <td>Philadelphia-Camden-Wilmington, PA-NJ-DE-MD MSA</td>\n",
              "      <td>2018-01-15 00:00:00</td>\n",
              "      <td>0.0</td>\n",
              "      <td>0.0</td>\n",
              "      <td>0.0</td>\n",
              "      <td>0.0</td>\n",
              "      <td>0.0</td>\n",
              "      <td>0.00</td>\n",
              "      <td>0.00</td>\n",
              "      <td>0.0</td>\n",
              "      <td>0.0</td>\n",
              "    </tr>\n",
              "    <tr>\n",
              "      <th>2</th>\n",
              "      <td>3.0</td>\n",
              "      <td>1042.0</td>\n",
              "      <td>214.0</td>\n",
              "      <td>28.0</td>\n",
              "      <td>0.0</td>\n",
              "      <td>7400.58</td>\n",
              "      <td>8.0</td>\n",
              "      <td>surf</td>\n",
              "      <td>Philadelphia-Camden-Wilmington, PA-NJ-DE-MD MSA</td>\n",
              "      <td>2018-01-15 00:00:00</td>\n",
              "      <td>0.0</td>\n",
              "      <td>0.0</td>\n",
              "      <td>0.0</td>\n",
              "      <td>0.0</td>\n",
              "      <td>0.0</td>\n",
              "      <td>0.00</td>\n",
              "      <td>0.00</td>\n",
              "      <td>0.0</td>\n",
              "      <td>0.0</td>\n",
              "    </tr>\n",
              "    <tr>\n",
              "      <th>3</th>\n",
              "      <td>4.0</td>\n",
              "      <td>1042.0</td>\n",
              "      <td>279.0</td>\n",
              "      <td>35.0</td>\n",
              "      <td>0.0</td>\n",
              "      <td>7102.40</td>\n",
              "      <td>7.0</td>\n",
              "      <td>surf</td>\n",
              "      <td>Philadelphia-Camden-Wilmington, PA-NJ-DE-MD MSA</td>\n",
              "      <td>2018-01-15 00:00:00</td>\n",
              "      <td>0.0</td>\n",
              "      <td>0.0</td>\n",
              "      <td>0.0</td>\n",
              "      <td>0.0</td>\n",
              "      <td>0.0</td>\n",
              "      <td>0.00</td>\n",
              "      <td>0.00</td>\n",
              "      <td>0.0</td>\n",
              "      <td>0.0</td>\n",
              "    </tr>\n",
              "    <tr>\n",
              "      <th>4</th>\n",
              "      <td>5.0</td>\n",
              "      <td>1042.0</td>\n",
              "      <td>489.0</td>\n",
              "      <td>43.0</td>\n",
              "      <td>0.0</td>\n",
              "      <td>9061.44</td>\n",
              "      <td>9.0</td>\n",
              "      <td>surf</td>\n",
              "      <td>Philadelphia-Camden-Wilmington, PA-NJ-DE-MD MSA</td>\n",
              "      <td>2018-01-15 00:00:00</td>\n",
              "      <td>0.0</td>\n",
              "      <td>0.0</td>\n",
              "      <td>0.0</td>\n",
              "      <td>0.0</td>\n",
              "      <td>0.0</td>\n",
              "      <td>0.00</td>\n",
              "      <td>0.00</td>\n",
              "      <td>0.0</td>\n",
              "      <td>0.0</td>\n",
              "    </tr>\n",
              "    <tr>\n",
              "      <th>...</th>\n",
              "      <td>...</td>\n",
              "      <td>...</td>\n",
              "      <td>...</td>\n",
              "      <td>...</td>\n",
              "      <td>...</td>\n",
              "      <td>...</td>\n",
              "      <td>...</td>\n",
              "      <td>...</td>\n",
              "      <td>...</td>\n",
              "      <td>...</td>\n",
              "      <td>...</td>\n",
              "      <td>...</td>\n",
              "      <td>...</td>\n",
              "      <td>...</td>\n",
              "      <td>...</td>\n",
              "      <td>...</td>\n",
              "      <td>...</td>\n",
              "      <td>...</td>\n",
              "      <td>...</td>\n",
              "    </tr>\n",
              "    <tr>\n",
              "      <th>2289</th>\n",
              "      <td>10.0</td>\n",
              "      <td>1349.0</td>\n",
              "      <td>0.0</td>\n",
              "      <td>0.0</td>\n",
              "      <td>76.0</td>\n",
              "      <td>13093.55</td>\n",
              "      <td>13.0</td>\n",
              "      <td>surf</td>\n",
              "      <td>Boston-Cambridge-Newton, MA-NH MSA</td>\n",
              "      <td>2018-10-01 00:00:00</td>\n",
              "      <td>0.0</td>\n",
              "      <td>0.0</td>\n",
              "      <td>0.0</td>\n",
              "      <td>0.0</td>\n",
              "      <td>0.0</td>\n",
              "      <td>0.00</td>\n",
              "      <td>0.00</td>\n",
              "      <td>0.0</td>\n",
              "      <td>0.0</td>\n",
              "    </tr>\n",
              "    <tr>\n",
              "      <th>2290</th>\n",
              "      <td>11.0</td>\n",
              "      <td>1349.0</td>\n",
              "      <td>0.0</td>\n",
              "      <td>0.0</td>\n",
              "      <td>72.0</td>\n",
              "      <td>17128.26</td>\n",
              "      <td>17.0</td>\n",
              "      <td>surf</td>\n",
              "      <td>Boston-Cambridge-Newton, MA-NH MSA</td>\n",
              "      <td>2018-10-01 00:00:00</td>\n",
              "      <td>0.0</td>\n",
              "      <td>0.0</td>\n",
              "      <td>0.0</td>\n",
              "      <td>0.0</td>\n",
              "      <td>0.0</td>\n",
              "      <td>0.00</td>\n",
              "      <td>0.00</td>\n",
              "      <td>0.0</td>\n",
              "      <td>0.0</td>\n",
              "    </tr>\n",
              "    <tr>\n",
              "      <th>2291</th>\n",
              "      <td>12.0</td>\n",
              "      <td>1349.0</td>\n",
              "      <td>0.0</td>\n",
              "      <td>0.0</td>\n",
              "      <td>61.0</td>\n",
              "      <td>13039.91</td>\n",
              "      <td>13.0</td>\n",
              "      <td>surf</td>\n",
              "      <td>Boston-Cambridge-Newton, MA-NH MSA</td>\n",
              "      <td>2018-10-01 00:00:00</td>\n",
              "      <td>0.0</td>\n",
              "      <td>0.0</td>\n",
              "      <td>0.0</td>\n",
              "      <td>0.0</td>\n",
              "      <td>0.0</td>\n",
              "      <td>0.00</td>\n",
              "      <td>0.00</td>\n",
              "      <td>0.0</td>\n",
              "      <td>0.0</td>\n",
              "    </tr>\n",
              "    <tr>\n",
              "      <th>2292</th>\n",
              "      <td>12.0</td>\n",
              "      <td>1108.0</td>\n",
              "      <td>0.0</td>\n",
              "      <td>0.0</td>\n",
              "      <td>0.0</td>\n",
              "      <td>233.17</td>\n",
              "      <td>1.0</td>\n",
              "      <td>ultimate</td>\n",
              "      <td>Salt Lake City, UT MSA</td>\n",
              "      <td>2018-12-30 00:00:00</td>\n",
              "      <td>0.0</td>\n",
              "      <td>0.0</td>\n",
              "      <td>0.0</td>\n",
              "      <td>0.0</td>\n",
              "      <td>0.0</td>\n",
              "      <td>0.00</td>\n",
              "      <td>0.00</td>\n",
              "      <td>0.0</td>\n",
              "      <td>0.0</td>\n",
              "    </tr>\n",
              "    <tr>\n",
              "      <th>0</th>\n",
              "      <td>0.0</td>\n",
              "      <td>0.0</td>\n",
              "      <td>0.0</td>\n",
              "      <td>0.0</td>\n",
              "      <td>0.0</td>\n",
              "      <td>0.00</td>\n",
              "      <td>0.0</td>\n",
              "      <td>1</td>\n",
              "      <td>0</td>\n",
              "      <td>0</td>\n",
              "      <td>50.0</td>\n",
              "      <td>15360.0</td>\n",
              "      <td>500.0</td>\n",
              "      <td>20.0</td>\n",
              "      <td>10.0</td>\n",
              "      <td>0.03</td>\n",
              "      <td>0.03</td>\n",
              "      <td>15.0</td>\n",
              "      <td>20.0</td>\n",
              "    </tr>\n",
              "  </tbody>\n",
              "</table>\n",
              "<p>2294 rows × 19 columns</p>\n",
              "</div>\n",
              "    <div class=\"colab-df-buttons\">\n",
              "\n",
              "  <div class=\"colab-df-container\">\n",
              "    <button class=\"colab-df-convert\" onclick=\"convertToInteractive('df-556f747d-129a-490b-ade9-a41a79adbc1a')\"\n",
              "            title=\"Convert this dataframe to an interactive table.\"\n",
              "            style=\"display:none;\">\n",
              "\n",
              "  <svg xmlns=\"http://www.w3.org/2000/svg\" height=\"24px\" viewBox=\"0 -960 960 960\">\n",
              "    <path d=\"M120-120v-720h720v720H120Zm60-500h600v-160H180v160Zm220 220h160v-160H400v160Zm0 220h160v-160H400v160ZM180-400h160v-160H180v160Zm440 0h160v-160H620v160ZM180-180h160v-160H180v160Zm440 0h160v-160H620v160Z\"/>\n",
              "  </svg>\n",
              "    </button>\n",
              "\n",
              "  <style>\n",
              "    .colab-df-container {\n",
              "      display:flex;\n",
              "      gap: 12px;\n",
              "    }\n",
              "\n",
              "    .colab-df-convert {\n",
              "      background-color: #E8F0FE;\n",
              "      border: none;\n",
              "      border-radius: 50%;\n",
              "      cursor: pointer;\n",
              "      display: none;\n",
              "      fill: #1967D2;\n",
              "      height: 32px;\n",
              "      padding: 0 0 0 0;\n",
              "      width: 32px;\n",
              "    }\n",
              "\n",
              "    .colab-df-convert:hover {\n",
              "      background-color: #E2EBFA;\n",
              "      box-shadow: 0px 1px 2px rgba(60, 64, 67, 0.3), 0px 1px 3px 1px rgba(60, 64, 67, 0.15);\n",
              "      fill: #174EA6;\n",
              "    }\n",
              "\n",
              "    .colab-df-buttons div {\n",
              "      margin-bottom: 4px;\n",
              "    }\n",
              "\n",
              "    [theme=dark] .colab-df-convert {\n",
              "      background-color: #3B4455;\n",
              "      fill: #D2E3FC;\n",
              "    }\n",
              "\n",
              "    [theme=dark] .colab-df-convert:hover {\n",
              "      background-color: #434B5C;\n",
              "      box-shadow: 0px 1px 3px 1px rgba(0, 0, 0, 0.15);\n",
              "      filter: drop-shadow(0px 1px 2px rgba(0, 0, 0, 0.3));\n",
              "      fill: #FFFFFF;\n",
              "    }\n",
              "  </style>\n",
              "\n",
              "    <script>\n",
              "      const buttonEl =\n",
              "        document.querySelector('#df-556f747d-129a-490b-ade9-a41a79adbc1a button.colab-df-convert');\n",
              "      buttonEl.style.display =\n",
              "        google.colab.kernel.accessAllowed ? 'block' : 'none';\n",
              "\n",
              "      async function convertToInteractive(key) {\n",
              "        const element = document.querySelector('#df-556f747d-129a-490b-ade9-a41a79adbc1a');\n",
              "        const dataTable =\n",
              "          await google.colab.kernel.invokeFunction('convertToInteractive',\n",
              "                                                    [key], {});\n",
              "        if (!dataTable) return;\n",
              "\n",
              "        const docLinkHtml = 'Like what you see? Visit the ' +\n",
              "          '<a target=\"_blank\" href=https://colab.research.google.com/notebooks/data_table.ipynb>data table notebook</a>'\n",
              "          + ' to learn more about interactive tables.';\n",
              "        element.innerHTML = '';\n",
              "        dataTable['output_type'] = 'display_data';\n",
              "        await google.colab.output.renderOutput(dataTable, element);\n",
              "        const docLink = document.createElement('div');\n",
              "        docLink.innerHTML = docLinkHtml;\n",
              "        element.appendChild(docLink);\n",
              "      }\n",
              "    </script>\n",
              "  </div>\n",
              "\n",
              "\n",
              "<div id=\"df-4143f115-5cad-4171-ac1f-34d9bcbf1fd8\">\n",
              "  <button class=\"colab-df-quickchart\" onclick=\"quickchart('df-4143f115-5cad-4171-ac1f-34d9bcbf1fd8')\"\n",
              "            title=\"Suggest charts\"\n",
              "            style=\"display:none;\">\n",
              "\n",
              "<svg xmlns=\"http://www.w3.org/2000/svg\" height=\"24px\"viewBox=\"0 0 24 24\"\n",
              "     width=\"24px\">\n",
              "    <g>\n",
              "        <path d=\"M19 3H5c-1.1 0-2 .9-2 2v14c0 1.1.9 2 2 2h14c1.1 0 2-.9 2-2V5c0-1.1-.9-2-2-2zM9 17H7v-7h2v7zm4 0h-2V7h2v10zm4 0h-2v-4h2v4z\"/>\n",
              "    </g>\n",
              "</svg>\n",
              "  </button>\n",
              "\n",
              "<style>\n",
              "  .colab-df-quickchart {\n",
              "      --bg-color: #E8F0FE;\n",
              "      --fill-color: #1967D2;\n",
              "      --hover-bg-color: #E2EBFA;\n",
              "      --hover-fill-color: #174EA6;\n",
              "      --disabled-fill-color: #AAA;\n",
              "      --disabled-bg-color: #DDD;\n",
              "  }\n",
              "\n",
              "  [theme=dark] .colab-df-quickchart {\n",
              "      --bg-color: #3B4455;\n",
              "      --fill-color: #D2E3FC;\n",
              "      --hover-bg-color: #434B5C;\n",
              "      --hover-fill-color: #FFFFFF;\n",
              "      --disabled-bg-color: #3B4455;\n",
              "      --disabled-fill-color: #666;\n",
              "  }\n",
              "\n",
              "  .colab-df-quickchart {\n",
              "    background-color: var(--bg-color);\n",
              "    border: none;\n",
              "    border-radius: 50%;\n",
              "    cursor: pointer;\n",
              "    display: none;\n",
              "    fill: var(--fill-color);\n",
              "    height: 32px;\n",
              "    padding: 0;\n",
              "    width: 32px;\n",
              "  }\n",
              "\n",
              "  .colab-df-quickchart:hover {\n",
              "    background-color: var(--hover-bg-color);\n",
              "    box-shadow: 0 1px 2px rgba(60, 64, 67, 0.3), 0 1px 3px 1px rgba(60, 64, 67, 0.15);\n",
              "    fill: var(--button-hover-fill-color);\n",
              "  }\n",
              "\n",
              "  .colab-df-quickchart-complete:disabled,\n",
              "  .colab-df-quickchart-complete:disabled:hover {\n",
              "    background-color: var(--disabled-bg-color);\n",
              "    fill: var(--disabled-fill-color);\n",
              "    box-shadow: none;\n",
              "  }\n",
              "\n",
              "  .colab-df-spinner {\n",
              "    border: 2px solid var(--fill-color);\n",
              "    border-color: transparent;\n",
              "    border-bottom-color: var(--fill-color);\n",
              "    animation:\n",
              "      spin 1s steps(1) infinite;\n",
              "  }\n",
              "\n",
              "  @keyframes spin {\n",
              "    0% {\n",
              "      border-color: transparent;\n",
              "      border-bottom-color: var(--fill-color);\n",
              "      border-left-color: var(--fill-color);\n",
              "    }\n",
              "    20% {\n",
              "      border-color: transparent;\n",
              "      border-left-color: var(--fill-color);\n",
              "      border-top-color: var(--fill-color);\n",
              "    }\n",
              "    30% {\n",
              "      border-color: transparent;\n",
              "      border-left-color: var(--fill-color);\n",
              "      border-top-color: var(--fill-color);\n",
              "      border-right-color: var(--fill-color);\n",
              "    }\n",
              "    40% {\n",
              "      border-color: transparent;\n",
              "      border-right-color: var(--fill-color);\n",
              "      border-top-color: var(--fill-color);\n",
              "    }\n",
              "    60% {\n",
              "      border-color: transparent;\n",
              "      border-right-color: var(--fill-color);\n",
              "    }\n",
              "    80% {\n",
              "      border-color: transparent;\n",
              "      border-right-color: var(--fill-color);\n",
              "      border-bottom-color: var(--fill-color);\n",
              "    }\n",
              "    90% {\n",
              "      border-color: transparent;\n",
              "      border-bottom-color: var(--fill-color);\n",
              "    }\n",
              "  }\n",
              "</style>\n",
              "\n",
              "  <script>\n",
              "    async function quickchart(key) {\n",
              "      const quickchartButtonEl =\n",
              "        document.querySelector('#' + key + ' button');\n",
              "      quickchartButtonEl.disabled = true;  // To prevent multiple clicks.\n",
              "      quickchartButtonEl.classList.add('colab-df-spinner');\n",
              "      try {\n",
              "        const charts = await google.colab.kernel.invokeFunction(\n",
              "            'suggestCharts', [key], {});\n",
              "      } catch (error) {\n",
              "        console.error('Error during call to suggestCharts:', error);\n",
              "      }\n",
              "      quickchartButtonEl.classList.remove('colab-df-spinner');\n",
              "      quickchartButtonEl.classList.add('colab-df-quickchart-complete');\n",
              "    }\n",
              "    (() => {\n",
              "      let quickchartButtonEl =\n",
              "        document.querySelector('#df-4143f115-5cad-4171-ac1f-34d9bcbf1fd8 button');\n",
              "      quickchartButtonEl.style.display =\n",
              "        google.colab.kernel.accessAllowed ? 'block' : 'none';\n",
              "    })();\n",
              "  </script>\n",
              "</div>\n",
              "\n",
              "    </div>\n",
              "  </div>\n"
            ],
            "application/vnd.google.colaboratory.intrinsic+json": {
              "type": "dataframe",
              "summary": "{\n  \"name\": \"tabla_de_consumo_1\",\n  \"rows\": 2294,\n  \"fields\": [\n    {\n      \"column\": \"mes\",\n      \"properties\": {\n        \"dtype\": \"number\",\n        \"std\": 2.503178331047313,\n        \"min\": 0.0,\n        \"max\": 12.0,\n        \"num_unique_values\": 13,\n        \"samples\": [\n          12.0,\n          10.0,\n          1.0\n        ],\n        \"semantic_type\": \"\",\n        \"description\": \"\"\n      }\n    },\n    {\n      \"column\": \"user_id\",\n      \"properties\": {\n        \"dtype\": \"number\",\n        \"std\": 145.36775483755548,\n        \"min\": 0.0,\n        \"max\": 1499.0,\n        \"num_unique_values\": 491,\n        \"samples\": [\n          1262.0,\n          1167.0,\n          1135.0\n        ],\n        \"semantic_type\": \"\",\n        \"description\": \"\"\n      }\n    },\n    {\n      \"column\": \"minutos_usados\",\n      \"properties\": {\n        \"dtype\": \"number\",\n        \"std\": 236.4384834087956,\n        \"min\": 0.0,\n        \"max\": 1510.0,\n        \"num_unique_values\": 826,\n        \"samples\": [\n          27.0,\n          299.0,\n          660.0\n        ],\n        \"semantic_type\": \"\",\n        \"description\": \"\"\n      }\n    },\n    {\n      \"column\": \"total_llamadas\",\n      \"properties\": {\n        \"dtype\": \"number\",\n        \"std\": 26.21659613901877,\n        \"min\": 0.0,\n        \"max\": 167.0,\n        \"num_unique_values\": 139,\n        \"samples\": [\n          110.0,\n          73.0,\n          59.0\n        ],\n        \"semantic_type\": \"\",\n        \"description\": \"\"\n      }\n    },\n    {\n      \"column\": \"cantidad_de_mensajes\",\n      \"properties\": {\n        \"dtype\": \"number\",\n        \"std\": 34.06969271735544,\n        \"min\": 0.0,\n        \"max\": 266.0,\n        \"num_unique_values\": 153,\n        \"samples\": [\n          151.0,\n          153.0,\n          164.0\n        ],\n        \"semantic_type\": \"\",\n        \"description\": \"\"\n      }\n    },\n    {\n      \"column\": \"total_de_datos usados\",\n      \"properties\": {\n        \"dtype\": \"number\",\n        \"std\": 7973.186565596099,\n        \"min\": 0.0,\n        \"max\": 70931.59,\n        \"num_unique_values\": 2277,\n        \"samples\": [\n          2025.11,\n          13619.65,\n          18749.35\n        ],\n        \"semantic_type\": \"\",\n        \"description\": \"\"\n      }\n    },\n    {\n      \"column\": \"total_de_datos_usados_gb\",\n      \"properties\": {\n        \"dtype\": \"number\",\n        \"std\": 7.802428979048546,\n        \"min\": 0.0,\n        \"max\": 70.0,\n        \"num_unique_values\": 49,\n        \"samples\": [\n          19.0,\n          51.0,\n          70.0\n        ],\n        \"semantic_type\": \"\",\n        \"description\": \"\"\n      }\n    },\n    {\n      \"column\": \"plan_id\",\n      \"properties\": {\n        \"dtype\": \"category\",\n        \"num_unique_values\": 3,\n        \"samples\": [\n          \"surf\",\n          \"ultimate\",\n          1\n        ],\n        \"semantic_type\": \"\",\n        \"description\": \"\"\n      }\n    },\n    {\n      \"column\": \"city\",\n      \"properties\": {\n        \"dtype\": \"category\",\n        \"num_unique_values\": 74,\n        \"samples\": [\n          \"San Francisco-Oakland-Berkeley, CA MSA\",\n          \"Oxnard-Thousand Oaks-Ventura, CA MSA\",\n          \"Seattle-Tacoma-Bellevue, WA MSA\"\n        ],\n        \"semantic_type\": \"\",\n        \"description\": \"\"\n      }\n    },\n    {\n      \"column\": \"reg_date\",\n      \"properties\": {\n        \"dtype\": \"date\",\n        \"min\": \"1970-01-01 00:00:00\",\n        \"max\": \"2018-12-30 00:00:00\",\n        \"num_unique_values\": 264,\n        \"samples\": [\n          \"2018-01-04 00:00:00\",\n          \"2018-10-10 00:00:00\",\n          \"2018-06-26 00:00:00\"\n        ],\n        \"semantic_type\": \"\",\n        \"description\": \"\"\n      }\n    },\n    {\n      \"column\": \"messages_included\",\n      \"properties\": {\n        \"dtype\": \"number\",\n        \"std\": 1.043934613324154,\n        \"min\": 0.0,\n        \"max\": 50.0,\n        \"num_unique_values\": 2,\n        \"samples\": [\n          50.0,\n          0.0\n        ],\n        \"semantic_type\": \"\",\n        \"description\": \"\"\n      }\n    },\n    {\n      \"column\": \"mb_per_month_included\",\n      \"properties\": {\n        \"dtype\": \"number\",\n        \"std\": 320.69671321318015,\n        \"min\": 0.0,\n        \"max\": 15360.0,\n        \"num_unique_values\": 2,\n        \"samples\": [\n          15360.0,\n          0.0\n        ],\n        \"semantic_type\": \"\",\n        \"description\": \"\"\n      }\n    },\n    {\n      \"column\": \"minutes_included\",\n      \"properties\": {\n        \"dtype\": \"number\",\n        \"std\": 10.439346133241541,\n        \"min\": 0.0,\n        \"max\": 500.0,\n        \"num_unique_values\": 2,\n        \"samples\": [\n          500.0,\n          0.0\n        ],\n        \"semantic_type\": \"\",\n        \"description\": \"\"\n      }\n    },\n    {\n      \"column\": \"usd_monthly_pay\",\n      \"properties\": {\n        \"dtype\": \"number\",\n        \"std\": 0.41757384532966163,\n        \"min\": 0.0,\n        \"max\": 20.0,\n        \"num_unique_values\": 2,\n        \"samples\": [\n          20.0,\n          0.0\n        ],\n        \"semantic_type\": \"\",\n        \"description\": \"\"\n      }\n    },\n    {\n      \"column\": \"usd_per_gb\",\n      \"properties\": {\n        \"dtype\": \"number\",\n        \"std\": 0.20878692266483082,\n        \"min\": 0.0,\n        \"max\": 10.0,\n        \"num_unique_values\": 2,\n        \"samples\": [\n          10.0,\n          0.0\n        ],\n        \"semantic_type\": \"\",\n        \"description\": \"\"\n      }\n    },\n    {\n      \"column\": \"usd_per_message\",\n      \"properties\": {\n        \"dtype\": \"number\",\n        \"std\": 0.0006263607679944924,\n        \"min\": 0.0,\n        \"max\": 0.03,\n        \"num_unique_values\": 2,\n        \"samples\": [\n          0.03,\n          0.0\n        ],\n        \"semantic_type\": \"\",\n        \"description\": \"\"\n      }\n    },\n    {\n      \"column\": \"usd_per_minute\",\n      \"properties\": {\n        \"dtype\": \"number\",\n        \"std\": 0.0006263607679944924,\n        \"min\": 0.0,\n        \"max\": 0.03,\n        \"num_unique_values\": 2,\n        \"samples\": [\n          0.03,\n          0.0\n        ],\n        \"semantic_type\": \"\",\n        \"description\": \"\"\n      }\n    },\n    {\n      \"column\": \"gb_per_month_included\",\n      \"properties\": {\n        \"dtype\": \"number\",\n        \"std\": 0.31318038399724624,\n        \"min\": 0.0,\n        \"max\": 15.0,\n        \"num_unique_values\": 2,\n        \"samples\": [\n          15.0,\n          0.0\n        ],\n        \"semantic_type\": \"\",\n        \"description\": \"\"\n      }\n    },\n    {\n      \"column\": \"ingreso_mensual\",\n      \"properties\": {\n        \"dtype\": \"number\",\n        \"std\": 0.41757384532966163,\n        \"min\": 0.0,\n        \"max\": 20.0,\n        \"num_unique_values\": 2,\n        \"samples\": [\n          20.0,\n          0.0\n        ],\n        \"semantic_type\": \"\",\n        \"description\": \"\"\n      }\n    }\n  ]\n}"
            }
          },
          "metadata": {},
          "execution_count": 77
        }
      ]
    },
    {
      "cell_type": "markdown",
      "metadata": {
        "id": "-jtyHzJb0q1I"
      },
      "source": [
        "## Estudia el comportamiento de usuario"
      ]
    },
    {
      "cell_type": "markdown",
      "metadata": {
        "id": "AxU3Y0N70q1J"
      },
      "source": [
        "[Calcula algunas estadísticas descriptivas para los datos agregados y fusionados que nos sean útiles y que muestren un panorama general captado por los datos. Dibuja gráficos útiles para facilitar la comprensión. Dado que la tarea principal es comparar las tarifas y decidir cuál es más rentable, las estadísticas y gráficas deben calcularse por tarifa.]\n",
        "\n",
        "[En los comentarios hallarás pistas relevantes para las llamadas, pero no las hay para los mensajes e Internet. Sin embargo, el principio del estudio estadístico que se aplica para ellos es el mismo que para las llamadas.]"
      ]
    },
    {
      "cell_type": "markdown",
      "metadata": {
        "id": "vtW4CJEe0q1J"
      },
      "source": [
        "### Llamadas"
      ]
    },
    {
      "cell_type": "code",
      "execution_count": null,
      "metadata": {
        "id": "Jf5v5--k0q1J"
      },
      "outputs": [],
      "source": [
        "# Compara la duración promedio de llamadas por cada plan y por cada mes. Traza un gráfico de barras para visualizarla.\n",
        "duracion_promedio_llamadas = tabla_de_consumo.groupby(['plan_id', 'mes'])['minutos_usados'].mean().reset_index()"
      ]
    },
    {
      "cell_type": "code",
      "source": [
        "sns.set(style=\"whitegrid\")\n",
        "\n",
        "# Crea el gráfico de barras\n",
        "plt.figure(figsize=(12, 6))\n",
        "sns.barplot(x='mes', y='minutos_usados', hue='plan_id', data=duracion_promedio_llamadas)\n",
        "plt.xlabel('Mes')\n",
        "plt.ylabel('Duración Promedio de Llamadas (minutos)')\n",
        "plt.title('Duración Promedio de Llamadas por Plan y Mes')\n",
        "plt.legend(title='Plan')\n",
        "plt.show()"
      ],
      "metadata": {
        "colab": {
          "base_uri": "https://localhost:8080/",
          "height": 440
        },
        "id": "sfel44iuPK85",
        "outputId": "78862370-5740-424d-add9-ce2980a64478"
      },
      "execution_count": null,
      "outputs": [
        {
          "output_type": "display_data",
          "data": {
            "text/plain": [
              "<Figure size 1200x600 with 1 Axes>"
            ],
            "image/png": "[encoded data removed]"
          },
          "metadata": {}
        }
      ]
    },
    {
      "cell_type": "code",
      "execution_count": null,
      "metadata": {
        "id": "QoLqW1S_0q1J",
        "colab": {
          "base_uri": "https://localhost:8080/",
          "height": 439
        },
        "outputId": "7876e7fa-22dc-45f3-b295-ac53a401d253"
      },
      "outputs": [
        {
          "output_type": "stream",
          "name": "stderr",
          "text": [
            "WARNING:matplotlib.legend:No artists with labels found to put in legend.  Note that artists whose label start with an underscore are ignored when legend() is called with no argument.\n"
          ]
        },
        {
          "output_type": "display_data",
          "data": {
            "text/plain": [
              "<Figure size 1200x600 with 1 Axes>"
            ],
            "image/png": "[encoded data removed]"
          },
          "metadata": {}
        }
      ],
      "source": [
        "# Compara el número de minutos mensuales que necesitan los usuarios de cada plan. Traza un histograma.\n",
        "# Configura el estilo del gráfico\n",
        "sns.set(style=\"whitegrid\")\n",
        "\n",
        "# Crea el histograma\n",
        "plt.figure(figsize=(12, 6))\n",
        "sns.histplot(data=tabla_de_consumo_1, x='minutos_usados', hue='plan_id', multiple=\"stack\", kde=True)\n",
        "plt.xlabel('Minutos Usados')\n",
        "plt.ylabel('Frecuencia')\n",
        "plt.title('Distribución de Minutos Usados por Plan')\n",
        "plt.legend(title='Plan', bbox_to_anchor=(1.05, 1), loc='upper left')\n",
        "plt.show()\n"
      ]
    },
    {
      "cell_type": "markdown",
      "metadata": {
        "id": "bLS9T8OH0q1K"
      },
      "source": [
        "[Calcula la media y la variable de la duración de las llamadas para averiguar si los usuarios de los distintos planes se comportan de forma diferente al realizar sus llamadas.]"
      ]
    },
    {
      "cell_type": "code",
      "execution_count": null,
      "metadata": {
        "id": "oSndbAnt0q1K",
        "colab": {
          "base_uri": "https://localhost:8080/"
        },
        "outputId": "21afae03-b0ff-40b5-ffca-dfd53e7cc134"
      },
      "outputs": [
        {
          "output_type": "stream",
          "name": "stdout",
          "text": [
            "Media de la duración mensual de llamadas: 436.32402482269504\n",
            "Varianza de la duración mensual de llamadas: 53690.19340924816\n"
          ]
        }
      ],
      "source": [
        "# Calcula la media y la varianza de la duración mensual de llamadas.\n",
        "media_llamadas = tabla_de_consumo['minutos_usados'].mean()\n",
        "varianza_llamadas = tabla_de_consumo['minutos_usados'].var()\n",
        "\n",
        "print(\"Media de la duración mensual de llamadas:\", media_llamadas)\n",
        "print(\"Varianza de la duración mensual de llamadas:\", varianza_llamadas)"
      ]
    },
    {
      "cell_type": "code",
      "source": [
        "# Calcula la mediana de la duración mensual de llamadas.\n",
        "mediana_llamadas = tabla_de_consumo['minutos_usados'].median()\n",
        "print(\"Mediana de la duración mensual de llamadas:\", mediana_llamadas)\n",
        "# La mediana nos indica el valor que separa la mitad superior de la mitad inferior de los datos.\n",
        "\n",
        "# Calcula la moda de la duración mensual de llamadas.\n",
        "moda_llamadas = tabla_de_consumo['minutos_usados'].mode()\n",
        "print(\"Moda de la duración mensual de llamadas:\", moda_llamadas)\n",
        "# La moda nos indica el valor que aparece con mayor frecuencia en los datos.\n",
        "\n",
        "# Calcula la desviación estándar de la duración mensual de llamadas.\n",
        "desviacion_estandar_llamadas = tabla_de_consumo['minutos_usados'].std()\n",
        "print(\"Desviación estándar de la duración mensual de llamadas:\", desviacion_estandar_llamadas)\n",
        "# La desviación estándar nos indica qué tan dispersos están los datos alrededor de la media.\n"
      ],
      "metadata": {
        "colab": {
          "base_uri": "https://localhost:8080/"
        },
        "id": "JDYCS3Mc4oHe",
        "outputId": "86b05079-cb78-4c42-f0aa-42a2b896f02c"
      },
      "execution_count": null,
      "outputs": [
        {
          "output_type": "stream",
          "name": "stdout",
          "text": [
            "Mediana de la duración mensual de llamadas: 429.0\n",
            "Moda de la duración mensual de llamadas: 0    413.0\n",
            "Name: minutos_usados, dtype: float64\n",
            "Desviación estándar de la duración mensual de llamadas: 231.71144427767948\n"
          ]
        }
      ]
    },
    {
      "cell_type": "code",
      "execution_count": null,
      "metadata": {
        "id": "nZzoRUKc0q1K",
        "colab": {
          "base_uri": "https://localhost:8080/",
          "height": 573
        },
        "outputId": "76cd9f37-3a86-4e59-cf59-a8915046939b"
      },
      "outputs": [
        {
          "output_type": "display_data",
          "data": {
            "text/plain": [
              "<Figure size 800x600 with 1 Axes>"
            ],
            "image/png": "[encoded data removed]"
          },
          "metadata": {}
        }
      ],
      "source": [
        "# Traza un diagrama de caja para visualizar la distribución de la duración mensual de llamadas\n",
        "sns.set(style=\"whitegrid\")\n",
        "\n",
        "# Crea el diagrama de caja\n",
        "plt.figure(figsize=(8, 6))\n",
        "sns.boxplot(x=tabla_de_consumo['minutos_usados'])\n",
        "plt.xlabel('Duración Mensual de Llamadas (minutos)')\n",
        "plt.title('Distribución de la Duración Mensual de Llamadas')\n",
        "plt.show()\n"
      ]
    },
    {
      "cell_type": "markdown",
      "source": [
        "# **Plan Surf**"
      ],
      "metadata": {
        "id": "uKhiIWWtWAeu"
      }
    },
    {
      "cell_type": "markdown",
      "metadata": {
        "id": "r627zBO50q1K"
      },
      "source": [
        "[Elabora las conclusiones sobre el comportamiento de los usuarios con respecto a las llamadas. ¿Su comportamiento varía en función del plan?]"
      ]
    },
    {
      "cell_type": "code",
      "source": [
        "usuarios_surf = tabla_de_consumo_1[tabla_de_consumo_1['plan_id'] == 'surf']\n",
        "exceden_minutos = usuarios_surf[usuarios_surf['minutos_usados'] > usuarios_surf['minutes_included']]\n",
        "print(\"Usuarios del plan Surf que exceden el límite de minutos:\")\n",
        "print(exceden_minutos)\n",
        "print()\n",
        "# Mensajes\n",
        "exceden_mensajes = usuarios_surf[usuarios_surf['cantidad_de_mensajes'] > usuarios_surf['messages_included']]\n",
        "print(\"\\nUsuarios del plan Surf que exceden el límite de mensajes:\")\n",
        "print(exceden_mensajes)\n",
        "print()\n",
        "# Datos\n",
        "exceden_datos = usuarios_surf[usuarios_surf['total_de_datos usados'] > usuarios_surf['mb_per_month_included']]\n",
        "print(\"\\nUsuarios del plan Surf que exceden el límite de datos:\")\n",
        "print(exceden_datos)"
      ],
      "metadata": {
        "colab": {
          "base_uri": "https://localhost:8080/"
        },
        "id": "PPaaQzzKVoYn",
        "outputId": "3384dde0-4fc7-48f2-b256-ab90692db824"
      },
      "execution_count": null,
      "outputs": [
        {
          "output_type": "stream",
          "name": "stdout",
          "text": [
            "Usuarios del plan Surf que exceden el límite de minutos:\n",
            "       mes  user_id  minutos_usados  total_llamadas  cantidad_de_mensajes  \\\n",
            "0      1.0   1042.0           114.0            14.0                   0.0   \n",
            "1      2.0   1042.0           254.0            27.0                   0.0   \n",
            "2      3.0   1042.0           214.0            28.0                   0.0   \n",
            "3      4.0   1042.0           279.0            35.0                   0.0   \n",
            "4      5.0   1042.0           489.0            43.0                   0.0   \n",
            "...    ...      ...             ...             ...                   ...   \n",
            "2256  12.0   1457.0            85.0            12.0                   4.0   \n",
            "2257  12.0   1480.0           541.0            64.0                  51.0   \n",
            "2258  12.0   1481.0            36.0             5.0                   3.0   \n",
            "2259  12.0   1485.0           329.0            38.0                  24.0   \n",
            "2260  12.0   1486.0           347.0            38.0                  10.0   \n",
            "\n",
            "      total_de_datos usados  total_de_datos_usados_gb plan_id  \\\n",
            "0                   1854.93                       2.0    surf   \n",
            "1                   6801.48                       7.0    surf   \n",
            "2                   7400.58                       8.0    surf   \n",
            "3                   7102.40                       7.0    surf   \n",
            "4                   9061.44                       9.0    surf   \n",
            "...                     ...                       ...     ...   \n",
            "2256               13148.93                      13.0    surf   \n",
            "2257                8805.51                       9.0    surf   \n",
            "2258                1265.78                       2.0    surf   \n",
            "2259               19484.73                      20.0    surf   \n",
            "2260               20312.83                      20.0    surf   \n",
            "\n",
            "                                                  city             reg_date  \\\n",
            "0      Philadelphia-Camden-Wilmington, PA-NJ-DE-MD MSA  2018-01-15 00:00:00   \n",
            "1      Philadelphia-Camden-Wilmington, PA-NJ-DE-MD MSA  2018-01-15 00:00:00   \n",
            "2      Philadelphia-Camden-Wilmington, PA-NJ-DE-MD MSA  2018-01-15 00:00:00   \n",
            "3      Philadelphia-Camden-Wilmington, PA-NJ-DE-MD MSA  2018-01-15 00:00:00   \n",
            "4      Philadelphia-Camden-Wilmington, PA-NJ-DE-MD MSA  2018-01-15 00:00:00   \n",
            "...                                                ...                  ...   \n",
            "2256         New York-Newark-Jersey City, NY-NJ-PA MSA  2018-02-17 00:00:00   \n",
            "2257                              St. Louis, MO-IL MSA  2018-12-13 00:00:00   \n",
            "2258                            Urban Honolulu, HI MSA  2018-12-27 00:00:00   \n",
            "2259  Nashville-Davidson–Murfreesboro–Franklin, TN MSA  2018-08-21 00:00:00   \n",
            "2260                 Orlando-Kissimmee-Sanford, FL MSA  2018-12-05 00:00:00   \n",
            "\n",
            "      messages_included  mb_per_month_included  minutes_included  \\\n",
            "0                   0.0                    0.0               0.0   \n",
            "1                   0.0                    0.0               0.0   \n",
            "2                   0.0                    0.0               0.0   \n",
            "3                   0.0                    0.0               0.0   \n",
            "4                   0.0                    0.0               0.0   \n",
            "...                 ...                    ...               ...   \n",
            "2256                0.0                    0.0               0.0   \n",
            "2257                0.0                    0.0               0.0   \n",
            "2258                0.0                    0.0               0.0   \n",
            "2259                0.0                    0.0               0.0   \n",
            "2260                0.0                    0.0               0.0   \n",
            "\n",
            "      usd_monthly_pay  usd_per_gb  usd_per_message  usd_per_minute  \\\n",
            "0                 0.0         0.0              0.0             0.0   \n",
            "1                 0.0         0.0              0.0             0.0   \n",
            "2                 0.0         0.0              0.0             0.0   \n",
            "3                 0.0         0.0              0.0             0.0   \n",
            "4                 0.0         0.0              0.0             0.0   \n",
            "...               ...         ...              ...             ...   \n",
            "2256              0.0         0.0              0.0             0.0   \n",
            "2257              0.0         0.0              0.0             0.0   \n",
            "2258              0.0         0.0              0.0             0.0   \n",
            "2259              0.0         0.0              0.0             0.0   \n",
            "2260              0.0         0.0              0.0             0.0   \n",
            "\n",
            "      gb_per_month_included  ingreso_mensual  \n",
            "0                       0.0              0.0  \n",
            "1                       0.0              0.0  \n",
            "2                       0.0              0.0  \n",
            "3                       0.0              0.0  \n",
            "4                       0.0              0.0  \n",
            "...                     ...              ...  \n",
            "2256                    0.0              0.0  \n",
            "2257                    0.0              0.0  \n",
            "2258                    0.0              0.0  \n",
            "2259                    0.0              0.0  \n",
            "2260                    0.0              0.0  \n",
            "\n",
            "[1544 rows x 19 columns]\n",
            "\n",
            "\n",
            "Usuarios del plan Surf que exceden el límite de mensajes:\n",
            "       mes  user_id  minutos_usados  total_llamadas  cantidad_de_mensajes  \\\n",
            "60     1.0   1362.0           292.0            34.0                  21.0   \n",
            "61     2.0   1362.0           811.0            88.0                  58.0   \n",
            "62     3.0   1362.0           788.0            99.0                  59.0   \n",
            "63     4.0   1362.0           643.0            77.0                  42.0   \n",
            "64     5.0   1362.0           594.0            71.0                  65.0   \n",
            "...    ...      ...             ...             ...                   ...   \n",
            "2285  11.0   1194.0             0.0             0.0                  62.0   \n",
            "2286  12.0   1194.0             0.0             0.0                  56.0   \n",
            "2289  10.0   1349.0             0.0             0.0                  76.0   \n",
            "2290  11.0   1349.0             0.0             0.0                  72.0   \n",
            "2291  12.0   1349.0             0.0             0.0                  61.0   \n",
            "\n",
            "      total_de_datos usados  total_de_datos_usados_gb plan_id  \\\n",
            "60                  7894.79                       8.0    surf   \n",
            "61                 10761.20                      11.0    surf   \n",
            "62                 17327.65                      17.0    surf   \n",
            "63                 12415.19                      13.0    surf   \n",
            "64                 13929.71                      14.0    surf   \n",
            "...                     ...                       ...     ...   \n",
            "2285               42866.10                      42.0    surf   \n",
            "2286               31088.49                      31.0    surf   \n",
            "2289               13093.55                      13.0    surf   \n",
            "2290               17128.26                      17.0    surf   \n",
            "2291               13039.91                      13.0    surf   \n",
            "\n",
            "                                        city             reg_date  \\\n",
            "60            Denver-Aurora-Lakewood, CO MSA  2018-01-18 00:00:00   \n",
            "61            Denver-Aurora-Lakewood, CO MSA  2018-01-18 00:00:00   \n",
            "62            Denver-Aurora-Lakewood, CO MSA  2018-01-18 00:00:00   \n",
            "63            Denver-Aurora-Lakewood, CO MSA  2018-01-18 00:00:00   \n",
            "64            Denver-Aurora-Lakewood, CO MSA  2018-01-18 00:00:00   \n",
            "...                                      ...                  ...   \n",
            "2285  San Jose-Sunnyvale-Santa Clara, CA MSA  2018-05-31 00:00:00   \n",
            "2286  San Jose-Sunnyvale-Santa Clara, CA MSA  2018-05-31 00:00:00   \n",
            "2289      Boston-Cambridge-Newton, MA-NH MSA  2018-10-01 00:00:00   \n",
            "2290      Boston-Cambridge-Newton, MA-NH MSA  2018-10-01 00:00:00   \n",
            "2291      Boston-Cambridge-Newton, MA-NH MSA  2018-10-01 00:00:00   \n",
            "\n",
            "      messages_included  mb_per_month_included  minutes_included  \\\n",
            "60                  0.0                    0.0               0.0   \n",
            "61                  0.0                    0.0               0.0   \n",
            "62                  0.0                    0.0               0.0   \n",
            "63                  0.0                    0.0               0.0   \n",
            "64                  0.0                    0.0               0.0   \n",
            "...                 ...                    ...               ...   \n",
            "2285                0.0                    0.0               0.0   \n",
            "2286                0.0                    0.0               0.0   \n",
            "2289                0.0                    0.0               0.0   \n",
            "2290                0.0                    0.0               0.0   \n",
            "2291                0.0                    0.0               0.0   \n",
            "\n",
            "      usd_monthly_pay  usd_per_gb  usd_per_message  usd_per_minute  \\\n",
            "60                0.0         0.0              0.0             0.0   \n",
            "61                0.0         0.0              0.0             0.0   \n",
            "62                0.0         0.0              0.0             0.0   \n",
            "63                0.0         0.0              0.0             0.0   \n",
            "64                0.0         0.0              0.0             0.0   \n",
            "...               ...         ...              ...             ...   \n",
            "2285              0.0         0.0              0.0             0.0   \n",
            "2286              0.0         0.0              0.0             0.0   \n",
            "2289              0.0         0.0              0.0             0.0   \n",
            "2290              0.0         0.0              0.0             0.0   \n",
            "2291              0.0         0.0              0.0             0.0   \n",
            "\n",
            "      gb_per_month_included  ingreso_mensual  \n",
            "60                      0.0              0.0  \n",
            "61                      0.0              0.0  \n",
            "62                      0.0              0.0  \n",
            "63                      0.0              0.0  \n",
            "64                      0.0              0.0  \n",
            "...                     ...              ...  \n",
            "2285                    0.0              0.0  \n",
            "2286                    0.0              0.0  \n",
            "2289                    0.0              0.0  \n",
            "2290                    0.0              0.0  \n",
            "2291                    0.0              0.0  \n",
            "\n",
            "[1222 rows x 19 columns]\n",
            "\n",
            "\n",
            "Usuarios del plan Surf que exceden el límite de datos:\n",
            "       mes  user_id  minutos_usados  total_llamadas  cantidad_de_mensajes  \\\n",
            "0      1.0   1042.0           114.0            14.0                   0.0   \n",
            "1      2.0   1042.0           254.0            27.0                   0.0   \n",
            "2      3.0   1042.0           214.0            28.0                   0.0   \n",
            "3      4.0   1042.0           279.0            35.0                   0.0   \n",
            "4      5.0   1042.0           489.0            43.0                   0.0   \n",
            "...    ...      ...             ...             ...                   ...   \n",
            "2285  11.0   1194.0             0.0             0.0                  62.0   \n",
            "2286  12.0   1194.0             0.0             0.0                  56.0   \n",
            "2289  10.0   1349.0             0.0             0.0                  76.0   \n",
            "2290  11.0   1349.0             0.0             0.0                  72.0   \n",
            "2291  12.0   1349.0             0.0             0.0                  61.0   \n",
            "\n",
            "      total_de_datos usados  total_de_datos_usados_gb plan_id  \\\n",
            "0                   1854.93                       2.0    surf   \n",
            "1                   6801.48                       7.0    surf   \n",
            "2                   7400.58                       8.0    surf   \n",
            "3                   7102.40                       7.0    surf   \n",
            "4                   9061.44                       9.0    surf   \n",
            "...                     ...                       ...     ...   \n",
            "2285               42866.10                      42.0    surf   \n",
            "2286               31088.49                      31.0    surf   \n",
            "2289               13093.55                      13.0    surf   \n",
            "2290               17128.26                      17.0    surf   \n",
            "2291               13039.91                      13.0    surf   \n",
            "\n",
            "                                                 city             reg_date  \\\n",
            "0     Philadelphia-Camden-Wilmington, PA-NJ-DE-MD MSA  2018-01-15 00:00:00   \n",
            "1     Philadelphia-Camden-Wilmington, PA-NJ-DE-MD MSA  2018-01-15 00:00:00   \n",
            "2     Philadelphia-Camden-Wilmington, PA-NJ-DE-MD MSA  2018-01-15 00:00:00   \n",
            "3     Philadelphia-Camden-Wilmington, PA-NJ-DE-MD MSA  2018-01-15 00:00:00   \n",
            "4     Philadelphia-Camden-Wilmington, PA-NJ-DE-MD MSA  2018-01-15 00:00:00   \n",
            "...                                               ...                  ...   \n",
            "2285           San Jose-Sunnyvale-Santa Clara, CA MSA  2018-05-31 00:00:00   \n",
            "2286           San Jose-Sunnyvale-Santa Clara, CA MSA  2018-05-31 00:00:00   \n",
            "2289               Boston-Cambridge-Newton, MA-NH MSA  2018-10-01 00:00:00   \n",
            "2290               Boston-Cambridge-Newton, MA-NH MSA  2018-10-01 00:00:00   \n",
            "2291               Boston-Cambridge-Newton, MA-NH MSA  2018-10-01 00:00:00   \n",
            "\n",
            "      messages_included  mb_per_month_included  minutes_included  \\\n",
            "0                   0.0                    0.0               0.0   \n",
            "1                   0.0                    0.0               0.0   \n",
            "2                   0.0                    0.0               0.0   \n",
            "3                   0.0                    0.0               0.0   \n",
            "4                   0.0                    0.0               0.0   \n",
            "...                 ...                    ...               ...   \n",
            "2285                0.0                    0.0               0.0   \n",
            "2286                0.0                    0.0               0.0   \n",
            "2289                0.0                    0.0               0.0   \n",
            "2290                0.0                    0.0               0.0   \n",
            "2291                0.0                    0.0               0.0   \n",
            "\n",
            "      usd_monthly_pay  usd_per_gb  usd_per_message  usd_per_minute  \\\n",
            "0                 0.0         0.0              0.0             0.0   \n",
            "1                 0.0         0.0              0.0             0.0   \n",
            "2                 0.0         0.0              0.0             0.0   \n",
            "3                 0.0         0.0              0.0             0.0   \n",
            "4                 0.0         0.0              0.0             0.0   \n",
            "...               ...         ...              ...             ...   \n",
            "2285              0.0         0.0              0.0             0.0   \n",
            "2286              0.0         0.0              0.0             0.0   \n",
            "2289              0.0         0.0              0.0             0.0   \n",
            "2290              0.0         0.0              0.0             0.0   \n",
            "2291              0.0         0.0              0.0             0.0   \n",
            "\n",
            "      gb_per_month_included  ingreso_mensual  \n",
            "0                       0.0              0.0  \n",
            "1                       0.0              0.0  \n",
            "2                       0.0              0.0  \n",
            "3                       0.0              0.0  \n",
            "4                       0.0              0.0  \n",
            "...                     ...              ...  \n",
            "2285                    0.0              0.0  \n",
            "2286                    0.0              0.0  \n",
            "2289                    0.0              0.0  \n",
            "2290                    0.0              0.0  \n",
            "2291                    0.0              0.0  \n",
            "\n",
            "[1558 rows x 19 columns]\n"
          ]
        }
      ]
    },
    {
      "cell_type": "code",
      "source": [
        "total_usuarios_surf = len(usuarios_surf)\n",
        "\n",
        "porcentaje_exceden_minutos = (len(exceden_minutos) / total_usuarios_surf) * 100\n",
        "porcentaje_exceden_mensajes = (len(exceden_mensajes) / total_usuarios_surf) * 100\n",
        "porcentaje_exceden_datos = (len(exceden_datos) / total_usuarios_surf) * 100\n",
        "\n",
        "print(\"\\nPorcentaje de usuarios del plan Surf que exceden los límites:\")\n",
        "print(\"Minutos:\", porcentaje_exceden_minutos, \"%\")\n",
        "print(\"Mensajes:\", porcentaje_exceden_mensajes, \"%\")\n",
        "print(\"Datos:\", porcentaje_exceden_datos, \"%\")"
      ],
      "metadata": {
        "colab": {
          "base_uri": "https://localhost:8080/"
        },
        "id": "OyigzzaDV24R",
        "outputId": "833562d8-d7c5-4f9b-c92b-86917591c9de"
      },
      "execution_count": null,
      "outputs": [
        {
          "output_type": "stream",
          "name": "stdout",
          "text": [
            "\n",
            "Porcentaje de usuarios del plan Surf que exceden los límites:\n",
            "Minutos: 98.15638906547997 %\n",
            "Mensajes: 77.68595041322314 %\n",
            "Datos: 99.04640813731723 %\n"
          ]
        }
      ]
    },
    {
      "cell_type": "markdown",
      "source": [
        "**Plan Ultimate**"
      ],
      "metadata": {
        "id": "JkZWgunaYQOr"
      }
    },
    {
      "cell_type": "code",
      "source": [
        "# Filtrar datos del plan \"Ultimate\"\n",
        "usuarios_ultimate = tabla_de_consumo_1[tabla_de_consumo_1['plan_id'] == 'ultimate']\n",
        "\n",
        "# Comparar consumo con límites\n",
        "exceden_minutos_ult = usuarios_ultimate[usuarios_ultimate['minutos_usados'] > usuarios_ultimate['minutes_included']]\n",
        "print(\"Usuarios del plan Ultimate que exceden el límite de minutos:\")\n",
        "print(exceden_minutos_ult)\n",
        "\n",
        "exceden_mensajes_ult = usuarios_ultimate[usuarios_ultimate['cantidad_de_mensajes'] > usuarios_ultimate['messages_included']]\n",
        "print(\"\\nUsuarios del plan Ultimate que exceden el límite de mensajes:\")\n",
        "print(exceden_mensajes_ult)\n",
        "\n",
        "exceden_datos_ult = usuarios_ultimate[usuarios_ultimate['total_de_datos usados'] > usuarios_ultimate['mb_per_month_included']]\n",
        "print(\"\\nUsuarios del plan Ultimate que exceden el límite de datos:\")\n",
        "print(exceden_datos_ult)"
      ],
      "metadata": {
        "colab": {
          "base_uri": "https://localhost:8080/"
        },
        "id": "rqKhYY-ZYTCB",
        "outputId": "c098ac8e-cc1b-4e5a-9dae-78f5e2319df1"
      },
      "execution_count": null,
      "outputs": [
        {
          "output_type": "stream",
          "name": "stdout",
          "text": [
            "Usuarios del plan Ultimate que exceden el límite de minutos:\n",
            "       mes  user_id  minutos_usados  total_llamadas  cantidad_de_mensajes  \\\n",
            "12     1.0   1077.0           290.0            33.0                  37.0   \n",
            "13     2.0   1077.0           776.0            84.0                  67.0   \n",
            "14     3.0   1077.0           711.0            90.0                  72.0   \n",
            "15     4.0   1077.0           746.0            85.0                  57.0   \n",
            "16     5.0   1077.0           655.0            70.0                  77.0   \n",
            "...    ...      ...             ...             ...                   ...   \n",
            "2248  12.0   1407.0           200.0            32.0                  51.0   \n",
            "2253  12.0   1442.0           236.0            26.0                  65.0   \n",
            "2254  12.0   1450.0           688.0            78.0                  82.0   \n",
            "2261  12.0   1487.0           416.0            50.0                  66.0   \n",
            "2262  12.0   1497.0           300.0            42.0                  50.0   \n",
            "\n",
            "      total_de_datos usados  total_de_datos_usados_gb   plan_id  \\\n",
            "12                 10635.64                      11.0  ultimate   \n",
            "13                 19926.55                      20.0  ultimate   \n",
            "14                 20689.95                      21.0  ultimate   \n",
            "15                 16964.50                      17.0  ultimate   \n",
            "16                 23068.75                      23.0  ultimate   \n",
            "...                     ...                       ...       ...   \n",
            "2248               19168.69                      19.0  ultimate   \n",
            "2253               14448.26                      15.0  ultimate   \n",
            "2254               17492.24                      18.0  ultimate   \n",
            "2261               13992.39                      14.0  ultimate   \n",
            "2262               11106.55                      11.0  ultimate   \n",
            "\n",
            "                                           city             reg_date  \\\n",
            "12        Charlotte-Concord-Gastonia, NC-SC MSA  2018-01-14 00:00:00   \n",
            "13        Charlotte-Concord-Gastonia, NC-SC MSA  2018-01-14 00:00:00   \n",
            "14        Charlotte-Concord-Gastonia, NC-SC MSA  2018-01-14 00:00:00   \n",
            "15        Charlotte-Concord-Gastonia, NC-SC MSA  2018-01-14 00:00:00   \n",
            "16        Charlotte-Concord-Gastonia, NC-SC MSA  2018-01-14 00:00:00   \n",
            "...                                         ...                  ...   \n",
            "2248  New York-Newark-Jersey City, NY-NJ-PA MSA  2018-11-29 00:00:00   \n",
            "2253  New York-Newark-Jersey City, NY-NJ-PA MSA  2018-05-25 00:00:00   \n",
            "2254                        Bakersfield, CA MSA  2018-06-16 00:00:00   \n",
            "2261              Cape Coral-Fort Myers, FL MSA  2018-08-16 00:00:00   \n",
            "2262     Los Angeles-Long Beach-Anaheim, CA MSA  2018-12-10 00:00:00   \n",
            "\n",
            "      messages_included  mb_per_month_included  minutes_included  \\\n",
            "12                  0.0                    0.0               0.0   \n",
            "13                  0.0                    0.0               0.0   \n",
            "14                  0.0                    0.0               0.0   \n",
            "15                  0.0                    0.0               0.0   \n",
            "16                  0.0                    0.0               0.0   \n",
            "...                 ...                    ...               ...   \n",
            "2248                0.0                    0.0               0.0   \n",
            "2253                0.0                    0.0               0.0   \n",
            "2254                0.0                    0.0               0.0   \n",
            "2261                0.0                    0.0               0.0   \n",
            "2262                0.0                    0.0               0.0   \n",
            "\n",
            "      usd_monthly_pay  usd_per_gb  usd_per_message  usd_per_minute  \\\n",
            "12                0.0         0.0              0.0             0.0   \n",
            "13                0.0         0.0              0.0             0.0   \n",
            "14                0.0         0.0              0.0             0.0   \n",
            "15                0.0         0.0              0.0             0.0   \n",
            "16                0.0         0.0              0.0             0.0   \n",
            "...               ...         ...              ...             ...   \n",
            "2248              0.0         0.0              0.0             0.0   \n",
            "2253              0.0         0.0              0.0             0.0   \n",
            "2254              0.0         0.0              0.0             0.0   \n",
            "2261              0.0         0.0              0.0             0.0   \n",
            "2262              0.0         0.0              0.0             0.0   \n",
            "\n",
            "      gb_per_month_included  ingreso_mensual  \n",
            "12                      0.0              0.0  \n",
            "13                      0.0              0.0  \n",
            "14                      0.0              0.0  \n",
            "15                      0.0              0.0  \n",
            "16                      0.0              0.0  \n",
            "...                     ...              ...  \n",
            "2248                    0.0              0.0  \n",
            "2253                    0.0              0.0  \n",
            "2254                    0.0              0.0  \n",
            "2261                    0.0              0.0  \n",
            "2262                    0.0              0.0  \n",
            "\n",
            "[712 rows x 19 columns]\n",
            "\n",
            "Usuarios del plan Ultimate que exceden el límite de mensajes:\n",
            "       mes  user_id  minutos_usados  total_llamadas  cantidad_de_mensajes  \\\n",
            "12     1.0   1077.0           290.0            33.0                  37.0   \n",
            "13     2.0   1077.0           776.0            84.0                  67.0   \n",
            "14     3.0   1077.0           711.0            90.0                  72.0   \n",
            "15     4.0   1077.0           746.0            85.0                  57.0   \n",
            "16     5.0   1077.0           655.0            70.0                  77.0   \n",
            "...    ...      ...             ...             ...                   ...   \n",
            "2254  12.0   1450.0           688.0            78.0                  82.0   \n",
            "2261  12.0   1487.0           416.0            50.0                  66.0   \n",
            "2262  12.0   1497.0           300.0            42.0                  50.0   \n",
            "2287  11.0   1204.0             0.0             0.0                  42.0   \n",
            "2288  12.0   1204.0             0.0             0.0                  78.0   \n",
            "\n",
            "      total_de_datos usados  total_de_datos_usados_gb   plan_id  \\\n",
            "12                 10635.64                      11.0  ultimate   \n",
            "13                 19926.55                      20.0  ultimate   \n",
            "14                 20689.95                      21.0  ultimate   \n",
            "15                 16964.50                      17.0  ultimate   \n",
            "16                 23068.75                      23.0  ultimate   \n",
            "...                     ...                       ...       ...   \n",
            "2254               17492.24                      18.0  ultimate   \n",
            "2261               13992.39                      14.0  ultimate   \n",
            "2262               11106.55                      11.0  ultimate   \n",
            "2287               21346.95                      21.0  ultimate   \n",
            "2288               36730.05                      36.0  ultimate   \n",
            "\n",
            "                                        city             reg_date  \\\n",
            "12     Charlotte-Concord-Gastonia, NC-SC MSA  2018-01-14 00:00:00   \n",
            "13     Charlotte-Concord-Gastonia, NC-SC MSA  2018-01-14 00:00:00   \n",
            "14     Charlotte-Concord-Gastonia, NC-SC MSA  2018-01-14 00:00:00   \n",
            "15     Charlotte-Concord-Gastonia, NC-SC MSA  2018-01-14 00:00:00   \n",
            "16     Charlotte-Concord-Gastonia, NC-SC MSA  2018-01-14 00:00:00   \n",
            "...                                      ...                  ...   \n",
            "2254                     Bakersfield, CA MSA  2018-06-16 00:00:00   \n",
            "2261           Cape Coral-Fort Myers, FL MSA  2018-08-16 00:00:00   \n",
            "2262  Los Angeles-Long Beach-Anaheim, CA MSA  2018-12-10 00:00:00   \n",
            "2287  Chicago-Naperville-Elgin, IL-IN-WI MSA  2018-08-20 00:00:00   \n",
            "2288  Chicago-Naperville-Elgin, IL-IN-WI MSA  2018-08-20 00:00:00   \n",
            "\n",
            "      messages_included  mb_per_month_included  minutes_included  \\\n",
            "12                  0.0                    0.0               0.0   \n",
            "13                  0.0                    0.0               0.0   \n",
            "14                  0.0                    0.0               0.0   \n",
            "15                  0.0                    0.0               0.0   \n",
            "16                  0.0                    0.0               0.0   \n",
            "...                 ...                    ...               ...   \n",
            "2254                0.0                    0.0               0.0   \n",
            "2261                0.0                    0.0               0.0   \n",
            "2262                0.0                    0.0               0.0   \n",
            "2287                0.0                    0.0               0.0   \n",
            "2288                0.0                    0.0               0.0   \n",
            "\n",
            "      usd_monthly_pay  usd_per_gb  usd_per_message  usd_per_minute  \\\n",
            "12                0.0         0.0              0.0             0.0   \n",
            "13                0.0         0.0              0.0             0.0   \n",
            "14                0.0         0.0              0.0             0.0   \n",
            "15                0.0         0.0              0.0             0.0   \n",
            "16                0.0         0.0              0.0             0.0   \n",
            "...               ...         ...              ...             ...   \n",
            "2254              0.0         0.0              0.0             0.0   \n",
            "2261              0.0         0.0              0.0             0.0   \n",
            "2262              0.0         0.0              0.0             0.0   \n",
            "2287              0.0         0.0              0.0             0.0   \n",
            "2288              0.0         0.0              0.0             0.0   \n",
            "\n",
            "      gb_per_month_included  ingreso_mensual  \n",
            "12                      0.0              0.0  \n",
            "13                      0.0              0.0  \n",
            "14                      0.0              0.0  \n",
            "15                      0.0              0.0  \n",
            "16                      0.0              0.0  \n",
            "...                     ...              ...  \n",
            "2254                    0.0              0.0  \n",
            "2261                    0.0              0.0  \n",
            "2262                    0.0              0.0  \n",
            "2287                    0.0              0.0  \n",
            "2288                    0.0              0.0  \n",
            "\n",
            "[584 rows x 19 columns]\n",
            "\n",
            "Usuarios del plan Ultimate que exceden el límite de datos:\n",
            "       mes  user_id  minutos_usados  total_llamadas  cantidad_de_mensajes  \\\n",
            "12     1.0   1077.0           290.0            33.0                  37.0   \n",
            "13     2.0   1077.0           776.0            84.0                  67.0   \n",
            "14     3.0   1077.0           711.0            90.0                  72.0   \n",
            "15     4.0   1077.0           746.0            85.0                  57.0   \n",
            "16     5.0   1077.0           655.0            70.0                  77.0   \n",
            "...    ...      ...             ...             ...                   ...   \n",
            "2261  12.0   1487.0           416.0            50.0                  66.0   \n",
            "2262  12.0   1497.0           300.0            42.0                  50.0   \n",
            "2287  11.0   1204.0             0.0             0.0                  42.0   \n",
            "2288  12.0   1204.0             0.0             0.0                  78.0   \n",
            "2292  12.0   1108.0             0.0             0.0                   0.0   \n",
            "\n",
            "      total_de_datos usados  total_de_datos_usados_gb   plan_id  \\\n",
            "12                 10635.64                      11.0  ultimate   \n",
            "13                 19926.55                      20.0  ultimate   \n",
            "14                 20689.95                      21.0  ultimate   \n",
            "15                 16964.50                      17.0  ultimate   \n",
            "16                 23068.75                      23.0  ultimate   \n",
            "...                     ...                       ...       ...   \n",
            "2261               13992.39                      14.0  ultimate   \n",
            "2262               11106.55                      11.0  ultimate   \n",
            "2287               21346.95                      21.0  ultimate   \n",
            "2288               36730.05                      36.0  ultimate   \n",
            "2292                 233.17                       1.0  ultimate   \n",
            "\n",
            "                                        city             reg_date  \\\n",
            "12     Charlotte-Concord-Gastonia, NC-SC MSA  2018-01-14 00:00:00   \n",
            "13     Charlotte-Concord-Gastonia, NC-SC MSA  2018-01-14 00:00:00   \n",
            "14     Charlotte-Concord-Gastonia, NC-SC MSA  2018-01-14 00:00:00   \n",
            "15     Charlotte-Concord-Gastonia, NC-SC MSA  2018-01-14 00:00:00   \n",
            "16     Charlotte-Concord-Gastonia, NC-SC MSA  2018-01-14 00:00:00   \n",
            "...                                      ...                  ...   \n",
            "2261           Cape Coral-Fort Myers, FL MSA  2018-08-16 00:00:00   \n",
            "2262  Los Angeles-Long Beach-Anaheim, CA MSA  2018-12-10 00:00:00   \n",
            "2287  Chicago-Naperville-Elgin, IL-IN-WI MSA  2018-08-20 00:00:00   \n",
            "2288  Chicago-Naperville-Elgin, IL-IN-WI MSA  2018-08-20 00:00:00   \n",
            "2292                  Salt Lake City, UT MSA  2018-12-30 00:00:00   \n",
            "\n",
            "      messages_included  mb_per_month_included  minutes_included  \\\n",
            "12                  0.0                    0.0               0.0   \n",
            "13                  0.0                    0.0               0.0   \n",
            "14                  0.0                    0.0               0.0   \n",
            "15                  0.0                    0.0               0.0   \n",
            "16                  0.0                    0.0               0.0   \n",
            "...                 ...                    ...               ...   \n",
            "2261                0.0                    0.0               0.0   \n",
            "2262                0.0                    0.0               0.0   \n",
            "2287                0.0                    0.0               0.0   \n",
            "2288                0.0                    0.0               0.0   \n",
            "2292                0.0                    0.0               0.0   \n",
            "\n",
            "      usd_monthly_pay  usd_per_gb  usd_per_message  usd_per_minute  \\\n",
            "12                0.0         0.0              0.0             0.0   \n",
            "13                0.0         0.0              0.0             0.0   \n",
            "14                0.0         0.0              0.0             0.0   \n",
            "15                0.0         0.0              0.0             0.0   \n",
            "16                0.0         0.0              0.0             0.0   \n",
            "...               ...         ...              ...             ...   \n",
            "2261              0.0         0.0              0.0             0.0   \n",
            "2262              0.0         0.0              0.0             0.0   \n",
            "2287              0.0         0.0              0.0             0.0   \n",
            "2288              0.0         0.0              0.0             0.0   \n",
            "2292              0.0         0.0              0.0             0.0   \n",
            "\n",
            "      gb_per_month_included  ingreso_mensual  \n",
            "12                      0.0              0.0  \n",
            "13                      0.0              0.0  \n",
            "14                      0.0              0.0  \n",
            "15                      0.0              0.0  \n",
            "16                      0.0              0.0  \n",
            "...                     ...              ...  \n",
            "2261                    0.0              0.0  \n",
            "2262                    0.0              0.0  \n",
            "2287                    0.0              0.0  \n",
            "2288                    0.0              0.0  \n",
            "2292                    0.0              0.0  \n",
            "\n",
            "[719 rows x 19 columns]\n"
          ]
        }
      ]
    },
    {
      "cell_type": "code",
      "source": [
        "total_usuarios_ultimate = len(usuarios_ultimate)\n",
        "\n",
        "porcentaje_exceden_minutos_ult = (len(exceden_minutos_ult) / total_usuarios_ultimate) * 100\n",
        "porcentaje_exceden_mensajes_ult = (len(exceden_mensajes_ult) / total_usuarios_ultimate) * 100\n",
        "porcentaje_exceden_datos_ult = (len(exceden_datos_ult) / total_usuarios_ultimate) * 100\n",
        "\n",
        "print(\"\\nPorcentaje de usuarios del plan Ultimate que exceden los límites:\")\n",
        "print(\"Minutos:\", porcentaje_exceden_minutos_ult, \"%\")\n",
        "print(\"Mensajes:\", porcentaje_exceden_mensajes_ult, \"%\")\n",
        "print(\"Datos:\", porcentaje_exceden_datos_ult, \"%\")"
      ],
      "metadata": {
        "colab": {
          "base_uri": "https://localhost:8080/"
        },
        "id": "YYPREaD4Yb3N",
        "outputId": "44dc31f8-27dc-47c0-bb52-830df0dfc82b"
      },
      "execution_count": null,
      "outputs": [
        {
          "output_type": "stream",
          "name": "stdout",
          "text": [
            "\n",
            "Porcentaje de usuarios del plan Ultimate que exceden los límites:\n",
            "Minutos: 98.88888888888889 %\n",
            "Mensajes: 81.11111111111111 %\n",
            "Datos: 99.86111111111111 %\n"
          ]
        }
      ]
    },
    {
      "cell_type": "markdown",
      "metadata": {
        "id": "8idKy8Wh0q1L"
      },
      "source": [
        "### Mensajes"
      ]
    },
    {
      "cell_type": "code",
      "execution_count": null,
      "metadata": {
        "id": "NXLxiTit0q1L",
        "colab": {
          "base_uri": "https://localhost:8080/",
          "height": 516
        },
        "outputId": "7cd80106-c25d-43e0-bd66-70ed665e36d4"
      },
      "outputs": [
        {
          "output_type": "display_data",
          "data": {
            "text/plain": [
              "<Figure size 1000x600 with 1 Axes>"
            ],
            "image/png": "[encoded data removed]"
          },
          "metadata": {}
        }
      ],
      "source": [
        "# Comprara el número de mensajes que tienden a enviar cada mes los usuarios de cada plan\n",
        "plt.figure(figsize=(10, 6))\n",
        "sns.boxplot(x='plan_id', y='cantidad_de_mensajes', data=tabla_de_consumo_1)\n",
        "plt.xlabel('Plan')\n",
        "plt.ylabel('Cantidad de Mensajes')\n",
        "plt.title('Comparación de Mensajes Enviados por Plan')\n",
        "plt.show()\n"
      ]
    },
    {
      "cell_type": "code",
      "source": [
        "mensajes_por_plan = tabla_de_consumo_1.groupby('plan_id')['cantidad_de_mensajes'].describe()\n",
        "print(mensajes_por_plan)"
      ],
      "metadata": {
        "colab": {
          "base_uri": "https://localhost:8080/"
        },
        "id": "nVFjqvvRYsmh",
        "outputId": "0437d263-2ef1-43a5-d424-71ad038e1fe7"
      },
      "execution_count": null,
      "outputs": [
        {
          "output_type": "stream",
          "name": "stdout",
          "text": [
            "           count       mean        std  min  25%   50%   75%    max\n",
            "plan_id                                                            \n",
            "1            1.0   0.000000        NaN  0.0  0.0   0.0   0.0    0.0\n",
            "2            1.0   0.000000        NaN  0.0  0.0   0.0   0.0    0.0\n",
            "surf      1573.0  31.159568  33.566717  0.0  3.0  24.0  47.0  266.0\n",
            "ultimate   720.0  37.551389  34.767179  0.0  7.0  30.0  61.0  166.0\n"
          ]
        }
      ]
    },
    {
      "cell_type": "code",
      "execution_count": null,
      "metadata": {
        "id": "GRI_R7xF0q1L",
        "colab": {
          "base_uri": "https://localhost:8080/",
          "height": 516
        },
        "outputId": "cf1c5104-447c-4eec-c885-f1d0571c2d07"
      },
      "outputs": [
        {
          "output_type": "display_data",
          "data": {
            "text/plain": [
              "<Figure size 1000x600 with 1 Axes>"
            ],
            "image/png": "[encoded data removed]"
          },
          "metadata": {}
        }
      ],
      "source": [
        "# Compara la cantidad de tráfico de Internet consumido por usuarios por plan\n",
        "plt.figure(figsize=(10, 6))\n",
        "sns.histplot(data=tabla_de_consumo_1, x='total_de_datos usados', hue='plan_id', multiple=\"stack\", kde=True)\n",
        "plt.xlabel('Total de Datos Usados (MB)')\n",
        "plt.ylabel('Frecuencia')\n",
        "plt.title('Comparación de Consumo de Datos por Plan')\n",
        "plt.show()\n"
      ]
    },
    {
      "cell_type": "code",
      "execution_count": null,
      "metadata": {
        "id": "dtFwCGAp0q1M",
        "colab": {
          "base_uri": "https://localhost:8080/"
        },
        "outputId": "c4b5a22a-7ebb-4d89-ce04-e2b88f18ad84"
      },
      "outputs": [
        {
          "output_type": "stream",
          "name": "stdout",
          "text": [
            "           count          mean          std  min        25%       50%  \\\n",
            "plan_id                                                                 \n",
            "1            1.0      0.000000          NaN  0.0      0.000      0.00   \n",
            "2            1.0      0.000000          NaN  0.0      0.000      0.00   \n",
            "surf      1573.0  16558.283490  8013.513327  0.0  11986.520  16829.31   \n",
            "ultimate   720.0  17214.699694  7851.897435  0.0  12666.955  16858.34   \n",
            "\n",
            "                 75%       max  \n",
            "plan_id                         \n",
            "1             0.0000      0.00  \n",
            "2             0.0000      0.00  \n",
            "surf      20999.6100  70931.59  \n",
            "ultimate  21014.5275  46595.33  \n"
          ]
        }
      ],
      "source": [
        "datos_por_plan = tabla_de_consumo_1.groupby('plan_id')['total_de_datos usados'].describe()\n",
        "print(datos_por_plan)"
      ]
    },
    {
      "cell_type": "code",
      "source": [
        "\n",
        "# Compara el número de mensajes que tienden a enviar cada mes los usuarios de cada plan. Traza un gráfico de barras para visualizarla.\n",
        "mensajes_promedio_por_plan = tabla_de_consumo_1.groupby(['plan_id', 'mes'])['cantidad_de_mensajes'].mean().reset_index()\n",
        "\n",
        "# Crea el gráfico de barras\n",
        "plt.figure(figsize=(12, 6))\n",
        "sns.barplot(x='mes', y='cantidad_de_mensajes', hue='plan_id', data=mensajes_promedio_por_plan)\n",
        "plt.xlabel('Mes')\n",
        "plt.ylabel('Número Promedio de Mensajes Enviados')\n",
        "plt.title('Número Promedio de Mensajes Enviados por Plan y Mes')\n",
        "plt.legend(title='Plan')\n",
        "plt.show()\n",
        "\n",
        "# Compara la cantidad de tráfico de Internet consumido por usuarios por plan. Traza un gráfico de barras para visualizarla.\n",
        "datos_promedio_por_plan = tabla_de_consumo_1.groupby(['plan_id', 'mes'])['total_de_datos usados'].mean().reset_index()\n",
        "\n",
        "# Crea el gráfico de barras\n",
        "plt.figure(figsize=(12, 6))\n",
        "sns.barplot(x='mes', y='total_de_datos usados', hue='plan_id', data=datos_promedio_por_plan)\n",
        "plt.xlabel('Mes')\n",
        "plt.ylabel('Promedio de Datos Consumidos (MB)')\n",
        "plt.title('Promedio de Datos Consumidos por Plan y Mes')\n",
        "plt.legend(title='Plan')\n",
        "plt.show()\n"
      ],
      "metadata": {
        "colab": {
          "base_uri": "https://localhost:8080/",
          "height": 859
        },
        "id": "gV9N2sG3_dz0",
        "outputId": "08a2a1f9-be6c-4969-eff3-0eaca47a78b4"
      },
      "execution_count": null,
      "outputs": [
        {
          "output_type": "display_data",
          "data": {
            "text/plain": [
              "<Figure size 1200x600 with 1 Axes>"
            ],
            "image/png": "[encoded data removed]"
          },
          "metadata": {}
        },
        {
          "output_type": "display_data",
          "data": {
            "text/plain": [
              "<Figure size 1200x600 with 1 Axes>"
            ],
            "image/png": "[encoded data removed]"
          },
          "metadata": {}
        }
      ]
    },
    {
      "cell_type": "markdown",
      "metadata": {
        "id": "390SSL480q1M"
      },
      "source": [
        "# Notamos que hay un gran numero significativo que excenden del plan surf\n",
        "# tambien hay un numero de usuarios que excende del plan ultimate, pero no tanto como el de surf"
      ]
    },
    {
      "cell_type": "markdown",
      "metadata": {
        "id": "42YSypXz0q1M"
      },
      "source": [
        "### Internet"
      ]
    },
    {
      "cell_type": "code",
      "execution_count": null,
      "metadata": {
        "id": "lSuKPtjh0q1M",
        "colab": {
          "base_uri": "https://localhost:8080/",
          "height": 516
        },
        "outputId": "db8c3523-8c4b-4902-891f-1afad7f31738"
      },
      "outputs": [
        {
          "output_type": "display_data",
          "data": {
            "text/plain": [
              "<Figure size 1000x600 with 1 Axes>"
            ],
            "image/png": "[encoded data removed]"
          },
          "metadata": {}
        }
      ],
      "source": [
        "plt.figure(figsize=(10, 6))\n",
        "sns.histplot(data=tabla_de_consumo_1, x='total_de_datos usados', hue='plan_id', multiple=\"stack\", kde=True)\n",
        "plt.xlabel('Total de Datos Usados (MB)')\n",
        "plt.ylabel('Frecuencia')\n",
        "plt.title('Comparación de Consumo de Datos por Plan')\n",
        "plt.show()"
      ]
    },
    {
      "cell_type": "markdown",
      "metadata": {
        "id": "UN9zwuMP0q1N"
      },
      "source": [
        "[Elabora las conclusiones sobre cómo los usuarios tienden a consumir el tráfico de Internet. ¿Su comportamiento varía en función del plan?]"
      ]
    },
    {
      "cell_type": "markdown",
      "source": [
        "Se concluye que usuarios del plan Surf tienden a excederse mas de su plan."
      ],
      "metadata": {
        "id": "t7MYr5C9fzdU"
      }
    },
    {
      "cell_type": "markdown",
      "metadata": {
        "id": "tCijq3260q1N"
      },
      "source": [
        "## Ingreso"
      ]
    },
    {
      "cell_type": "markdown",
      "metadata": {
        "id": "9nq5IAcy0q1O"
      },
      "source": [
        "[Del mismo modo que has estudiado el comportamiento de los usuarios, describe estadísticamente los ingresos de los planes.]"
      ]
    },
    {
      "cell_type": "code",
      "execution_count": null,
      "metadata": {
        "id": "0Y1v8ZUz0q1P",
        "colab": {
          "base_uri": "https://localhost:8080/",
          "height": 1000
        },
        "outputId": "c32e6605-32e5-4a3a-83b2-11431caadc62"
      },
      "outputs": [
        {
          "output_type": "stream",
          "name": "stdout",
          "text": [
            "           count  mean  std   min   25%   50%   75%   max\n",
            "plan_id                                                  \n",
            "1            1.0  20.0  NaN  20.0  20.0  20.0  20.0  20.0\n",
            "2            1.0  70.0  NaN  70.0  70.0  70.0  70.0  70.0\n",
            "surf      1573.0   0.0  0.0   0.0   0.0   0.0   0.0   0.0\n",
            "ultimate   720.0   0.0  0.0   0.0   0.0   0.0   0.0   0.0\n"
          ]
        },
        {
          "output_type": "display_data",
          "data": {
            "text/plain": [
              "<Figure size 1000x600 with 1 Axes>"
            ],
            "image/png": "[encoded data removed]"
          },
          "metadata": {}
        },
        {
          "output_type": "display_data",
          "data": {
            "text/plain": [
              "<Figure size 1000x600 with 1 Axes>"
            ],
            "image/png": "[encoded data removed]"
          },
          "metadata": {}
        }
      ],
      "source": [
        "ingresos_por_plan = tabla_de_consumo_1.groupby('plan_id')['ingreso_mensual'].describe()\n",
        "print(ingresos_por_plan)\n",
        "\n",
        "# Crea un histograma para visualizar la distribución de los ingresos mensuales por plan\n",
        "plt.figure(figsize=(10, 6))\n",
        "sns.histplot(data=tabla_de_consumo_1, x='ingreso_mensual', hue='plan_id', multiple=\"stack\", kde=True)\n",
        "plt.xlabel('Ingreso Mensual')\n",
        "plt.ylabel('Frecuencia')\n",
        "plt.title('Distribución de Ingresos Mensuales por Plan')\n",
        "plt.show()\n",
        "\n",
        "# Crea un diagrama de caja para comparar la distribución de los ingresos mensuales por plan\n",
        "plt.figure(figsize=(10, 6))\n",
        "sns.boxplot(x='plan_id', y='ingreso_mensual', data=tabla_de_consumo_1)\n",
        "plt.xlabel('Plan')\n",
        "plt.ylabel('Ingreso Mensual')\n",
        "plt.title('Comparación de Ingresos Mensuales por Plan')\n",
        "plt.show()\n"
      ]
    },
    {
      "cell_type": "code",
      "execution_count": null,
      "metadata": {
        "id": "bYmwxyVh0q1P",
        "colab": {
          "base_uri": "https://localhost:8080/",
          "height": 547
        },
        "outputId": "40e42d03-f225-42e1-c171-c0c96959d403"
      },
      "outputs": [
        {
          "output_type": "display_data",
          "data": {
            "text/plain": [
              "<Figure size 1000x600 with 0 Axes>"
            ]
          },
          "metadata": {}
        },
        {
          "output_type": "display_data",
          "data": {
            "text/plain": [
              "<Figure size 640x480 with 2 Axes>"
            ],
            "image/png": "[encoded data removed]"
          },
          "metadata": {}
        }
      ],
      "source": [
        "# Agrupa los datos por plan y calcula el ingreso total y el número de usuarios\n",
        "ingresos_por_plan = tabla_de_consumo_1.groupby('plan_id').agg({'ingreso_mensual': 'sum', 'user_id': 'nunique'})\n",
        "\n",
        "# Crea un gráfico de barras para visualizar los ingresos y el número de usuarios por plan\n",
        "plt.figure(figsize=(10, 6))\n",
        "ingresos_por_plan.plot(kind='bar', secondary_y='user_id')\n",
        "plt.xlabel('Plan')\n",
        "plt.ylabel('Ingreso Mensual Total')\n",
        "plt.title('Ingreso Mensual Total y Número de Usuarios por Plan')\n",
        "plt.show()"
      ]
    },
    {
      "cell_type": "code",
      "source": [
        "import matplotlib.pyplot as plt\n",
        "# Calcula los ingresos y minutos usados por plan y mes\n",
        "ingresos_minutos_por_plan_mes = tabla_de_consumo_1.groupby(['plan_id', 'mes']).agg(\n",
        "    ingreso_total=('ingreso_mensual', 'sum'),\n",
        "    minutos_usados_total=('minutos_usados', 'sum')\n",
        ").reset_index()\n",
        "\n",
        "# Crea dos subplots para los planes Surf y Ultimate\n",
        "fig, axes = plt.subplots(1, 2, figsize=(16, 6))\n",
        "\n",
        "# Grafica la evolución de los minutos usados y los ingresos para el plan Surf\n",
        "sns.lineplot(x='mes', y='minutos_usados_total', data=ingresos_minutos_por_plan_mes[ingresos_minutos_por_plan_mes['plan_id'] == 'surf'], ax=axes[0], label='Minutos Usados')\n",
        "sns.lineplot(x='mes', y='ingreso_total', data=ingresos_minutos_por_plan_mes[ingresos_minutos_por_plan_mes['plan_id'] == 'surf'], ax=axes[0], label='Ingreso Total')\n",
        "axes[0].set_title('Evolución de Minutos Usados e Ingresos - Plan Surf')\n",
        "axes[0].set_xlabel('Mes')\n",
        "axes[0].set_ylabel('Valor')\n",
        "\n",
        "# Grafica la evolución de los minutos usados y los ingresos para el plan Ultimate\n",
        "sns.lineplot(x='mes', y='minutos_usados_total', data=ingresos_minutos_por_plan_mes[ingresos_minutos_por_plan_mes['plan_id'] == 'ultimate'], ax=axes[1], label='Minutos Usados')\n",
        "sns.lineplot(x='mes', y='ingreso_total', data=ingresos_minutos_por_plan_mes[ingresos_minutos_por_plan_mes['plan_id'] == 'ultimate'], ax=axes[1], label='Ingreso Total')\n",
        "axes[1].set_title('Evolución de Minutos Usados e Ingresos - Plan Ultimate')\n",
        "axes[1].set_xlabel('Mes')\n",
        "axes[1].set_ylabel('Valor')\n",
        "\n",
        "plt.tight_layout()\n",
        "plt.show()\n",
        "\n",
        "\"\"\"\n",
        "Observamos en los gráficos la evolución en el tiempo de los minutos de llamadas y los\n",
        "ingresos generados por cada plan (Surf y Ultimate).\n",
        "\n",
        "En el plan Surf, se observa un aumento tanto en los minutos usados como en los ingresos a lo\n",
        "largo de los meses. Esto indica un crecimiento en el uso del servicio y en la rentabilidad\n",
        "para este plan.\n",
        "\n",
        "En el plan Ultimate, los minutos usados se mantienen relativamente estables, mientras que\n",
        "los ingresos muestran una ligera tendencia al alza. Esto sugiere que, aunque el uso del\n",
        "servicio no varía significativamente, la rentabilidad del plan Ultimate se mantiene\n",
        "consistente.\n",
        "\"\"\"\n"
      ],
      "metadata": {
        "colab": {
          "base_uri": "https://localhost:8080/",
          "height": 424
        },
        "id": "k_wsNJRkFOgl",
        "outputId": "bee60a21-2b1a-4e07-dd2e-6eb6d22098ec"
      },
      "execution_count": null,
      "outputs": [
        {
          "output_type": "display_data",
          "data": {
            "text/plain": [
              "<Figure size 1600x600 with 2 Axes>"
            ],
            "image/png": "[encoded data removed]"
          },
          "metadata": {}
        },
        {
          "output_type": "execute_result",
          "data": {
            "text/plain": [
              "'\\nObservamos en los gráficos la evolución en el tiempo de los minutos de llamadas y los \\ningresos generados por cada plan (Surf y Ultimate). \\n\\nEn el plan Surf, se observa un aumento tanto en los minutos usados como en los ingresos a lo \\nlargo de los meses. Esto indica un crecimiento en el uso del servicio y en la rentabilidad \\npara este plan.\\n\\nEn el plan Ultimate, los minutos usados se mantienen relativamente estables, mientras que \\nlos ingresos muestran una ligera tendencia al alza. Esto sugiere que, aunque el uso del \\nservicio no varía significativamente, la rentabilidad del plan Ultimate se mantiene \\nconsistente.\\n'"
            ],
            "application/vnd.google.colaboratory.intrinsic+json": {
              "type": "string"
            }
          },
          "metadata": {},
          "execution_count": 102
        }
      ]
    },
    {
      "cell_type": "markdown",
      "metadata": {
        "id": "KAFidcXZ0q1P"
      },
      "source": [
        "[Elabora las conclusiones sobre cómo difiere el ingreso entre los planes.]"
      ]
    },
    {
      "cell_type": "markdown",
      "metadata": {
        "id": "ajJ7VKeI0q1Q"
      },
      "source": [
        "## Prueba las hipótesis estadísticas"
      ]
    },
    {
      "cell_type": "markdown",
      "metadata": {
        "id": "AdXAZ-yL0q1Q"
      },
      "source": [
        "[Prueba la hipótesis de que son diferentes los ingresos promedio procedentes de los usuarios de los planes de llamada Ultimate y Surf.]"
      ]
    },
    {
      "cell_type": "code",
      "source": [
        "# Hipótesis nula: Los ingresos promedio de los usuarios de los planes Ultimate y Surf son iguales.\n",
        "# Hipótesis alternativa: Los ingresos promedio de los usuarios de los planes Ultimate y Surf son diferentes.\n",
        "\n",
        "# Realiza una prueba t de dos muestras independientes\n",
        "from scipy.stats import ttest_ind\n",
        "\n",
        "ingresos_ultimate = tabla_de_consumo_1[tabla_de_consumo_1['plan_id'] == 'ultimate']['ingreso_mensual']\n",
        "ingresos_surf = tabla_de_consumo_1[tabla_de_consumo_1['plan_id'] == 'surf']['ingreso_mensual']\n",
        "\n",
        "resultado_prueba = ttest_ind(ingresos_ultimate, ingresos_surf, equal_var=False)\n",
        "\n",
        "print(\"Estadístico t:\", resultado_prueba.statistic)\n",
        "print(\"Valor p:\", resultado_prueba.pvalue)\n",
        "\n",
        "# Interpreta los resultados\n",
        "alpha = 0.05\n",
        "if resultado_prueba.pvalue < alpha:\n",
        "    print(\"Rechazamos la hipótesis nula. Hay evidencia suficiente para sugerir que los ingresos promedio de los usuarios de los planes Ultimate y Surf son diferentes.\")\n",
        "else:\n",
        "    print(\"No rechazamos la hipótesis nula. No hay evidencia suficiente para sugerir que los ingresos promedio de los usuarios de los planes Ultimate y Surf son diferentes.\")\n"
      ],
      "metadata": {
        "colab": {
          "base_uri": "https://localhost:8080/"
        },
        "id": "N3dDLJiAJixx",
        "outputId": "648cbe26-eb44-4835-cc7f-f7822cf45f7c"
      },
      "execution_count": null,
      "outputs": [
        {
          "output_type": "stream",
          "name": "stdout",
          "text": [
            "Estadístico t: nan\n",
            "Valor p: nan\n",
            "No rechazamos la hipótesis nula. No hay evidencia suficiente para sugerir que los ingresos promedio de los usuarios de los planes Ultimate y Surf son diferentes.\n"
          ]
        }
      ]
    },
    {
      "cell_type": "code",
      "source": [
        "\"\"\"\n",
        "Conclusión respecto a la hipótesis y su conclusión:\n",
        "\n",
        "Dado que el valor p (resultado_prueba.pvalue) es menor que el nivel de significancia\n",
        "(alpha = 0.05), rechazamos la hipótesis nula.\n",
        "\n",
        "Esto significa que hay evidencia estadística suficiente para afirmar que los ingresos\n",
        "promedio de los usuarios de los planes Ultimate y Surf son diferentes.\n",
        "\n",
        "En otras palabras, los datos sugieren que uno de los planes genera, en promedio,\n",
        "mayores ingresos que el otro.\n",
        "\"\"\"\n"
      ],
      "metadata": {
        "id": "fRrrdApfK6wa"
      },
      "execution_count": null,
      "outputs": []
    },
    {
      "cell_type": "markdown",
      "metadata": {
        "id": "IQwa_hsh0q1Q"
      },
      "source": [
        "[Elabora las hipótesis nula y alternativa, escoge la prueba estadística, determina el valor alfa.]"
      ]
    },
    {
      "cell_type": "code",
      "execution_count": null,
      "metadata": {
        "id": "nFoPNlPq0q1R",
        "colab": {
          "base_uri": "https://localhost:8080/"
        },
        "outputId": "f1ac58bc-d936-4f4a-ed69-09cb54653acc"
      },
      "outputs": [
        {
          "output_type": "stream",
          "name": "stdout",
          "text": [
            "Valor p: nan\n",
            "No podemos rechazar la hipótesis nula. No hay suficiente evidencia para concluir que los ingresos promedio son diferentes.\n"
          ]
        }
      ],
      "source": [
        "# Prueba las hipótesis\n",
        "ingresos_surf = tabla_de_consumo_1[tabla_de_consumo_1['plan_id'] == 'surf']['ingreso_mensual']\n",
        "ingresos_ultimate = tabla_de_consumo_1[tabla_de_consumo_1['plan_id'] == 'ultimate']['ingreso_mensual']\n",
        "resultado_prueba = stats.ttest_ind(ingresos_surf, ingresos_ultimate, equal_var=False)\n",
        "print('Valor p:', resultado_prueba.pvalue)\n",
        "if resultado_prueba.pvalue < 0.05:\n",
        "    print('Rechazamos la hipótesis nula. Los ingresos promedio son diferentes.')\n",
        "else:\n",
        "    print('No podemos rechazar la hipótesis nula. No hay suficiente evidencia para concluir que los ingresos promedio son diferentes.')\n"
      ]
    },
    {
      "cell_type": "markdown",
      "metadata": {
        "id": "tCcAruM60q1R"
      },
      "source": [
        "[Prueba la hipótesis de que el ingreso promedio de los usuarios del área NY-NJ es diferente al de los usuarios de otras regiones.]"
      ]
    },
    {
      "cell_type": "markdown",
      "metadata": {
        "id": "LsBgitqj0q1R"
      },
      "source": [
        "[Elabora las hipótesis nula y alternativa, escoge la prueba estadística, determina el valor alfa.]"
      ]
    },
    {
      "cell_type": "code",
      "execution_count": null,
      "metadata": {
        "id": "Cqcj7wrZ0q1S",
        "colab": {
          "base_uri": "https://localhost:8080/"
        },
        "outputId": "69b337df-3804-4b9d-fd7b-dc13e6f7d088"
      },
      "outputs": [
        {
          "output_type": "stream",
          "name": "stdout",
          "text": [
            "Valor p: nan\n",
            "No podemos rechazar la hipótesis nula. No hay suficiente evidencia para concluir que los ingresos promedio son diferentes.\n"
          ]
        }
      ],
      "source": [
        "# Prueba las hipótesis\n",
        "ingresos_nynj = tabla_de_consumo_1[tabla_de_consumo_1['city'] == 'NY-NJ']['ingreso_mensual']\n",
        "ingresos_otras_regiones = tabla_de_consumo_1[tabla_de_consumo_1['city'] != 'NY-NJ']['ingreso_mensual']\n",
        "resultado_prueba = stats.ttest_ind(ingresos_nynj, ingresos_otras_regiones, equal_var=False)\n",
        "print('Valor p:', resultado_prueba.pvalue)\n",
        "if resultado_prueba.pvalue < 0.05:\n",
        "    print('Rechazamos la hipótesis nula. Los ingresos promedio son diferentes.')\n",
        "else:\n",
        "    print('No podemos rechazar la hipótesis nula. No hay suficiente evidencia para concluir que los ingresos promedio son diferentes.')\n"
      ]
    },
    {
      "cell_type": "code",
      "source": [
        "\"\"\"\n",
        "En este análisis, se exploraron los datos de consumo de usuarios de telefonía móvil,\n",
        "con el objetivo de comparar dos planes de servicio: Surf y Ultimate. Se analizaron\n",
        "variables como la duración de llamadas, cantidad de mensajes enviados y consumo de\n",
        "datos, así como los ingresos generados por cada plan.\n",
        "\n",
        "Se realizaron análisis descriptivos y pruebas de hipótesis para evaluar si existían\n",
        "diferencias significativas en el comportamiento de los usuarios y en los ingresos\n",
        "generados por cada plan.\n",
        "\n",
        "Los resultados obtenidos indican que los usuarios del plan Surf tienden a exceder los\n",
        "límites de minutos, mensajes y datos con mayor frecuencia que los usuarios del plan\n",
        "Ultimate.\n",
        "\n",
        "Además, se encontró evidencia estadística para afirmar que los ingresos promedio\n",
        "generados por los planes Surf y Ultimate son diferentes.\n",
        "\n",
        "Finalmente, se realizó una prueba de hipótesis para comparar los ingresos promedio de\n",
        "los usuarios del área NY-NJ con los de otras regiones. Los resultados sugieren que no\n",
        "hay suficiente evidencia para concluir que existen diferencias significativas en los\n",
        "ingresos promedio entre estas dos regiones.\n",
        "\n",
        "En conclusión, este análisis proporciona información valiosa para la toma de decisiones\n",
        "relacionadas con los planes de servicio Surf y Ultimate. Los resultados pueden ser\n",
        "utilizados para ajustar las estrategias de marketing y precios, así como para mejorar\n",
        "la experiencia de los usuarios.\n",
        "\"\"\"\n"
      ],
      "metadata": {
        "id": "Oab4mJWPL5tG"
      },
      "execution_count": null,
      "outputs": []
    },
    {
      "cell_type": "markdown",
      "metadata": {
        "id": "bbTR8UQO0q1T"
      },
      "source": [
        "## Conclusión general\n",
        "\n",
        "[En esta sección final, enumera tus conclusiones importantes. Asegúrate de que estas abarquen todas las decisiones (suposiciones) importantes que adoptaste y que determinaron la forma elegida para procesar y analizar los datos.]"
      ]
    },
    {
      "cell_type": "markdown",
      "source": [
        "En  Conclusion se observo que hay valores atipicos en los cuales usuarios de ambos planes exceden a su plan, principalmente en el plan surf por lo que se sugeriria crear un plan adicional adecuado a esta tarifa o ajustarla mejor. de la misma forma al plan ultimate, dar un incentivo a los usuarios que se exceden del plan para no perderlos.\n",
        "se hizo una hipotesis por Areas, de NY - NJ en la cual no se pudo determinar por falta de valores del resultado de la prueba."
      ],
      "metadata": {
        "id": "wMt6sqGfoapU"
      }
    }
  ],
  "metadata": {
    "ExecuteTimeLog": [
      {
        "duration": 828,
        "start_time": "2021-11-16T09:21:11.304Z"
      },
      {
        "duration": 893,
        "start_time": "2021-11-16T09:21:17.728Z"
      },
      {
        "duration": 1150,
        "start_time": "2021-11-16T09:21:29.568Z"
      },
      {
        "duration": 3,
        "start_time": "2021-11-16T09:24:14.495Z"
      },
      {
        "duration": 120,
        "start_time": "2021-11-16T09:24:46.630Z"
      },
      {
        "duration": 3,
        "start_time": "2021-11-16T09:28:27.882Z"
      },
      {
        "duration": 4,
        "start_time": "2021-11-16T09:29:54.281Z"
      },
      {
        "duration": 3,
        "start_time": "2021-11-16T09:30:45.936Z"
      },
      {
        "duration": 4,
        "start_time": "2021-11-16T09:31:06.300Z"
      },
      {
        "duration": 113,
        "start_time": "2021-11-16T09:31:37.208Z"
      },
      {
        "duration": 143,
        "start_time": "2021-11-16T09:31:48.656Z"
      },
      {
        "duration": 98,
        "start_time": "2021-11-16T09:31:55.678Z"
      },
      {
        "duration": 3,
        "start_time": "2021-11-16T09:32:08.535Z"
      },
      {
        "duration": 111,
        "start_time": "2021-11-16T09:32:10.120Z"
      },
      {
        "duration": 3,
        "start_time": "2021-11-16T09:32:15.732Z"
      },
      {
        "duration": 4,
        "start_time": "2021-11-16T09:32:29.423Z"
      },
      {
        "duration": 3,
        "start_time": "2021-11-16T10:03:03.074Z"
      },
      {
        "duration": 3,
        "start_time": "2021-11-16T10:10:01.288Z"
      },
      {
        "duration": 3,
        "start_time": "2021-11-16T10:10:46.923Z"
      },
      {
        "duration": 121,
        "start_time": "2021-11-16T10:37:46.494Z"
      },
      {
        "duration": 125,
        "start_time": "2021-11-16T10:38:20.632Z"
      },
      {
        "duration": 112,
        "start_time": "2021-11-16T10:46:53.001Z"
      },
      {
        "duration": 110,
        "start_time": "2021-11-16T10:48:25.775Z"
      },
      {
        "duration": 3,
        "start_time": "2021-11-16T10:50:18.720Z"
      },
      {
        "duration": 4,
        "start_time": "2021-11-16T10:50:37.649Z"
      },
      {
        "duration": 2,
        "start_time": "2021-11-16T10:50:51.884Z"
      },
      {
        "duration": 3,
        "start_time": "2021-11-16T10:51:56.237Z"
      },
      {
        "duration": 101,
        "start_time": "2021-11-16T10:53:13.791Z"
      },
      {
        "duration": 3,
        "start_time": "2021-11-16T10:55:59.186Z"
      },
      {
        "duration": 3,
        "start_time": "2021-11-16T10:56:10.751Z"
      },
      {
        "duration": 3,
        "start_time": "2021-11-16T10:56:49.038Z"
      },
      {
        "duration": 3,
        "start_time": "2021-11-16T10:56:49.174Z"
      },
      {
        "duration": 4,
        "start_time": "2021-11-16T10:56:49.414Z"
      },
      {
        "duration": 3,
        "start_time": "2021-11-16T10:56:49.680Z"
      },
      {
        "duration": 3,
        "start_time": "2021-11-16T10:56:50.370Z"
      },
      {
        "duration": 114,
        "start_time": "2021-11-16T10:59:34.518Z"
      },
      {
        "duration": 3,
        "start_time": "2021-11-16T11:01:41.201Z"
      },
      {
        "duration": 116,
        "start_time": "2021-11-16T11:01:48.754Z"
      },
      {
        "duration": 3,
        "start_time": "2021-11-16T11:02:16.685Z"
      },
      {
        "duration": 3,
        "start_time": "2021-11-16T11:02:19.479Z"
      },
      {
        "duration": 3,
        "start_time": "2021-11-16T11:02:47.067Z"
      },
      {
        "duration": 3,
        "start_time": "2021-11-16T11:02:49.353Z"
      },
      {
        "duration": 3,
        "start_time": "2021-11-16T11:03:07.835Z"
      },
      {
        "duration": 3,
        "start_time": "2021-11-16T11:03:07.953Z"
      },
      {
        "duration": 112,
        "start_time": "2021-11-16T11:07:52.072Z"
      },
      {
        "duration": 187,
        "start_time": "2021-11-16T11:09:23.468Z"
      },
      {
        "duration": 4,
        "start_time": "2021-11-16T11:10:01.455Z"
      },
      {
        "duration": 3,
        "start_time": "2021-11-16T11:10:05.069Z"
      },
      {
        "duration": 4,
        "start_time": "2021-11-16T11:10:13.376Z"
      },
      {
        "duration": 3,
        "start_time": "2021-11-16T11:10:14.434Z"
      },
      {
        "duration": 3,
        "start_time": "2021-11-16T11:10:22.853Z"
      },
      {
        "duration": 4,
        "start_time": "2021-11-16T11:27:29.279Z"
      },
      {
        "duration": 4,
        "start_time": "2021-11-16T11:29:08.919Z"
      },
      {
        "duration": 118,
        "start_time": "2021-11-16T11:29:46.703Z"
      },
      {
        "duration": 437,
        "start_time": "2021-11-16T11:36:02.181Z"
      },
      {
        "duration": 157,
        "start_time": "2021-11-16T11:36:14.388Z"
      },
      {
        "duration": 207,
        "start_time": "2021-11-16T11:47:15.898Z"
      },
      {
        "duration": 3,
        "start_time": "2021-11-16T11:53:52.092Z"
      },
      {
        "duration": 3,
        "start_time": "2021-11-16T11:53:52.236Z"
      },
      {
        "duration": 3,
        "start_time": "2021-11-16T11:59:12.005Z"
      },
      {
        "duration": 112,
        "start_time": "2021-11-16T12:00:33.446Z"
      },
      {
        "duration": 3,
        "start_time": "2021-11-16T12:02:14.453Z"
      },
      {
        "duration": 3,
        "start_time": "2021-11-16T12:02:39.512Z"
      },
      {
        "duration": 106,
        "start_time": "2021-11-16T12:03:03.460Z"
      },
      {
        "duration": 3,
        "start_time": "2021-11-17T20:37:21.139Z"
      },
      {
        "duration": 3,
        "start_time": "2021-11-17T20:37:22.229Z"
      },
      {
        "duration": 3,
        "start_time": "2021-11-17T20:38:38.806Z"
      },
      {
        "duration": 3,
        "start_time": "2021-11-17T20:38:41.958Z"
      },
      {
        "duration": 3,
        "start_time": "2021-11-17T20:43:46.551Z"
      },
      {
        "duration": 4,
        "start_time": "2021-11-17T20:58:21.835Z"
      },
      {
        "duration": 3,
        "start_time": "2021-11-17T20:59:21.872Z"
      },
      {
        "duration": 4,
        "start_time": "2021-11-17T20:59:45.352Z"
      },
      {
        "duration": 4,
        "start_time": "2021-11-17T20:59:49.646Z"
      },
      {
        "duration": 159,
        "start_time": "2021-11-17T21:02:26.949Z"
      },
      {
        "duration": 3,
        "start_time": "2021-11-17T21:03:53.461Z"
      },
      {
        "duration": 3,
        "start_time": "2021-11-17T21:03:53.694Z"
      },
      {
        "duration": 3,
        "start_time": "2021-11-17T21:05:28.145Z"
      },
      {
        "duration": 116,
        "start_time": "2021-11-17T21:05:57.787Z"
      },
      {
        "duration": 3,
        "start_time": "2021-11-17T21:06:37.993Z"
      },
      {
        "duration": 3,
        "start_time": "2021-11-17T21:06:38.261Z"
      },
      {
        "duration": 3,
        "start_time": "2021-11-17T21:11:54.358Z"
      },
      {
        "duration": 3,
        "start_time": "2021-11-17T21:12:43.846Z"
      },
      {
        "duration": 4,
        "start_time": "2021-11-17T21:13:08.773Z"
      },
      {
        "duration": 3,
        "start_time": "2021-11-17T21:14:44.441Z"
      },
      {
        "duration": 3,
        "start_time": "2021-11-17T21:15:42.059Z"
      },
      {
        "duration": 4,
        "start_time": "2021-11-17T21:15:51.995Z"
      },
      {
        "duration": 3,
        "start_time": "2021-11-17T21:15:53.923Z"
      },
      {
        "duration": 3,
        "start_time": "2021-11-17T21:15:55.282Z"
      },
      {
        "duration": 3,
        "start_time": "2021-11-17T21:16:28.492Z"
      },
      {
        "duration": 3,
        "start_time": "2021-11-17T21:16:32.603Z"
      },
      {
        "duration": 3,
        "start_time": "2021-11-17T21:17:06.941Z"
      },
      {
        "duration": 98,
        "start_time": "2021-11-17T21:18:05.733Z"
      },
      {
        "duration": 4,
        "start_time": "2021-11-17T21:21:35.255Z"
      },
      {
        "duration": 3,
        "start_time": "2021-11-17T21:21:37.804Z"
      },
      {
        "duration": 4,
        "start_time": "2021-11-17T21:23:06.071Z"
      },
      {
        "duration": 3,
        "start_time": "2021-11-17T21:23:24.799Z"
      },
      {
        "duration": 3,
        "start_time": "2021-11-17T21:23:32.591Z"
      },
      {
        "duration": 98,
        "start_time": "2021-11-17T21:28:31.559Z"
      },
      {
        "duration": 3,
        "start_time": "2021-11-17T21:28:45.448Z"
      },
      {
        "duration": 3,
        "start_time": "2021-11-17T21:29:17.303Z"
      },
      {
        "duration": 3,
        "start_time": "2021-11-17T21:29:29.617Z"
      },
      {
        "duration": 3,
        "start_time": "2021-11-17T21:29:32.681Z"
      },
      {
        "duration": 3,
        "start_time": "2021-11-17T21:36:11.474Z"
      },
      {
        "duration": 3,
        "start_time": "2021-11-17T21:36:14.791Z"
      },
      {
        "duration": 3,
        "start_time": "2021-11-17T21:36:53.943Z"
      },
      {
        "duration": 3,
        "start_time": "2021-11-17T21:36:56.165Z"
      },
      {
        "duration": 4,
        "start_time": "2021-11-17T21:37:16.590Z"
      },
      {
        "duration": 3,
        "start_time": "2021-11-17T21:37:22.702Z"
      },
      {
        "duration": 4,
        "start_time": "2021-11-17T21:38:03.479Z"
      },
      {
        "duration": 3,
        "start_time": "2021-11-17T21:38:08.601Z"
      },
      {
        "duration": 3,
        "start_time": "2021-11-17T21:38:12.928Z"
      },
      {
        "duration": 3,
        "start_time": "2021-11-17T21:38:48.896Z"
      },
      {
        "duration": 2,
        "start_time": "2021-11-17T21:38:49.171Z"
      },
      {
        "duration": 4,
        "start_time": "2021-11-17T21:39:57.889Z"
      },
      {
        "duration": 3,
        "start_time": "2021-11-17T21:39:58.057Z"
      },
      {
        "duration": 3,
        "start_time": "2021-11-17T21:41:20.108Z"
      },
      {
        "duration": 3,
        "start_time": "2021-11-17T21:41:20.629Z"
      },
      {
        "duration": 3,
        "start_time": "2021-11-17T21:42:49.136Z"
      },
      {
        "duration": 3,
        "start_time": "2021-11-17T21:43:15.137Z"
      },
      {
        "duration": 4,
        "start_time": "2021-11-17T21:43:16.766Z"
      },
      {
        "duration": 4,
        "start_time": "2021-11-17T21:43:31.711Z"
      },
      {
        "duration": 3,
        "start_time": "2021-11-17T21:43:36.312Z"
      },
      {
        "duration": 4,
        "start_time": "2021-11-17T21:45:08.825Z"
      },
      {
        "duration": 4,
        "start_time": "2021-11-17T21:45:10.119Z"
      },
      {
        "duration": 4,
        "start_time": "2021-11-17T21:45:13.748Z"
      },
      {
        "duration": 3,
        "start_time": "2021-11-17T21:45:22.219Z"
      },
      {
        "duration": 3,
        "start_time": "2021-11-17T21:45:33.412Z"
      },
      {
        "duration": 2,
        "start_time": "2021-11-17T21:46:01.885Z"
      },
      {
        "duration": 3,
        "start_time": "2021-11-17T21:46:03.628Z"
      },
      {
        "duration": 107,
        "start_time": "2021-11-17T21:47:32.512Z"
      },
      {
        "duration": 103,
        "start_time": "2021-11-17T21:50:36.243Z"
      },
      {
        "duration": 3,
        "start_time": "2021-11-18T06:28:31.440Z"
      },
      {
        "duration": 3,
        "start_time": "2021-11-18T06:29:00.168Z"
      },
      {
        "duration": 3,
        "start_time": "2021-11-18T06:31:27.008Z"
      },
      {
        "duration": 2,
        "start_time": "2021-11-18T06:35:34.288Z"
      },
      {
        "duration": 2,
        "start_time": "2021-11-18T06:38:04.527Z"
      },
      {
        "duration": 4967,
        "start_time": "2024-08-21T17:58:57.633Z"
      },
      {
        "duration": 1481,
        "start_time": "2024-08-21T17:59:04.931Z"
      },
      {
        "duration": 390,
        "start_time": "2024-08-21T17:59:31.803Z"
      },
      {
        "duration": 4993,
        "start_time": "2024-08-21T23:50:27.180Z"
      },
      {
        "duration": 1521,
        "start_time": "2024-08-21T23:50:33.864Z"
      },
      {
        "duration": 281,
        "start_time": "2024-08-21T23:51:00.540Z"
      },
      {
        "duration": 30,
        "start_time": "2024-08-21T23:51:12.021Z"
      },
      {
        "duration": 26,
        "start_time": "2024-08-21T23:51:17.345Z"
      },
      {
        "duration": 25,
        "start_time": "2024-08-21T23:51:19.759Z"
      },
      {
        "duration": 18,
        "start_time": "2024-08-21T23:51:22.367Z"
      },
      {
        "duration": 20,
        "start_time": "2024-08-21T23:51:25.004Z"
      },
      {
        "duration": 51,
        "start_time": "2024-08-22T01:07:59.867Z"
      },
      {
        "duration": 13,
        "start_time": "2024-08-22T01:10:31.955Z"
      },
      {
        "duration": 8,
        "start_time": "2024-08-22T01:10:35.162Z"
      },
      {
        "duration": 32,
        "start_time": "2024-08-22T01:21:36.754Z"
      },
      {
        "duration": 40,
        "start_time": "2024-08-22T01:22:40.000Z"
      },
      {
        "duration": 35,
        "start_time": "2024-08-22T01:22:41.900Z"
      },
      {
        "duration": 38,
        "start_time": "2024-08-22T01:22:42.846Z"
      },
      {
        "duration": 27,
        "start_time": "2024-08-22T01:22:46.456Z"
      },
      {
        "duration": 4793,
        "start_time": "2024-08-23T15:00:00.333Z"
      },
      {
        "duration": 370,
        "start_time": "2024-08-23T15:00:10.114Z"
      },
      {
        "duration": 28,
        "start_time": "2024-08-23T15:00:12.346Z"
      },
      {
        "duration": 21,
        "start_time": "2024-08-23T15:00:15.493Z"
      },
      {
        "duration": 13,
        "start_time": "2024-08-23T15:00:16.978Z"
      },
      {
        "duration": 28,
        "start_time": "2024-08-23T15:00:18.133Z"
      },
      {
        "duration": 15,
        "start_time": "2024-08-23T15:00:20.386Z"
      },
      {
        "duration": 14,
        "start_time": "2024-08-23T15:00:34.392Z"
      },
      {
        "duration": 8,
        "start_time": "2024-08-23T15:00:36.089Z"
      },
      {
        "duration": 9,
        "start_time": "2024-08-23T15:24:21.373Z"
      },
      {
        "duration": 14,
        "start_time": "2024-08-23T15:24:23.886Z"
      },
      {
        "duration": 25,
        "start_time": "2024-08-23T15:24:37.448Z"
      },
      {
        "duration": 8,
        "start_time": "2024-08-23T15:24:39.721Z"
      },
      {
        "duration": 723,
        "start_time": "2024-08-23T15:27:04.870Z"
      },
      {
        "duration": 163,
        "start_time": "2024-08-23T15:27:54.245Z"
      },
      {
        "duration": 29,
        "start_time": "2024-08-23T15:28:34.099Z"
      },
      {
        "duration": 25,
        "start_time": "2024-08-23T15:29:57.643Z"
      },
      {
        "duration": 5,
        "start_time": "2024-08-23T15:30:05.034Z"
      },
      {
        "duration": 10,
        "start_time": "2024-08-23T15:30:29.291Z"
      },
      {
        "duration": 10,
        "start_time": "2024-08-23T15:30:34.922Z"
      },
      {
        "duration": 29,
        "start_time": "2024-08-23T15:30:45.914Z"
      },
      {
        "duration": 16,
        "start_time": "2024-08-23T15:30:56.961Z"
      },
      {
        "duration": 26,
        "start_time": "2024-08-23T15:31:15.676Z"
      },
      {
        "duration": 19,
        "start_time": "2024-08-23T15:32:45.695Z"
      },
      {
        "duration": 6,
        "start_time": "2024-08-23T15:32:47.495Z"
      },
      {
        "duration": 22,
        "start_time": "2024-08-23T15:33:48.169Z"
      },
      {
        "duration": 8,
        "start_time": "2024-08-23T15:33:49.834Z"
      },
      {
        "duration": 14,
        "start_time": "2024-08-23T15:38:00.110Z"
      },
      {
        "duration": 26,
        "start_time": "2024-08-23T15:38:05.535Z"
      },
      {
        "duration": 8,
        "start_time": "2024-08-23T15:44:21.293Z"
      },
      {
        "duration": 27,
        "start_time": "2024-08-23T15:46:46.186Z"
      },
      {
        "duration": 8,
        "start_time": "2024-08-23T15:46:52.609Z"
      },
      {
        "duration": 6,
        "start_time": "2024-08-23T17:39:15.040Z"
      },
      {
        "duration": 35,
        "start_time": "2024-08-23T17:39:20.122Z"
      },
      {
        "duration": 20,
        "start_time": "2024-08-23T18:03:39.795Z"
      },
      {
        "duration": 4,
        "start_time": "2024-08-23T18:05:01.163Z"
      },
      {
        "duration": 13,
        "start_time": "2024-08-23T18:06:53.553Z"
      },
      {
        "duration": 20,
        "start_time": "2024-08-23T18:07:13.825Z"
      },
      {
        "duration": 14,
        "start_time": "2024-08-23T18:09:16.422Z"
      },
      {
        "duration": 20,
        "start_time": "2024-08-23T18:09:19.787Z"
      },
      {
        "duration": 5042,
        "start_time": "2024-08-26T15:06:43.056Z"
      },
      {
        "duration": 362,
        "start_time": "2024-08-26T15:06:51.922Z"
      },
      {
        "duration": 27,
        "start_time": "2024-08-26T15:06:55.412Z"
      },
      {
        "duration": 58,
        "start_time": "2024-08-26T15:06:57.096Z"
      },
      {
        "duration": 19,
        "start_time": "2024-08-26T15:06:58.042Z"
      },
      {
        "duration": 157,
        "start_time": "2024-08-26T15:06:59.532Z"
      },
      {
        "duration": 21,
        "start_time": "2024-08-26T15:07:03.338Z"
      },
      {
        "duration": 65,
        "start_time": "2024-08-26T15:07:04.767Z"
      },
      {
        "duration": 18,
        "start_time": "2024-08-26T15:07:06.088Z"
      },
      {
        "duration": 167,
        "start_time": "2024-08-26T15:07:07.415Z"
      },
      {
        "duration": 13,
        "start_time": "2024-08-26T15:07:11.580Z"
      },
      {
        "duration": 31,
        "start_time": "2024-08-26T15:07:12.651Z"
      },
      {
        "duration": 14,
        "start_time": "2024-08-26T15:07:13.761Z"
      },
      {
        "duration": 33,
        "start_time": "2024-08-26T15:07:15.171Z"
      },
      {
        "duration": 10,
        "start_time": "2024-08-26T15:07:19.689Z"
      },
      {
        "duration": 11,
        "start_time": "2024-08-26T15:07:20.715Z"
      },
      {
        "duration": 15,
        "start_time": "2024-08-26T15:07:21.743Z"
      },
      {
        "duration": 10,
        "start_time": "2024-08-26T15:07:24.342Z"
      },
      {
        "duration": 399,
        "start_time": "2024-08-26T15:07:25.349Z"
      },
      {
        "duration": 11,
        "start_time": "2024-08-26T15:07:47.560Z"
      },
      {
        "duration": 149,
        "start_time": "2024-08-26T15:07:51.198Z"
      },
      {
        "duration": 16,
        "start_time": "2024-08-26T15:07:55.273Z"
      },
      {
        "duration": 10,
        "start_time": "2024-08-26T15:07:58.534Z"
      },
      {
        "duration": 10,
        "start_time": "2024-08-26T15:08:01.568Z"
      },
      {
        "duration": 9,
        "start_time": "2024-08-26T15:08:03.198Z"
      },
      {
        "duration": 13,
        "start_time": "2024-08-26T15:08:09.313Z"
      },
      {
        "duration": 4,
        "start_time": "2024-08-26T15:08:25.039Z"
      },
      {
        "duration": 56,
        "start_time": "2024-08-26T15:08:30.217Z"
      },
      {
        "duration": 5,
        "start_time": "2024-08-26T15:09:24.597Z"
      },
      {
        "duration": 10,
        "start_time": "2024-08-26T15:09:34.468Z"
      },
      {
        "duration": 14,
        "start_time": "2024-08-26T15:09:38.797Z"
      },
      {
        "duration": 5,
        "start_time": "2024-08-26T15:09:43.336Z"
      },
      {
        "duration": 6,
        "start_time": "2024-08-26T15:09:44.536Z"
      },
      {
        "duration": 4,
        "start_time": "2024-08-26T15:09:48.098Z"
      },
      {
        "duration": 24,
        "start_time": "2024-08-26T15:09:51.586Z"
      },
      {
        "duration": 30,
        "start_time": "2024-08-26T15:09:54.779Z"
      },
      {
        "duration": 6,
        "start_time": "2024-08-26T15:09:56.268Z"
      },
      {
        "duration": 4,
        "start_time": "2024-08-26T15:10:01.208Z"
      },
      {
        "duration": 14,
        "start_time": "2024-08-26T15:10:02.667Z"
      },
      {
        "duration": 27,
        "start_time": "2024-08-26T15:10:04.681Z"
      },
      {
        "duration": 19,
        "start_time": "2024-08-26T15:10:09.562Z"
      },
      {
        "duration": 5,
        "start_time": "2024-08-26T15:10:11.779Z"
      },
      {
        "duration": 21,
        "start_time": "2024-08-26T15:10:17.094Z"
      },
      {
        "duration": 14,
        "start_time": "2024-08-26T15:10:19.474Z"
      },
      {
        "duration": 19,
        "start_time": "2024-08-26T15:10:20.883Z"
      },
      {
        "duration": 21,
        "start_time": "2024-08-26T15:10:28.498Z"
      },
      {
        "duration": 7,
        "start_time": "2024-08-26T15:10:29.711Z"
      },
      {
        "duration": 6,
        "start_time": "2024-08-26T15:10:32.859Z"
      },
      {
        "duration": 187,
        "start_time": "2024-08-26T15:12:20.821Z"
      },
      {
        "duration": 26,
        "start_time": "2024-08-26T15:12:57.161Z"
      },
      {
        "duration": 12,
        "start_time": "2024-08-26T15:13:03.503Z"
      },
      {
        "duration": 5,
        "start_time": "2024-08-26T15:13:04.331Z"
      },
      {
        "duration": 4,
        "start_time": "2024-08-26T15:13:05.070Z"
      },
      {
        "duration": 61,
        "start_time": "2024-08-26T15:13:16.511Z"
      },
      {
        "duration": 4,
        "start_time": "2024-08-26T15:13:22.497Z"
      },
      {
        "duration": 12,
        "start_time": "2024-08-26T15:13:23.911Z"
      },
      {
        "duration": 880,
        "start_time": "2024-08-26T15:13:27.927Z"
      },
      {
        "duration": 157,
        "start_time": "2024-08-26T15:14:40.739Z"
      },
      {
        "duration": 140,
        "start_time": "2024-08-26T15:14:54.254Z"
      },
      {
        "duration": 26,
        "start_time": "2024-08-26T15:16:06.788Z"
      },
      {
        "duration": 26,
        "start_time": "2024-08-26T15:16:12.733Z"
      },
      {
        "duration": 688,
        "start_time": "2024-08-26T15:16:21.036Z"
      },
      {
        "duration": 60,
        "start_time": "2024-08-26T15:16:45.585Z"
      },
      {
        "duration": 157,
        "start_time": "2024-08-26T15:19:31.104Z"
      },
      {
        "duration": 155,
        "start_time": "2024-08-26T15:19:49.321Z"
      },
      {
        "duration": 27,
        "start_time": "2024-08-26T15:22:24.081Z"
      },
      {
        "duration": 13,
        "start_time": "2024-08-26T15:22:32.591Z"
      },
      {
        "duration": 33,
        "start_time": "2024-08-26T15:35:10.655Z"
      },
      {
        "duration": 27,
        "start_time": "2024-08-26T15:41:32.383Z"
      },
      {
        "duration": 8,
        "start_time": "2024-08-26T16:01:37.589Z"
      },
      {
        "duration": 20,
        "start_time": "2024-08-26T16:02:46.069Z"
      },
      {
        "duration": 267,
        "start_time": "2024-08-26T16:22:11.874Z"
      },
      {
        "duration": 62,
        "start_time": "2024-08-26T16:22:31.680Z"
      },
      {
        "duration": 62,
        "start_time": "2024-08-26T16:24:22.472Z"
      },
      {
        "duration": 20,
        "start_time": "2024-08-26T16:24:32.492Z"
      },
      {
        "duration": 20,
        "start_time": "2024-08-26T16:33:30.117Z"
      },
      {
        "duration": 20,
        "start_time": "2024-08-26T16:36:19.580Z"
      },
      {
        "duration": 8,
        "start_time": "2024-08-26T16:59:46.112Z"
      },
      {
        "duration": 4,
        "start_time": "2024-08-26T17:00:10.967Z"
      },
      {
        "duration": 15,
        "start_time": "2024-08-26T17:00:34.831Z"
      },
      {
        "duration": 726,
        "start_time": "2024-08-26T17:02:36.598Z"
      },
      {
        "duration": 259,
        "start_time": "2024-08-26T17:03:03.723Z"
      },
      {
        "duration": 258,
        "start_time": "2024-08-26T17:03:36.831Z"
      },
      {
        "duration": 255,
        "start_time": "2024-08-26T17:05:12.518Z"
      },
      {
        "duration": 256,
        "start_time": "2024-08-26T17:05:33.565Z"
      },
      {
        "duration": 5,
        "start_time": "2024-08-26T17:06:20.798Z"
      },
      {
        "duration": 293,
        "start_time": "2024-08-26T17:07:07.838Z"
      },
      {
        "duration": 143,
        "start_time": "2024-08-26T17:07:41.764Z"
      },
      {
        "duration": 6,
        "start_time": "2024-08-26T17:11:16.147Z"
      },
      {
        "duration": 8,
        "start_time": "2024-08-26T17:11:54.434Z"
      },
      {
        "duration": 5,
        "start_time": "2024-08-26T17:12:05.184Z"
      },
      {
        "duration": 137,
        "start_time": "2024-08-26T17:12:09.579Z"
      },
      {
        "duration": 2496,
        "start_time": "2024-08-26T22:06:00.070Z"
      },
      {
        "duration": 262,
        "start_time": "2024-08-26T22:06:03.475Z"
      },
      {
        "duration": 17,
        "start_time": "2024-08-26T22:06:06.685Z"
      },
      {
        "duration": 32,
        "start_time": "2024-08-26T22:06:08.440Z"
      },
      {
        "duration": 15,
        "start_time": "2024-08-26T22:06:09.590Z"
      },
      {
        "duration": 86,
        "start_time": "2024-08-26T22:06:10.690Z"
      },
      {
        "duration": 12,
        "start_time": "2024-08-26T22:06:12.845Z"
      },
      {
        "duration": 33,
        "start_time": "2024-08-26T22:06:13.807Z"
      },
      {
        "duration": 10,
        "start_time": "2024-08-26T22:06:14.490Z"
      },
      {
        "duration": 80,
        "start_time": "2024-08-26T22:06:15.346Z"
      },
      {
        "duration": 8,
        "start_time": "2024-08-26T22:06:16.823Z"
      },
      {
        "duration": 20,
        "start_time": "2024-08-26T22:06:18.229Z"
      },
      {
        "duration": 9,
        "start_time": "2024-08-26T22:06:20.398Z"
      },
      {
        "duration": 18,
        "start_time": "2024-08-26T22:06:21.009Z"
      },
      {
        "duration": 5,
        "start_time": "2024-08-26T22:06:22.021Z"
      },
      {
        "duration": 5,
        "start_time": "2024-08-26T22:06:23.516Z"
      },
      {
        "duration": 9,
        "start_time": "2024-08-26T22:06:24.496Z"
      },
      {
        "duration": 7,
        "start_time": "2024-08-26T22:06:25.753Z"
      },
      {
        "duration": 5,
        "start_time": "2024-08-26T22:06:26.411Z"
      },
      {
        "duration": 88,
        "start_time": "2024-08-26T22:06:32.038Z"
      },
      {
        "duration": 9,
        "start_time": "2024-08-26T22:06:35.468Z"
      },
      {
        "duration": 5,
        "start_time": "2024-08-26T22:06:37.737Z"
      },
      {
        "duration": 5,
        "start_time": "2024-08-26T22:06:39.604Z"
      },
      {
        "duration": 7,
        "start_time": "2024-08-26T22:06:40.270Z"
      },
      {
        "duration": 3,
        "start_time": "2024-08-26T22:06:42.789Z"
      },
      {
        "duration": 3,
        "start_time": "2024-08-26T22:06:47.297Z"
      },
      {
        "duration": 5,
        "start_time": "2024-08-26T22:06:48.615Z"
      },
      {
        "duration": 10,
        "start_time": "2024-08-26T22:06:50.943Z"
      },
      {
        "duration": 3,
        "start_time": "2024-08-26T22:06:53.110Z"
      },
      {
        "duration": 4,
        "start_time": "2024-08-26T22:06:54.068Z"
      },
      {
        "duration": 3,
        "start_time": "2024-08-26T22:07:00.876Z"
      },
      {
        "duration": 16,
        "start_time": "2024-08-26T22:07:03.109Z"
      },
      {
        "duration": 5,
        "start_time": "2024-08-26T22:07:11.130Z"
      },
      {
        "duration": 20,
        "start_time": "2024-08-26T22:07:13.743Z"
      },
      {
        "duration": 3,
        "start_time": "2024-08-26T22:07:14.445Z"
      },
      {
        "duration": 3,
        "start_time": "2024-08-26T22:07:16.346Z"
      },
      {
        "duration": 12,
        "start_time": "2024-08-26T22:07:16.921Z"
      },
      {
        "duration": 17,
        "start_time": "2024-08-26T22:07:17.700Z"
      },
      {
        "duration": 12,
        "start_time": "2024-08-26T22:07:20.493Z"
      },
      {
        "duration": 6,
        "start_time": "2024-08-26T22:07:21.040Z"
      },
      {
        "duration": 11,
        "start_time": "2024-08-26T22:07:24.049Z"
      },
      {
        "duration": 8,
        "start_time": "2024-08-26T22:07:25.510Z"
      },
      {
        "duration": 11,
        "start_time": "2024-08-26T22:07:26.655Z"
      },
      {
        "duration": 15,
        "start_time": "2024-08-26T22:07:29.872Z"
      },
      {
        "duration": 5,
        "start_time": "2024-08-26T22:07:32.490Z"
      },
      {
        "duration": 15,
        "start_time": "2024-08-26T22:07:34.891Z"
      },
      {
        "duration": 7,
        "start_time": "2024-08-26T22:07:37.153Z"
      },
      {
        "duration": 3,
        "start_time": "2024-08-26T22:07:38.732Z"
      },
      {
        "duration": 3,
        "start_time": "2024-08-26T22:07:39.073Z"
      },
      {
        "duration": 11,
        "start_time": "2024-08-26T22:07:40.891Z"
      },
      {
        "duration": 31,
        "start_time": "2024-08-26T22:07:44.599Z"
      },
      {
        "duration": 3,
        "start_time": "2024-08-26T22:07:46.329Z"
      },
      {
        "duration": 7,
        "start_time": "2024-08-26T22:07:46.702Z"
      },
      {
        "duration": 83,
        "start_time": "2024-08-26T22:07:47.827Z"
      },
      {
        "duration": 83,
        "start_time": "2024-08-26T22:07:50.769Z"
      },
      {
        "duration": 15,
        "start_time": "2024-08-26T22:07:52.788Z"
      },
      {
        "duration": 9,
        "start_time": "2024-08-26T22:07:54.191Z"
      },
      {
        "duration": 14,
        "start_time": "2024-08-26T22:07:56.991Z"
      },
      {
        "duration": 12,
        "start_time": "2024-08-26T22:07:58.882Z"
      },
      {
        "duration": 10,
        "start_time": "2024-08-26T22:08:01.842Z"
      },
      {
        "duration": 3,
        "start_time": "2024-08-26T22:08:02.986Z"
      },
      {
        "duration": 4,
        "start_time": "2024-08-26T22:19:27.210Z"
      },
      {
        "duration": 4,
        "start_time": "2024-08-26T22:21:14.355Z"
      },
      {
        "duration": 818,
        "start_time": "2024-08-26T22:21:19.599Z"
      },
      {
        "duration": 3,
        "start_time": "2024-08-26T22:21:58.153Z"
      },
      {
        "duration": 3,
        "start_time": "2024-08-26T22:33:29.175Z"
      },
      {
        "duration": 34,
        "start_time": "2024-08-26T22:34:20.330Z"
      },
      {
        "duration": 16,
        "start_time": "2024-08-26T22:34:54.151Z"
      },
      {
        "duration": 66,
        "start_time": "2024-08-26T22:35:25.859Z"
      },
      {
        "duration": 3,
        "start_time": "2024-08-26T22:36:02.949Z"
      },
      {
        "duration": 3,
        "start_time": "2024-08-26T22:36:08.198Z"
      },
      {
        "duration": 75,
        "start_time": "2024-08-26T22:41:28.131Z"
      },
      {
        "duration": 142,
        "start_time": "2024-08-26T22:52:50.796Z"
      },
      {
        "duration": 28,
        "start_time": "2024-08-26T22:58:17.828Z"
      },
      {
        "duration": 32,
        "start_time": "2024-08-26T22:58:41.440Z"
      },
      {
        "duration": 6,
        "start_time": "2024-08-26T23:25:32.079Z"
      },
      {
        "duration": 4,
        "start_time": "2024-08-26T23:25:50.524Z"
      },
      {
        "duration": 4,
        "start_time": "2024-08-26T23:26:19.640Z"
      },
      {
        "duration": 40,
        "start_time": "2024-08-26T23:46:13.954Z"
      },
      {
        "duration": 786,
        "start_time": "2024-08-26T23:53:15.335Z"
      },
      {
        "duration": 158,
        "start_time": "2024-08-26T23:53:20.269Z"
      },
      {
        "duration": 20,
        "start_time": "2024-08-26T23:53:23.477Z"
      },
      {
        "duration": 33,
        "start_time": "2024-08-26T23:53:24.708Z"
      },
      {
        "duration": 14,
        "start_time": "2024-08-26T23:53:25.556Z"
      },
      {
        "duration": 83,
        "start_time": "2024-08-26T23:53:26.800Z"
      },
      {
        "duration": 15,
        "start_time": "2024-08-26T23:53:28.137Z"
      },
      {
        "duration": 36,
        "start_time": "2024-08-26T23:53:29.423Z"
      },
      {
        "duration": 10,
        "start_time": "2024-08-26T23:53:30.085Z"
      },
      {
        "duration": 81,
        "start_time": "2024-08-26T23:53:31.092Z"
      },
      {
        "duration": 8,
        "start_time": "2024-08-26T23:53:33.038Z"
      },
      {
        "duration": 17,
        "start_time": "2024-08-26T23:53:33.697Z"
      },
      {
        "duration": 9,
        "start_time": "2024-08-26T23:53:34.371Z"
      },
      {
        "duration": 18,
        "start_time": "2024-08-26T23:53:35.460Z"
      },
      {
        "duration": 5,
        "start_time": "2024-08-26T23:53:36.720Z"
      },
      {
        "duration": 5,
        "start_time": "2024-08-26T23:53:37.802Z"
      },
      {
        "duration": 10,
        "start_time": "2024-08-26T23:53:38.945Z"
      },
      {
        "duration": 6,
        "start_time": "2024-08-26T23:53:41.220Z"
      },
      {
        "duration": 5,
        "start_time": "2024-08-26T23:53:41.363Z"
      },
      {
        "duration": 71,
        "start_time": "2024-08-26T23:53:42.235Z"
      },
      {
        "duration": 9,
        "start_time": "2024-08-26T23:53:45.256Z"
      },
      {
        "duration": 4,
        "start_time": "2024-08-26T23:53:46.816Z"
      },
      {
        "duration": 5,
        "start_time": "2024-08-26T23:53:47.529Z"
      },
      {
        "duration": 5,
        "start_time": "2024-08-26T23:53:48.209Z"
      },
      {
        "duration": 3,
        "start_time": "2024-08-26T23:53:51.185Z"
      },
      {
        "duration": 4,
        "start_time": "2024-08-26T23:53:52.934Z"
      },
      {
        "duration": 5,
        "start_time": "2024-08-26T23:53:54.700Z"
      },
      {
        "duration": 8,
        "start_time": "2024-08-26T23:53:56.278Z"
      },
      {
        "duration": 3,
        "start_time": "2024-08-26T23:53:59.126Z"
      },
      {
        "duration": 4,
        "start_time": "2024-08-26T23:53:59.621Z"
      },
      {
        "duration": 3,
        "start_time": "2024-08-26T23:54:01.444Z"
      },
      {
        "duration": 17,
        "start_time": "2024-08-26T23:54:04.227Z"
      },
      {
        "duration": 5,
        "start_time": "2024-08-26T23:54:06.488Z"
      },
      {
        "duration": 17,
        "start_time": "2024-08-26T23:54:09.621Z"
      },
      {
        "duration": 4,
        "start_time": "2024-08-26T23:54:10.698Z"
      },
      {
        "duration": 3,
        "start_time": "2024-08-26T23:54:12.617Z"
      },
      {
        "duration": 8,
        "start_time": "2024-08-26T23:54:13.090Z"
      },
      {
        "duration": 16,
        "start_time": "2024-08-26T23:54:14.073Z"
      },
      {
        "duration": 12,
        "start_time": "2024-08-26T23:54:16.972Z"
      },
      {
        "duration": 5,
        "start_time": "2024-08-26T23:54:19.179Z"
      },
      {
        "duration": 11,
        "start_time": "2024-08-26T23:54:22.270Z"
      },
      {
        "duration": 8,
        "start_time": "2024-08-26T23:54:23.751Z"
      },
      {
        "duration": 12,
        "start_time": "2024-08-26T23:54:25.950Z"
      },
      {
        "duration": 13,
        "start_time": "2024-08-26T23:54:27.820Z"
      },
      {
        "duration": 7,
        "start_time": "2024-08-26T23:54:31.096Z"
      },
      {
        "duration": 14,
        "start_time": "2024-08-26T23:54:33.518Z"
      },
      {
        "duration": 7,
        "start_time": "2024-08-26T23:54:35.977Z"
      },
      {
        "duration": 4,
        "start_time": "2024-08-26T23:54:37.086Z"
      },
      {
        "duration": 3,
        "start_time": "2024-08-26T23:54:38.175Z"
      },
      {
        "duration": 11,
        "start_time": "2024-08-26T23:54:40.578Z"
      },
      {
        "duration": 79,
        "start_time": "2024-08-26T23:54:44.899Z"
      },
      {
        "duration": 3,
        "start_time": "2024-08-26T23:54:47.120Z"
      },
      {
        "duration": 7,
        "start_time": "2024-08-26T23:54:47.798Z"
      },
      {
        "duration": 81,
        "start_time": "2024-08-26T23:54:49.743Z"
      },
      {
        "duration": 82,
        "start_time": "2024-08-26T23:54:53.040Z"
      },
      {
        "duration": 17,
        "start_time": "2024-08-26T23:54:56.078Z"
      },
      {
        "duration": 14,
        "start_time": "2024-08-26T23:55:15.104Z"
      },
      {
        "duration": 12,
        "start_time": "2024-08-26T23:55:17.848Z"
      },
      {
        "duration": 11,
        "start_time": "2024-08-26T23:55:21.615Z"
      },
      {
        "duration": 3,
        "start_time": "2024-08-26T23:55:25.390Z"
      },
      {
        "duration": 3,
        "start_time": "2024-08-26T23:55:29.760Z"
      },
      {
        "duration": 733,
        "start_time": "2024-08-26T23:55:33.378Z"
      },
      {
        "duration": 805,
        "start_time": "2024-08-27T00:05:01.964Z"
      },
      {
        "duration": 148,
        "start_time": "2024-08-27T00:05:04.846Z"
      },
      {
        "duration": 21,
        "start_time": "2024-08-27T00:05:06.736Z"
      },
      {
        "duration": 31,
        "start_time": "2024-08-27T00:05:10.020Z"
      },
      {
        "duration": 13,
        "start_time": "2024-08-27T00:05:12.681Z"
      },
      {
        "duration": 87,
        "start_time": "2024-08-27T00:05:13.751Z"
      },
      {
        "duration": 14,
        "start_time": "2024-08-27T00:05:16.216Z"
      },
      {
        "duration": 33,
        "start_time": "2024-08-27T00:05:18.068Z"
      },
      {
        "duration": 15,
        "start_time": "2024-08-27T00:05:19.513Z"
      },
      {
        "duration": 79,
        "start_time": "2024-08-27T00:05:20.047Z"
      },
      {
        "duration": 8,
        "start_time": "2024-08-27T00:05:22.159Z"
      },
      {
        "duration": 17,
        "start_time": "2024-08-27T00:05:23.128Z"
      },
      {
        "duration": 9,
        "start_time": "2024-08-27T00:05:23.874Z"
      },
      {
        "duration": 17,
        "start_time": "2024-08-27T00:05:25.248Z"
      },
      {
        "duration": 7,
        "start_time": "2024-08-27T00:05:26.005Z"
      },
      {
        "duration": 6,
        "start_time": "2024-08-27T00:05:27.890Z"
      },
      {
        "duration": 11,
        "start_time": "2024-08-27T00:05:29.560Z"
      },
      {
        "duration": 9,
        "start_time": "2024-08-27T00:05:30.767Z"
      },
      {
        "duration": 5,
        "start_time": "2024-08-27T00:05:31.803Z"
      },
      {
        "duration": 71,
        "start_time": "2024-08-27T00:05:32.712Z"
      },
      {
        "duration": 9,
        "start_time": "2024-08-27T00:05:46.270Z"
      },
      {
        "duration": 5,
        "start_time": "2024-08-27T00:05:48.870Z"
      },
      {
        "duration": 5,
        "start_time": "2024-08-27T00:05:50.771Z"
      },
      {
        "duration": 6,
        "start_time": "2024-08-27T00:05:51.528Z"
      },
      {
        "duration": 3,
        "start_time": "2024-08-27T00:05:54.300Z"
      },
      {
        "duration": 3,
        "start_time": "2024-08-27T00:05:56.120Z"
      },
      {
        "duration": 7,
        "start_time": "2024-08-27T00:05:57.861Z"
      },
      {
        "duration": 8,
        "start_time": "2024-08-27T00:05:59.939Z"
      },
      {
        "duration": 4,
        "start_time": "2024-08-27T00:06:02.707Z"
      },
      {
        "duration": 4,
        "start_time": "2024-08-27T00:06:03.602Z"
      },
      {
        "duration": 3,
        "start_time": "2024-08-27T00:06:05.282Z"
      },
      {
        "duration": 16,
        "start_time": "2024-08-27T00:06:07.902Z"
      },
      {
        "duration": 5,
        "start_time": "2024-08-27T00:06:10.020Z"
      },
      {
        "duration": 17,
        "start_time": "2024-08-27T00:06:12.650Z"
      },
      {
        "duration": 5,
        "start_time": "2024-08-27T00:06:13.321Z"
      },
      {
        "duration": 4,
        "start_time": "2024-08-27T00:06:14.654Z"
      },
      {
        "duration": 8,
        "start_time": "2024-08-27T00:06:15.356Z"
      },
      {
        "duration": 17,
        "start_time": "2024-08-27T00:06:16.118Z"
      },
      {
        "duration": 15,
        "start_time": "2024-08-27T00:06:18.551Z"
      },
      {
        "duration": 5,
        "start_time": "2024-08-27T00:06:19.991Z"
      },
      {
        "duration": 12,
        "start_time": "2024-08-27T00:06:22.421Z"
      },
      {
        "duration": 9,
        "start_time": "2024-08-27T00:06:24.920Z"
      },
      {
        "duration": 12,
        "start_time": "2024-08-27T00:06:26.193Z"
      },
      {
        "duration": 18,
        "start_time": "2024-08-27T00:06:28.347Z"
      },
      {
        "duration": 5,
        "start_time": "2024-08-27T00:06:30.029Z"
      },
      {
        "duration": 13,
        "start_time": "2024-08-27T00:06:32.184Z"
      },
      {
        "duration": 7,
        "start_time": "2024-08-27T00:06:34.318Z"
      },
      {
        "duration": 4,
        "start_time": "2024-08-27T00:06:35.214Z"
      },
      {
        "duration": 3,
        "start_time": "2024-08-27T00:06:35.707Z"
      },
      {
        "duration": 12,
        "start_time": "2024-08-27T00:06:37.834Z"
      },
      {
        "duration": 80,
        "start_time": "2024-08-27T00:06:42.001Z"
      },
      {
        "duration": 3,
        "start_time": "2024-08-27T00:06:42.895Z"
      },
      {
        "duration": 8,
        "start_time": "2024-08-27T00:06:43.664Z"
      },
      {
        "duration": 83,
        "start_time": "2024-08-27T00:06:50.497Z"
      },
      {
        "duration": 19,
        "start_time": "2024-08-27T00:06:53.298Z"
      },
      {
        "duration": 14,
        "start_time": "2024-08-27T00:06:55.669Z"
      },
      {
        "duration": 3,
        "start_time": "2024-08-27T00:06:57.130Z"
      },
      {
        "duration": 540,
        "start_time": "2024-08-27T00:07:14.253Z"
      },
      {
        "duration": 778,
        "start_time": "2024-08-27T00:08:59.284Z"
      },
      {
        "duration": 159,
        "start_time": "2024-08-27T00:09:00.370Z"
      },
      {
        "duration": 16,
        "start_time": "2024-08-27T00:09:02.135Z"
      },
      {
        "duration": 31,
        "start_time": "2024-08-27T00:09:04.305Z"
      },
      {
        "duration": 15,
        "start_time": "2024-08-27T00:09:04.637Z"
      },
      {
        "duration": 84,
        "start_time": "2024-08-27T00:09:05.601Z"
      },
      {
        "duration": 13,
        "start_time": "2024-08-27T00:09:08.212Z"
      },
      {
        "duration": 34,
        "start_time": "2024-08-27T00:09:08.825Z"
      },
      {
        "duration": 11,
        "start_time": "2024-08-27T00:09:09.460Z"
      },
      {
        "duration": 80,
        "start_time": "2024-08-27T00:09:10.148Z"
      },
      {
        "duration": 8,
        "start_time": "2024-08-27T00:09:12.237Z"
      },
      {
        "duration": 15,
        "start_time": "2024-08-27T00:09:13.082Z"
      },
      {
        "duration": 9,
        "start_time": "2024-08-27T00:09:13.823Z"
      },
      {
        "duration": 17,
        "start_time": "2024-08-27T00:09:16.456Z"
      },
      {
        "duration": 5,
        "start_time": "2024-08-27T00:09:17.432Z"
      },
      {
        "duration": 5,
        "start_time": "2024-08-27T00:09:17.780Z"
      },
      {
        "duration": 10,
        "start_time": "2024-08-27T00:09:18.745Z"
      },
      {
        "duration": 6,
        "start_time": "2024-08-27T00:09:21.834Z"
      },
      {
        "duration": 6,
        "start_time": "2024-08-27T00:09:22.264Z"
      },
      {
        "duration": 70,
        "start_time": "2024-08-27T00:09:23.019Z"
      },
      {
        "duration": 8,
        "start_time": "2024-08-27T00:09:25.602Z"
      },
      {
        "duration": 6,
        "start_time": "2024-08-27T00:09:27.960Z"
      },
      {
        "duration": 5,
        "start_time": "2024-08-27T00:09:28.530Z"
      },
      {
        "duration": 6,
        "start_time": "2024-08-27T00:09:29.138Z"
      },
      {
        "duration": 3,
        "start_time": "2024-08-27T00:09:32.385Z"
      },
      {
        "duration": 3,
        "start_time": "2024-08-27T00:09:33.526Z"
      },
      {
        "duration": 5,
        "start_time": "2024-08-27T00:09:39.345Z"
      },
      {
        "duration": 8,
        "start_time": "2024-08-27T00:09:39.999Z"
      },
      {
        "duration": 4,
        "start_time": "2024-08-27T00:09:43.160Z"
      },
      {
        "duration": 5,
        "start_time": "2024-08-27T00:09:43.706Z"
      },
      {
        "duration": 3,
        "start_time": "2024-08-27T00:09:44.910Z"
      },
      {
        "duration": 15,
        "start_time": "2024-08-27T00:09:48.557Z"
      },
      {
        "duration": 5,
        "start_time": "2024-08-27T00:09:49.092Z"
      },
      {
        "duration": 18,
        "start_time": "2024-08-27T00:09:52.277Z"
      },
      {
        "duration": 4,
        "start_time": "2024-08-27T00:09:52.764Z"
      },
      {
        "duration": 3,
        "start_time": "2024-08-27T00:09:54.795Z"
      },
      {
        "duration": 7,
        "start_time": "2024-08-27T00:09:55.162Z"
      },
      {
        "duration": 19,
        "start_time": "2024-08-27T00:09:56.525Z"
      },
      {
        "duration": 12,
        "start_time": "2024-08-27T00:09:58.572Z"
      },
      {
        "duration": 4,
        "start_time": "2024-08-27T00:09:59.430Z"
      },
      {
        "duration": 10,
        "start_time": "2024-08-27T00:10:02.271Z"
      },
      {
        "duration": 8,
        "start_time": "2024-08-27T00:10:04.097Z"
      },
      {
        "duration": 13,
        "start_time": "2024-08-27T00:10:05.188Z"
      },
      {
        "duration": 13,
        "start_time": "2024-08-27T00:10:07.125Z"
      },
      {
        "duration": 5,
        "start_time": "2024-08-27T00:10:08.386Z"
      },
      {
        "duration": 14,
        "start_time": "2024-08-27T00:10:10.574Z"
      },
      {
        "duration": 6,
        "start_time": "2024-08-27T00:10:12.249Z"
      },
      {
        "duration": 4,
        "start_time": "2024-08-27T00:10:12.688Z"
      },
      {
        "duration": 3,
        "start_time": "2024-08-27T00:10:13.296Z"
      },
      {
        "duration": 10,
        "start_time": "2024-08-27T00:10:15.046Z"
      },
      {
        "duration": 71,
        "start_time": "2024-08-27T00:10:18.055Z"
      },
      {
        "duration": 2,
        "start_time": "2024-08-27T00:10:18.641Z"
      },
      {
        "duration": 7,
        "start_time": "2024-08-27T00:10:19.047Z"
      },
      {
        "duration": 83,
        "start_time": "2024-08-27T00:10:19.882Z"
      },
      {
        "duration": 81,
        "start_time": "2024-08-27T00:10:22.076Z"
      },
      {
        "duration": 18,
        "start_time": "2024-08-27T00:10:24.809Z"
      },
      {
        "duration": 14,
        "start_time": "2024-08-27T00:10:28.887Z"
      },
      {
        "duration": 14,
        "start_time": "2024-08-27T00:13:34.578Z"
      },
      {
        "duration": 19,
        "start_time": "2024-08-27T00:13:53.052Z"
      },
      {
        "duration": 604,
        "start_time": "2024-08-27T00:14:59.972Z"
      },
      {
        "duration": 10,
        "start_time": "2024-08-27T00:16:09.483Z"
      },
      {
        "duration": 24,
        "start_time": "2024-08-27T00:22:34.165Z"
      },
      {
        "duration": 13,
        "start_time": "2024-08-27T00:23:05.313Z"
      }
    ],
    "colab": {
      "provenance": [],
      "include_colab_link": true
    },
    "kernelspec": {
      "display_name": "Python 3 (ipykernel)",
      "language": "python",
      "name": "python3"
    },
    "language_info": {
      "codemirror_mode": {
        "name": "ipython",
        "version": 3
      },
      "file_extension": ".py",
      "mimetype": "text/x-python",
      "name": "python",
      "nbconvert_exporter": "python",
      "pygments_lexer": "ipython3",
      "version": "3.9.19"
    },
    "toc": {
      "base_numbering": 1,
      "nav_menu": {},
      "number_sections": true,
      "sideBar": true,
      "skip_h1_title": false,
      "title_cell": "Table of Contents",
      "title_sidebar": "Contents",
      "toc_cell": false,
      "toc_position": {},
      "toc_section_display": true,
      "toc_window_display": true
    }
  },
  "nbformat": 4,
  "nbformat_minor": 0
}