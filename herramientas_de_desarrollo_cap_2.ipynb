{
  "nbformat": 4,
  "nbformat_minor": 0,
  "metadata": {
    "colab": {
      "provenance": [],
      "authorship_tag": "ABX9TyODekTZ6ommnLIXRyhq7uDE",
      "include_colab_link": true
    },
    "kernelspec": {
      "name": "python3",
      "display_name": "Python 3"
    },
    "language_info": {
      "name": "python"
    }
  },
  "cells": [
    {
      "cell_type": "markdown",
      "metadata": {
        "id": "view-in-github",
        "colab_type": "text"
      },
      "source": [
        "<a href=\"https://colab.research.google.com/github/PANICDV/My-New-Repo/blob/main/herramientas_de_desarrollo_cap_2.ipynb\" target=\"_parent\"><img src=\"https://colab.research.google.com/assets/colab-badge.svg\" alt=\"Open In Colab\"/></a>"
      ]
    },
    {
      "cell_type": "code",
      "source": [
        "!pip install cartopy"
      ],
      "metadata": {
        "colab": {
          "base_uri": "https://localhost:8080/"
        },
        "id": "9DufJ8-qXLTW",
        "outputId": "a8248fa6-7d71-4882-dfc5-5a34a55e6432"
      },
      "execution_count": null,
      "outputs": [
        {
          "output_type": "stream",
          "name": "stdout",
          "text": [
            "Collecting cartopy\n",
            "  Downloading Cartopy-0.23.0-cp310-cp310-manylinux_2_17_x86_64.manylinux2014_x86_64.whl.metadata (8.0 kB)\n",
            "Requirement already satisfied: numpy>=1.21 in /usr/local/lib/python3.10/dist-packages (from cartopy) (1.26.4)\n",
            "Requirement already satisfied: matplotlib>=3.5 in /usr/local/lib/python3.10/dist-packages (from cartopy) (3.7.1)\n",
            "Requirement already satisfied: shapely>=1.7 in /usr/local/lib/python3.10/dist-packages (from cartopy) (2.0.6)\n",
            "Requirement already satisfied: packaging>=20 in /usr/local/lib/python3.10/dist-packages (from cartopy) (24.1)\n",
            "Requirement already satisfied: pyshp>=2.3 in /usr/local/lib/python3.10/dist-packages (from cartopy) (2.3.1)\n",
            "Requirement already satisfied: pyproj>=3.3.1 in /usr/local/lib/python3.10/dist-packages (from cartopy) (3.6.1)\n",
            "Requirement already satisfied: contourpy>=1.0.1 in /usr/local/lib/python3.10/dist-packages (from matplotlib>=3.5->cartopy) (1.3.0)\n",
            "Requirement already satisfied: cycler>=0.10 in /usr/local/lib/python3.10/dist-packages (from matplotlib>=3.5->cartopy) (0.12.1)\n",
            "Requirement already satisfied: fonttools>=4.22.0 in /usr/local/lib/python3.10/dist-packages (from matplotlib>=3.5->cartopy) (4.53.1)\n",
            "Requirement already satisfied: kiwisolver>=1.0.1 in /usr/local/lib/python3.10/dist-packages (from matplotlib>=3.5->cartopy) (1.4.5)\n",
            "Requirement already satisfied: pillow>=6.2.0 in /usr/local/lib/python3.10/dist-packages (from matplotlib>=3.5->cartopy) (9.4.0)\n",
            "Requirement already satisfied: pyparsing>=2.3.1 in /usr/local/lib/python3.10/dist-packages (from matplotlib>=3.5->cartopy) (3.1.4)\n",
            "Requirement already satisfied: python-dateutil>=2.7 in /usr/local/lib/python3.10/dist-packages (from matplotlib>=3.5->cartopy) (2.8.2)\n",
            "Requirement already satisfied: certifi in /usr/local/lib/python3.10/dist-packages (from pyproj>=3.3.1->cartopy) (2024.8.30)\n",
            "Requirement already satisfied: six>=1.5 in /usr/local/lib/python3.10/dist-packages (from python-dateutil>=2.7->matplotlib>=3.5->cartopy) (1.16.0)\n",
            "Downloading Cartopy-0.23.0-cp310-cp310-manylinux_2_17_x86_64.manylinux2014_x86_64.whl (11.6 MB)\n",
            "\u001b[2K   \u001b[90m━━━━━━━━━━━━━━━━━━━━━━━━━━━━━━━━━━━━━━━━\u001b[0m \u001b[32m11.6/11.6 MB\u001b[0m \u001b[31m35.6 MB/s\u001b[0m eta \u001b[36m0:00:00\u001b[0m\n",
            "\u001b[?25hInstalling collected packages: cartopy\n",
            "Successfully installed cartopy-0.23.0\n"
          ]
        }
      ]
    },
    {
      "cell_type": "markdown",
      "source": [],
      "metadata": {
        "id": "NACulUxh3oBN"
      }
    },
    {
      "cell_type": "code",
      "source": [
        "pip install --user package_name"
      ],
      "metadata": {
        "colab": {
          "base_uri": "https://localhost:8080/"
        },
        "id": "tuACCisCYoh2",
        "outputId": "b0b298ea-c704-4d9b-ec25-6cbff73d0fb6"
      },
      "execution_count": null,
      "outputs": [
        {
          "output_type": "stream",
          "name": "stdout",
          "text": [
            "Collecting package_name\n",
            "  Downloading package_name-0.1.tar.gz (782 bytes)\n",
            "  Preparing metadata (setup.py) ... \u001b[?25l\u001b[?25hdone\n",
            "Building wheels for collected packages: package_name\n",
            "  Building wheel for package_name (setup.py) ... \u001b[?25l\u001b[?25hdone\n",
            "  Created wheel for package_name: filename=package_name-0.1-py3-none-any.whl size=1229 sha256=44f0bc39842e22d43b5d10703e6bd731ce4e3d017becb2105995b573300805b8\n",
            "  Stored in directory: /root/.cache/pip/wheels/a3/36/c4/98d928f30290fb88555f848f73093f02b67c984a45c56c3e97\n",
            "Successfully built package_name\n",
            "Installing collected packages: package_name\n",
            "Successfully installed package_name-0.1\n"
          ]
        }
      ]
    },
    {
      "cell_type": "code",
      "source": [
        "pip install --user Pillow"
      ],
      "metadata": {
        "colab": {
          "base_uri": "https://localhost:8080/"
        },
        "id": "mF5agB6Vj8ue",
        "outputId": "fbf1dc84-f874-40a3-abaa-1bf0473c1cf0"
      },
      "execution_count": 1,
      "outputs": [
        {
          "output_type": "stream",
          "name": "stdout",
          "text": [
            "Requirement already satisfied: Pillow in /usr/local/lib/python3.10/dist-packages (9.4.0)\n"
          ]
        }
      ]
    },
    {
      "cell_type": "code",
      "source": [
        "my_list = ['coat', 'goat']\n",
        "my_list.append('boat')\n",
        "print(my_list)"
      ],
      "metadata": {
        "colab": {
          "base_uri": "https://localhost:8080/"
        },
        "id": "5_Z5W9PV4BGG",
        "outputId": "8d12b4f8-fc8c-45c1-d79d-c2d70c70d5b2"
      },
      "execution_count": 8,
      "outputs": [
        {
          "output_type": "stream",
          "name": "stdout",
          "text": [
            "['coat', 'goat', 'boat']\n"
          ]
        }
      ]
    },
    {
      "cell_type": "code",
      "source": [
        "mage = {'health': 50, 'damage': 10, 'knowledge': 95}\n",
        "knight = {'health': 100, 'damage': 25, 'knowledge': 20}\n",
        "\n",
        "arthur = knight.copy() # hacer una copia del diccionario 'knight' original\n",
        "arthur['name'] = 'Arthur' # reemplazar el nombre dentro de la copia\n",
        "\n",
        "richard = knight.copy() # hacer otra copia del diccionario 'knight' original\n",
        "richard['name'] = 'Richard' # reemplazar el nombre dentro de la copia\n",
        "\n",
        "def heal(character): # crear la función que cambia la salud\n",
        "    character['health'] += 20\n",
        "\n",
        "heal(richard) # llamar a la función para cambiar la salud de Richard"
      ],
      "metadata": {
        "id": "nbOH9Cm04TXY"
      },
      "execution_count": 9,
      "outputs": []
    },
    {
      "cell_type": "code",
      "source": [
        "class Knight: # crear la clase Knight\n",
        "    def __init__(self, name):\n",
        "        # establecer parámetros\n",
        "        self.health = 100\n",
        "        self.damage = 25\n",
        "        self.knowledge = 20\n",
        "        self.name = name\n",
        "\n",
        "arthur = Knight('Arthur')\n",
        "richard = Knight('Richard')"
      ],
      "metadata": {
        "id": "LlFO7RYx4lyO"
      },
      "execution_count": 10,
      "outputs": []
    },
    {
      "cell_type": "code",
      "source": [
        "class Knight:\n",
        "    def __init__(self, name):\n",
        "        self.health = 100\n",
        "        self.damage = 25\n",
        "        self.knowledge = 20\n",
        "        self.name = name\n",
        "\n",
        "arthur = Knight('Arthur')\n",
        "\n",
        "print(arthur.health)\n",
        "print(arthur.damage)\n",
        "print(arthur.knowledge)\n",
        "print(arthur.name)"
      ],
      "metadata": {
        "colab": {
          "base_uri": "https://localhost:8080/"
        },
        "id": "w7O8UBzx87HB",
        "outputId": "e72a936e-ce98-4ba5-fb47-669809b86c6a"
      },
      "execution_count": 11,
      "outputs": [
        {
          "output_type": "stream",
          "name": "stdout",
          "text": [
            "100\n",
            "25\n",
            "20\n",
            "Arthur\n"
          ]
        }
      ]
    },
    {
      "cell_type": "code",
      "source": [
        "class Knight:\n",
        "    def __init__(self, name):\n",
        "        self.health = 100\n",
        "        self.damage = 25\n",
        "        self.knowledge = 20\n",
        "        self.name = name\n",
        "\n",
        "    def heal(self):\n",
        "        self.health += 20\n",
        "\n",
        "    def learn(self):\n",
        "        self.knowledge += 5"
      ],
      "metadata": {
        "id": "m7qhGgssdB5Q"
      },
      "execution_count": 1,
      "outputs": []
    },
    {
      "cell_type": "code",
      "source": [
        "class Knight:\n",
        "    def __init__(self, name):\n",
        "        self.health = 100\n",
        "        self.damage = 25\n",
        "        self.knowledge = 20\n",
        "        self.name = name\n",
        "\n",
        "    def heal(self):\n",
        "        self.health += 20\n",
        "\n",
        "    def learn(self):\n",
        "        self.knowledge += 5\n",
        "\n",
        "arthur = Knight('Arthur')\n",
        "\n",
        "arthur.heal()\n",
        "arthur.learn()\n",
        "\n",
        "print(arthur.health)\n",
        "print(arthur.knowledge)"
      ],
      "metadata": {
        "colab": {
          "base_uri": "https://localhost:8080/"
        },
        "id": "MV8RSEvqdXmd",
        "outputId": "6dd8507b-537c-401b-fe5e-8d3779b1cc83"
      },
      "execution_count": 2,
      "outputs": [
        {
          "output_type": "stream",
          "name": "stdout",
          "text": [
            "120\n",
            "25\n"
          ]
        }
      ]
    },
    {
      "cell_type": "code",
      "source": [
        "class Knight:\n",
        "    def __init__(self, name):\n",
        "        self.health = 100\n",
        "        self.damage = 25\n",
        "        self.knowledge = 20\n",
        "        self.name = name\n",
        "\n",
        "    def heal(self, amount):\n",
        "        self.health += amount\n",
        "\n",
        "    def learn(self, amount):\n",
        "        self.knowledge += amount\n",
        "\n",
        "arthur = Knight('Arthur')\n",
        "\n",
        "arthur.heal(10)\n",
        "arthur.learn(2)\n",
        "\n",
        "print(arthur.health)\n",
        "print(arthur.knowledge)"
      ],
      "metadata": {
        "colab": {
          "base_uri": "https://localhost:8080/"
        },
        "id": "1fHyb_9SfuiE",
        "outputId": "9db93147-a546-4f0d-ac51-3ff8b9bee811"
      },
      "execution_count": 3,
      "outputs": [
        {
          "output_type": "stream",
          "name": "stdout",
          "text": [
            "110\n",
            "22\n"
          ]
        }
      ]
    },
    {
      "cell_type": "code",
      "source": [
        "class Stock:\n",
        "    def __init__(self, ticker, amount, price):\n",
        "        self.ticker = ticker\n",
        "        self.amount = amount\n",
        "        self.price = price\n",
        "        self.total = self.price * self.amount\n",
        "\n",
        "    def buy(self, quantity):\n",
        "        self.amount += quantity\n",
        "        self.total = self.amount * self.price\n",
        "\n",
        "    @staticmethod\n",
        "    def show_current_price(ticker):\n",
        "        current = 10\n",
        "        print(current)\n",
        "\n",
        "    @classmethod\n",
        "    def from_string(cls, string): # crea un método de clase\n",
        "        ticker, amount, price = string.split()\n",
        "        return cls(ticker, int(amount), float(price))"
      ],
      "metadata": {
        "id": "4LIL3RFTr94G"
      },
      "execution_count": 5,
      "outputs": []
    },
    {
      "cell_type": "code",
      "source": [
        "# construimos la clase padre\n",
        "class Character:\n",
        "    def __init__(self, name):\n",
        "        self.name = name\n",
        "        self.health = 100\n",
        "\n",
        "    def heal(self, value:int=20):\n",
        "        self.health += value\n",
        "\n",
        "    def learn(self, value:int=20):\n",
        "        self.knowledge += value\n",
        "\n",
        "# la clase hijo agrega atributos específicos\n",
        "class Knight(Character):\n",
        "    def __init__(self, name):\n",
        "        Character.__init__(self, name) # se hereda el constructor de la clase padre\n",
        "        self.damage = 25 # atributo añadido\n",
        "        self.knowledge = 20 # atributo añadido\n",
        "\n",
        "# una clase más\n",
        "class Peasant(Character):\n",
        "    def __init__(self, name):\n",
        "        super().__init__(name) # otra forma de heredar el constructor de la clase padre\n",
        "        self.damage = 10\n",
        "        self.knowledge = 36\n",
        "\n",
        "arthur = Knight('Arthur')\n",
        "arthur.heal() # se utiliza el valor predeterminado\n",
        "arthur.learn(100) # valor personalizado\n",
        "print(arthur.__dict__)"
      ],
      "metadata": {
        "colab": {
          "base_uri": "https://localhost:8080/"
        },
        "id": "4cK9M9JStNfi",
        "outputId": "0bb9fccf-f546-4454-da3c-8386e83ec9f2"
      },
      "execution_count": 6,
      "outputs": [
        {
          "output_type": "stream",
          "name": "stdout",
          "text": [
            "{'name': 'Arthur', 'health': 120, 'damage': 25, 'knowledge': 120}\n"
          ]
        }
      ]
    }
  ]
}